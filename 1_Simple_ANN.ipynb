{
  "cells": [
    {
      "cell_type": "code",
      "execution_count": null,
      "metadata": {},
      "outputs": [],
      "source": [
        "# %pip install -q pandas scikit-learn torch matplotlib"
      ]
    },
    {
      "cell_type": "markdown",
      "metadata": {
        "id": "jquP8CXqHu1U"
      },
      "source": [
        "## Imports"
      ]
    },
    {
      "cell_type": "code",
      "execution_count": 1,
      "metadata": {
        "id": "jcNYXuMvJgpV"
      },
      "outputs": [],
      "source": [
        "import pandas as pd\n",
        "from sklearn.model_selection import train_test_split\n",
        "import torch\n",
        "import torch.nn as nn\n",
        "import torch.optim as optim\n",
        "from torch.utils.data import Dataset, DataLoader\n",
        "import matplotlib.pyplot as plt"
      ]
    },
    {
      "cell_type": "markdown",
      "metadata": {
        "id": "e0IACHb9HjQb"
      },
      "source": [
        "## Data Ingestion"
      ]
    },
    {
      "cell_type": "code",
      "execution_count": 2,
      "metadata": {
        "colab": {
          "base_uri": "https://localhost:8080/"
        },
        "id": "9IUjbIDwEcwy",
        "outputId": "7c51d72c-644a-46c1-a0a2-2affa1340236"
      },
      "outputs": [
        {
          "data": {
            "text/plain": [
              "<torch._C.Generator at 0x7acacbbfb650>"
            ]
          },
          "execution_count": 2,
          "metadata": {},
          "output_type": "execute_result"
        }
      ],
      "source": [
        "# setting random seeds for reproducibility\n",
        "torch.manual_seed(42)"
      ]
    },
    {
      "cell_type": "code",
      "execution_count": 3,
      "metadata": {
        "colab": {
          "base_uri": "https://localhost:8080/",
          "height": 274
        },
        "id": "A1MjiEEGEk1m",
        "outputId": "f74324a7-812e-4e5f-c40a-802ace185ea1"
      },
      "outputs": [
        {
          "name": "stdout",
          "output_type": "stream",
          "text": [
            "shape: (6000, 785)\n"
          ]
        },
        {
          "data": {
            "application/vnd.google.colaboratory.intrinsic+json": {
              "type": "dataframe",
              "variable_name": "df"
            },
            "text/html": [
              "\n",
              "  <div id=\"df-46874f22-7946-4c06-8a27-5fe3295c8813\" class=\"colab-df-container\">\n",
              "    <div>\n",
              "<style scoped>\n",
              "    .dataframe tbody tr th:only-of-type {\n",
              "        vertical-align: middle;\n",
              "    }\n",
              "\n",
              "    .dataframe tbody tr th {\n",
              "        vertical-align: top;\n",
              "    }\n",
              "\n",
              "    .dataframe thead th {\n",
              "        text-align: right;\n",
              "    }\n",
              "</style>\n",
              "<table border=\"1\" class=\"dataframe\">\n",
              "  <thead>\n",
              "    <tr style=\"text-align: right;\">\n",
              "      <th></th>\n",
              "      <th>label</th>\n",
              "      <th>pixel1</th>\n",
              "      <th>pixel2</th>\n",
              "      <th>pixel3</th>\n",
              "      <th>pixel4</th>\n",
              "      <th>pixel5</th>\n",
              "      <th>pixel6</th>\n",
              "      <th>pixel7</th>\n",
              "      <th>pixel8</th>\n",
              "      <th>pixel9</th>\n",
              "      <th>...</th>\n",
              "      <th>pixel775</th>\n",
              "      <th>pixel776</th>\n",
              "      <th>pixel777</th>\n",
              "      <th>pixel778</th>\n",
              "      <th>pixel779</th>\n",
              "      <th>pixel780</th>\n",
              "      <th>pixel781</th>\n",
              "      <th>pixel782</th>\n",
              "      <th>pixel783</th>\n",
              "      <th>pixel784</th>\n",
              "    </tr>\n",
              "  </thead>\n",
              "  <tbody>\n",
              "    <tr>\n",
              "      <th>0</th>\n",
              "      <td>9</td>\n",
              "      <td>0</td>\n",
              "      <td>0</td>\n",
              "      <td>0</td>\n",
              "      <td>0</td>\n",
              "      <td>0</td>\n",
              "      <td>0</td>\n",
              "      <td>0</td>\n",
              "      <td>0</td>\n",
              "      <td>0</td>\n",
              "      <td>...</td>\n",
              "      <td>0</td>\n",
              "      <td>7</td>\n",
              "      <td>0</td>\n",
              "      <td>50</td>\n",
              "      <td>205</td>\n",
              "      <td>196</td>\n",
              "      <td>213</td>\n",
              "      <td>165</td>\n",
              "      <td>0</td>\n",
              "      <td>0</td>\n",
              "    </tr>\n",
              "    <tr>\n",
              "      <th>1</th>\n",
              "      <td>7</td>\n",
              "      <td>0</td>\n",
              "      <td>0</td>\n",
              "      <td>0</td>\n",
              "      <td>0</td>\n",
              "      <td>0</td>\n",
              "      <td>0</td>\n",
              "      <td>0</td>\n",
              "      <td>0</td>\n",
              "      <td>0</td>\n",
              "      <td>...</td>\n",
              "      <td>0</td>\n",
              "      <td>0</td>\n",
              "      <td>0</td>\n",
              "      <td>0</td>\n",
              "      <td>0</td>\n",
              "      <td>0</td>\n",
              "      <td>0</td>\n",
              "      <td>0</td>\n",
              "      <td>0</td>\n",
              "      <td>0</td>\n",
              "    </tr>\n",
              "    <tr>\n",
              "      <th>2</th>\n",
              "      <td>0</td>\n",
              "      <td>0</td>\n",
              "      <td>0</td>\n",
              "      <td>0</td>\n",
              "      <td>0</td>\n",
              "      <td>0</td>\n",
              "      <td>1</td>\n",
              "      <td>0</td>\n",
              "      <td>0</td>\n",
              "      <td>0</td>\n",
              "      <td>...</td>\n",
              "      <td>142</td>\n",
              "      <td>142</td>\n",
              "      <td>142</td>\n",
              "      <td>21</td>\n",
              "      <td>0</td>\n",
              "      <td>3</td>\n",
              "      <td>0</td>\n",
              "      <td>0</td>\n",
              "      <td>0</td>\n",
              "      <td>0</td>\n",
              "    </tr>\n",
              "    <tr>\n",
              "      <th>3</th>\n",
              "      <td>8</td>\n",
              "      <td>0</td>\n",
              "      <td>0</td>\n",
              "      <td>0</td>\n",
              "      <td>0</td>\n",
              "      <td>0</td>\n",
              "      <td>0</td>\n",
              "      <td>0</td>\n",
              "      <td>0</td>\n",
              "      <td>0</td>\n",
              "      <td>...</td>\n",
              "      <td>0</td>\n",
              "      <td>0</td>\n",
              "      <td>0</td>\n",
              "      <td>0</td>\n",
              "      <td>0</td>\n",
              "      <td>0</td>\n",
              "      <td>0</td>\n",
              "      <td>0</td>\n",
              "      <td>0</td>\n",
              "      <td>0</td>\n",
              "    </tr>\n",
              "    <tr>\n",
              "      <th>4</th>\n",
              "      <td>8</td>\n",
              "      <td>0</td>\n",
              "      <td>0</td>\n",
              "      <td>0</td>\n",
              "      <td>0</td>\n",
              "      <td>0</td>\n",
              "      <td>0</td>\n",
              "      <td>0</td>\n",
              "      <td>0</td>\n",
              "      <td>0</td>\n",
              "      <td>...</td>\n",
              "      <td>213</td>\n",
              "      <td>203</td>\n",
              "      <td>174</td>\n",
              "      <td>151</td>\n",
              "      <td>188</td>\n",
              "      <td>10</td>\n",
              "      <td>0</td>\n",
              "      <td>0</td>\n",
              "      <td>0</td>\n",
              "      <td>0</td>\n",
              "    </tr>\n",
              "  </tbody>\n",
              "</table>\n",
              "<p>5 rows × 785 columns</p>\n",
              "</div>\n",
              "    <div class=\"colab-df-buttons\">\n",
              "\n",
              "  <div class=\"colab-df-container\">\n",
              "    <button class=\"colab-df-convert\" onclick=\"convertToInteractive('df-46874f22-7946-4c06-8a27-5fe3295c8813')\"\n",
              "            title=\"Convert this dataframe to an interactive table.\"\n",
              "            style=\"display:none;\">\n",
              "\n",
              "  <svg xmlns=\"http://www.w3.org/2000/svg\" height=\"24px\" viewBox=\"0 -960 960 960\">\n",
              "    <path d=\"M120-120v-720h720v720H120Zm60-500h600v-160H180v160Zm220 220h160v-160H400v160Zm0 220h160v-160H400v160ZM180-400h160v-160H180v160Zm440 0h160v-160H620v160ZM180-180h160v-160H180v160Zm440 0h160v-160H620v160Z\"/>\n",
              "  </svg>\n",
              "    </button>\n",
              "\n",
              "  <style>\n",
              "    .colab-df-container {\n",
              "      display:flex;\n",
              "      gap: 12px;\n",
              "    }\n",
              "\n",
              "    .colab-df-convert {\n",
              "      background-color: #E8F0FE;\n",
              "      border: none;\n",
              "      border-radius: 50%;\n",
              "      cursor: pointer;\n",
              "      display: none;\n",
              "      fill: #1967D2;\n",
              "      height: 32px;\n",
              "      padding: 0 0 0 0;\n",
              "      width: 32px;\n",
              "    }\n",
              "\n",
              "    .colab-df-convert:hover {\n",
              "      background-color: #E2EBFA;\n",
              "      box-shadow: 0px 1px 2px rgba(60, 64, 67, 0.3), 0px 1px 3px 1px rgba(60, 64, 67, 0.15);\n",
              "      fill: #174EA6;\n",
              "    }\n",
              "\n",
              "    .colab-df-buttons div {\n",
              "      margin-bottom: 4px;\n",
              "    }\n",
              "\n",
              "    [theme=dark] .colab-df-convert {\n",
              "      background-color: #3B4455;\n",
              "      fill: #D2E3FC;\n",
              "    }\n",
              "\n",
              "    [theme=dark] .colab-df-convert:hover {\n",
              "      background-color: #434B5C;\n",
              "      box-shadow: 0px 1px 3px 1px rgba(0, 0, 0, 0.15);\n",
              "      filter: drop-shadow(0px 1px 2px rgba(0, 0, 0, 0.3));\n",
              "      fill: #FFFFFF;\n",
              "    }\n",
              "  </style>\n",
              "\n",
              "    <script>\n",
              "      const buttonEl =\n",
              "        document.querySelector('#df-46874f22-7946-4c06-8a27-5fe3295c8813 button.colab-df-convert');\n",
              "      buttonEl.style.display =\n",
              "        google.colab.kernel.accessAllowed ? 'block' : 'none';\n",
              "\n",
              "      async function convertToInteractive(key) {\n",
              "        const element = document.querySelector('#df-46874f22-7946-4c06-8a27-5fe3295c8813');\n",
              "        const dataTable =\n",
              "          await google.colab.kernel.invokeFunction('convertToInteractive',\n",
              "                                                    [key], {});\n",
              "        if (!dataTable) return;\n",
              "\n",
              "        const docLinkHtml = 'Like what you see? Visit the ' +\n",
              "          '<a target=\"_blank\" href=https://colab.research.google.com/notebooks/data_table.ipynb>data table notebook</a>'\n",
              "          + ' to learn more about interactive tables.';\n",
              "        element.innerHTML = '';\n",
              "        dataTable['output_type'] = 'display_data';\n",
              "        await google.colab.output.renderOutput(dataTable, element);\n",
              "        const docLink = document.createElement('div');\n",
              "        docLink.innerHTML = docLinkHtml;\n",
              "        element.appendChild(docLink);\n",
              "      }\n",
              "    </script>\n",
              "  </div>\n",
              "\n",
              "\n",
              "    <div id=\"df-98754ee0-c11a-40f2-8ecb-9b2a8a31835a\">\n",
              "      <button class=\"colab-df-quickchart\" onclick=\"quickchart('df-98754ee0-c11a-40f2-8ecb-9b2a8a31835a')\"\n",
              "                title=\"Suggest charts\"\n",
              "                style=\"display:none;\">\n",
              "\n",
              "<svg xmlns=\"http://www.w3.org/2000/svg\" height=\"24px\"viewBox=\"0 0 24 24\"\n",
              "     width=\"24px\">\n",
              "    <g>\n",
              "        <path d=\"M19 3H5c-1.1 0-2 .9-2 2v14c0 1.1.9 2 2 2h14c1.1 0 2-.9 2-2V5c0-1.1-.9-2-2-2zM9 17H7v-7h2v7zm4 0h-2V7h2v10zm4 0h-2v-4h2v4z\"/>\n",
              "    </g>\n",
              "</svg>\n",
              "      </button>\n",
              "\n",
              "<style>\n",
              "  .colab-df-quickchart {\n",
              "      --bg-color: #E8F0FE;\n",
              "      --fill-color: #1967D2;\n",
              "      --hover-bg-color: #E2EBFA;\n",
              "      --hover-fill-color: #174EA6;\n",
              "      --disabled-fill-color: #AAA;\n",
              "      --disabled-bg-color: #DDD;\n",
              "  }\n",
              "\n",
              "  [theme=dark] .colab-df-quickchart {\n",
              "      --bg-color: #3B4455;\n",
              "      --fill-color: #D2E3FC;\n",
              "      --hover-bg-color: #434B5C;\n",
              "      --hover-fill-color: #FFFFFF;\n",
              "      --disabled-bg-color: #3B4455;\n",
              "      --disabled-fill-color: #666;\n",
              "  }\n",
              "\n",
              "  .colab-df-quickchart {\n",
              "    background-color: var(--bg-color);\n",
              "    border: none;\n",
              "    border-radius: 50%;\n",
              "    cursor: pointer;\n",
              "    display: none;\n",
              "    fill: var(--fill-color);\n",
              "    height: 32px;\n",
              "    padding: 0;\n",
              "    width: 32px;\n",
              "  }\n",
              "\n",
              "  .colab-df-quickchart:hover {\n",
              "    background-color: var(--hover-bg-color);\n",
              "    box-shadow: 0 1px 2px rgba(60, 64, 67, 0.3), 0 1px 3px 1px rgba(60, 64, 67, 0.15);\n",
              "    fill: var(--button-hover-fill-color);\n",
              "  }\n",
              "\n",
              "  .colab-df-quickchart-complete:disabled,\n",
              "  .colab-df-quickchart-complete:disabled:hover {\n",
              "    background-color: var(--disabled-bg-color);\n",
              "    fill: var(--disabled-fill-color);\n",
              "    box-shadow: none;\n",
              "  }\n",
              "\n",
              "  .colab-df-spinner {\n",
              "    border: 2px solid var(--fill-color);\n",
              "    border-color: transparent;\n",
              "    border-bottom-color: var(--fill-color);\n",
              "    animation:\n",
              "      spin 1s steps(1) infinite;\n",
              "  }\n",
              "\n",
              "  @keyframes spin {\n",
              "    0% {\n",
              "      border-color: transparent;\n",
              "      border-bottom-color: var(--fill-color);\n",
              "      border-left-color: var(--fill-color);\n",
              "    }\n",
              "    20% {\n",
              "      border-color: transparent;\n",
              "      border-left-color: var(--fill-color);\n",
              "      border-top-color: var(--fill-color);\n",
              "    }\n",
              "    30% {\n",
              "      border-color: transparent;\n",
              "      border-left-color: var(--fill-color);\n",
              "      border-top-color: var(--fill-color);\n",
              "      border-right-color: var(--fill-color);\n",
              "    }\n",
              "    40% {\n",
              "      border-color: transparent;\n",
              "      border-right-color: var(--fill-color);\n",
              "      border-top-color: var(--fill-color);\n",
              "    }\n",
              "    60% {\n",
              "      border-color: transparent;\n",
              "      border-right-color: var(--fill-color);\n",
              "    }\n",
              "    80% {\n",
              "      border-color: transparent;\n",
              "      border-right-color: var(--fill-color);\n",
              "      border-bottom-color: var(--fill-color);\n",
              "    }\n",
              "    90% {\n",
              "      border-color: transparent;\n",
              "      border-bottom-color: var(--fill-color);\n",
              "    }\n",
              "  }\n",
              "</style>\n",
              "\n",
              "      <script>\n",
              "        async function quickchart(key) {\n",
              "          const quickchartButtonEl =\n",
              "            document.querySelector('#' + key + ' button');\n",
              "          quickchartButtonEl.disabled = true;  // To prevent multiple clicks.\n",
              "          quickchartButtonEl.classList.add('colab-df-spinner');\n",
              "          try {\n",
              "            const charts = await google.colab.kernel.invokeFunction(\n",
              "                'suggestCharts', [key], {});\n",
              "          } catch (error) {\n",
              "            console.error('Error during call to suggestCharts:', error);\n",
              "          }\n",
              "          quickchartButtonEl.classList.remove('colab-df-spinner');\n",
              "          quickchartButtonEl.classList.add('colab-df-quickchart-complete');\n",
              "        }\n",
              "        (() => {\n",
              "          let quickchartButtonEl =\n",
              "            document.querySelector('#df-98754ee0-c11a-40f2-8ecb-9b2a8a31835a button');\n",
              "          quickchartButtonEl.style.display =\n",
              "            google.colab.kernel.accessAllowed ? 'block' : 'none';\n",
              "        })();\n",
              "      </script>\n",
              "    </div>\n",
              "\n",
              "    </div>\n",
              "  </div>\n"
            ],
            "text/plain": [
              "   label  pixel1  pixel2  pixel3  pixel4  pixel5  pixel6  pixel7  pixel8  \\\n",
              "0      9       0       0       0       0       0       0       0       0   \n",
              "1      7       0       0       0       0       0       0       0       0   \n",
              "2      0       0       0       0       0       0       1       0       0   \n",
              "3      8       0       0       0       0       0       0       0       0   \n",
              "4      8       0       0       0       0       0       0       0       0   \n",
              "\n",
              "   pixel9  ...  pixel775  pixel776  pixel777  pixel778  pixel779  pixel780  \\\n",
              "0       0  ...         0         7         0        50       205       196   \n",
              "1       0  ...         0         0         0         0         0         0   \n",
              "2       0  ...       142       142       142        21         0         3   \n",
              "3       0  ...         0         0         0         0         0         0   \n",
              "4       0  ...       213       203       174       151       188        10   \n",
              "\n",
              "   pixel781  pixel782  pixel783  pixel784  \n",
              "0       213       165         0         0  \n",
              "1         0         0         0         0  \n",
              "2         0         0         0         0  \n",
              "3         0         0         0         0  \n",
              "4         0         0         0         0  \n",
              "\n",
              "[5 rows x 785 columns]"
            ]
          },
          "execution_count": 3,
          "metadata": {},
          "output_type": "execute_result"
        }
      ],
      "source": [
        "df = pd.read_csv(\"/content/fmnist_small.csv\")\n",
        "print(f\"shape: {df.shape}\")\n",
        "df.head()"
      ]
    },
    {
      "cell_type": "code",
      "execution_count": 4,
      "metadata": {
        "colab": {
          "base_uri": "https://localhost:8080/",
          "height": 590
        },
        "id": "bZe_WjvDEvKq",
        "outputId": "52e8a012-9f1e-4f8b-fae1-957001f95595"
      },
      "outputs": [
        {
          "data": {
            "image/png": "[encoded data removed]",
            "text/plain": [
              "<Figure size 1200x600 with 10 Axes>"
            ]
          },
          "metadata": {},
          "output_type": "display_data"
        }
      ],
      "source": [
        "fig, axes = plt.subplots(2, 5, figsize=(12, 6))\n",
        "fig.suptitle(\"One Example per Class\", fontsize=16)\n",
        "\n",
        "# Loop through each class (0–9)\n",
        "for cls, ax in enumerate(axes.flat):\n",
        "    # Pick the first sample of this class\n",
        "    img_row = df[df.iloc[:, 0] == cls].iloc[0]\n",
        "    img = img_row[1:].values.reshape(28, 28)\n",
        "\n",
        "    # Show the image\n",
        "    ax.imshow(img, cmap=\"viridis\")   # or \"plasma\", \"inferno\", \"gray\"\n",
        "    ax.axis(\"off\")\n",
        "    ax.set_title(f\"Label: {cls}\")\n",
        "\n",
        "plt.tight_layout(rect=[0, 0, 1, 0.96])\n",
        "plt.show()"
      ]
    },
    {
      "cell_type": "code",
      "execution_count": 5,
      "metadata": {
        "id": "rxZkCmDbFKcO"
      },
      "outputs": [],
      "source": [
        "X = df.iloc[:, 1:].values\n",
        "y = df.iloc[:, 0].values"
      ]
    },
    {
      "cell_type": "code",
      "execution_count": 6,
      "metadata": {
        "id": "WzyzNKShFHT-"
      },
      "outputs": [],
      "source": [
        "X_train, X_test, y_train, y_test = train_test_split(X, y, test_size=0.2, random_state=42)"
      ]
    },
    {
      "cell_type": "code",
      "execution_count": 7,
      "metadata": {
        "id": "ccJnpmM9FZnJ"
      },
      "outputs": [],
      "source": [
        "# scaling the feautures\n",
        "X_train = X_train/255.0\n",
        "X_test = X_test/255.0"
      ]
    },
    {
      "cell_type": "code",
      "execution_count": 8,
      "metadata": {
        "colab": {
          "base_uri": "https://localhost:8080/"
        },
        "id": "wbNJFN1wFeGE",
        "outputId": "b79eb1ed-f51c-4c33-e82c-588321ace4ba"
      },
      "outputs": [
        {
          "data": {
            "text/plain": [
              "array([[0.       , 0.       , 0.       , ..., 0.       , 0.       ,\n",
              "        0.       ],\n",
              "       [0.       , 0.       , 0.       , ..., 0.       , 0.       ,\n",
              "        0.       ],\n",
              "       [0.       , 0.       , 0.       , ..., 0.       , 0.       ,\n",
              "        0.       ],\n",
              "       ...,\n",
              "       [0.       , 0.       , 0.       , ..., 0.       , 0.       ,\n",
              "        0.       ],\n",
              "       [0.       , 0.       , 0.       , ..., 0.       , 0.       ,\n",
              "        0.       ],\n",
              "       [0.       , 0.       , 0.       , ..., 0.0627451, 0.       ,\n",
              "        0.       ]])"
            ]
          },
          "execution_count": 8,
          "metadata": {},
          "output_type": "execute_result"
        }
      ],
      "source": [
        "X_train"
      ]
    },
    {
      "cell_type": "code",
      "execution_count": 9,
      "metadata": {
        "id": "hl550LMyFgOS"
      },
      "outputs": [],
      "source": [
        "# create CustomDataset Class\n",
        "\n",
        "class  CustomDataset(Dataset):\n",
        "    def __init__(self, features, labels):\n",
        "        self.features = torch.tensor(features, dtype=torch.float32) # In PT, usually, features are expected to be of float32 type\n",
        "        self.labels = torch.tensor(labels, dtype=torch.long) # In PT, usually, labels are expected to be of long type\n",
        "\n",
        "    def __len__(self):\n",
        "        return len(self.features)\n",
        "\n",
        "    def __getitem__(self, idx):\n",
        "        return self.features[idx], self.labels[idx]"
      ]
    },
    {
      "cell_type": "code",
      "execution_count": 10,
      "metadata": {
        "id": "a7FZrOozGaem"
      },
      "outputs": [],
      "source": [
        "# create train_dataset object\n",
        "train_dataset = CustomDataset(X_train, y_train)"
      ]
    },
    {
      "cell_type": "code",
      "execution_count": 11,
      "metadata": {
        "colab": {
          "base_uri": "https://localhost:8080/"
        },
        "id": "yFpzRmfyGwVQ",
        "outputId": "42025234-4ae8-438b-d392-f72e3b7a8aa2"
      },
      "outputs": [
        {
          "data": {
            "text/plain": [
              "4800"
            ]
          },
          "execution_count": 11,
          "metadata": {},
          "output_type": "execute_result"
        }
      ],
      "source": [
        "len(train_dataset)"
      ]
    },
    {
      "cell_type": "code",
      "execution_count": 12,
      "metadata": {
        "id": "e9wiMcx9G59Z"
      },
      "outputs": [],
      "source": [
        "# create test_dataset object\n",
        "test_dataset = CustomDataset(X_test, y_test)"
      ]
    },
    {
      "cell_type": "code",
      "execution_count": 13,
      "metadata": {
        "colab": {
          "base_uri": "https://localhost:8080/"
        },
        "id": "2JQxAT1hHHTO",
        "outputId": "192c617f-e9ab-4681-92a6-9a8635b34ed9"
      },
      "outputs": [
        {
          "data": {
            "text/plain": [
              "1200"
            ]
          },
          "execution_count": 13,
          "metadata": {},
          "output_type": "execute_result"
        }
      ],
      "source": [
        "len(test_dataset)"
      ]
    },
    {
      "cell_type": "code",
      "execution_count": 14,
      "metadata": {
        "id": "X5FUf6A-HJUm"
      },
      "outputs": [],
      "source": [
        "# create train and test loaders\n",
        "\n",
        "batch_size = 32\n",
        "train_loader = DataLoader(train_dataset, batch_size=batch_size, shuffle=True)\n",
        "test_loader = DataLoader(test_dataset, batch_size=batch_size, shuffle=False)"
      ]
    },
    {
      "cell_type": "markdown",
      "metadata": {
        "id": "2SV1D4qXHzcs"
      },
      "source": [
        "## ANN Design"
      ]
    },
    {
      "cell_type": "code",
      "execution_count": 15,
      "metadata": {
        "id": "5VU7vZm1HTNL"
      },
      "outputs": [],
      "source": [
        "class ANN(nn.Module):\n",
        "    def __init__(self, input_features):\n",
        "        super().__init__()\n",
        "        self.model = nn.Sequential(\n",
        "            nn.Linear(in_features=input_features, out_features=128),\n",
        "            nn.ReLU(),\n",
        "            nn.Linear(in_features=128, out_features=64),\n",
        "            nn.ReLU(),\n",
        "            nn.Linear(in_features=64, out_features=10),\n",
        "            # Softmax is not strictly necessary to implement in the output layer of a neural network\n",
        "            # when using frameworks like TensorFlow or PyTorch because the cross-entropy loss functions\n",
        "            # often internally incorporate the softmax calculation for numerical stability and efficiency.\n",
        "        )\n",
        "\n",
        "    def forward(self, X):\n",
        "        \"\"\"\n",
        "        In PyTorch, when a torch.nn.Module instance is created, it becomes callable\n",
        "        directly like a function. This is because the `__call__` method is implemented\n",
        "        within the `torch.nn.Module` class, which handles the necessary setup and then\n",
        "        internally invokes the forward method that you define.\n",
        "        \"\"\"\n",
        "        return self.model(X)"
      ]
    },
    {
      "cell_type": "markdown",
      "metadata": {
        "id": "ze4YhenIQvts"
      },
      "source": [
        "## Training ANN"
      ]
    },
    {
      "cell_type": "code",
      "execution_count": 16,
      "metadata": {
        "id": "YLbALGmjKVFr"
      },
      "outputs": [],
      "source": [
        "# set HyperParameters\n",
        "epochs = 100\n",
        "learning_rate = 0.1"
      ]
    },
    {
      "cell_type": "code",
      "execution_count": 17,
      "metadata": {
        "id": "0zFip2v7Khnx"
      },
      "outputs": [],
      "source": [
        "# instantiate the model\n",
        "model = ANN(input_features=X_train.shape[1])\n",
        "\n",
        "# define loss fn\n",
        "loss_fn = nn.CrossEntropyLoss()\n",
        "\n",
        "# define optimizer\n",
        "optimizer = optim.SGD(model.parameters(), lr=learning_rate)"
      ]
    },
    {
      "cell_type": "code",
      "execution_count": 18,
      "metadata": {
        "colab": {
          "base_uri": "https://localhost:8080/"
        },
        "id": "yz0-24YuLJMd",
        "outputId": "af9a6599-102c-494e-b3d3-196a2175db2e"
      },
      "outputs": [
        {
          "name": "stdout",
          "output_type": "stream",
          "text": [
            "Epoch 1/100, Loss: 1.3216368440786999\n",
            "Epoch 2/100, Loss: 0.7793365436792373\n",
            "Epoch 3/100, Loss: 0.6427524652083715\n",
            "Epoch 4/100, Loss: 0.5751657336950302\n",
            "Epoch 5/100, Loss: 0.528180201848348\n",
            "Epoch 6/100, Loss: 0.49528750121593473\n",
            "Epoch 7/100, Loss: 0.4602432996034622\n",
            "Epoch 8/100, Loss: 0.4359459094206492\n",
            "Epoch 9/100, Loss: 0.41829214423894884\n",
            "Epoch 10/100, Loss: 0.3984092291692893\n",
            "Epoch 11/100, Loss: 0.3850264506538709\n",
            "Epoch 12/100, Loss: 0.3722685620188713\n",
            "Epoch 13/100, Loss: 0.3477362078428268\n",
            "Epoch 14/100, Loss: 0.3467242218057315\n",
            "Epoch 15/100, Loss: 0.3138812760512034\n",
            "Epoch 16/100, Loss: 0.3126461291313171\n",
            "Epoch 17/100, Loss: 0.29552092105150224\n",
            "Epoch 18/100, Loss: 0.2857150869568189\n",
            "Epoch 19/100, Loss: 0.27084775785605114\n",
            "Epoch 20/100, Loss: 0.26237100958824155\n",
            "Epoch 21/100, Loss: 0.25756089876095456\n",
            "Epoch 22/100, Loss: 0.24232648963729542\n",
            "Epoch 23/100, Loss: 0.23957946779827277\n",
            "Epoch 24/100, Loss: 0.2261324493587017\n",
            "Epoch 25/100, Loss: 0.2233684351791938\n",
            "Epoch 26/100, Loss: 0.21165308925012746\n",
            "Epoch 27/100, Loss: 0.21910773759086927\n",
            "Epoch 28/100, Loss: 0.21103892110288144\n",
            "Epoch 29/100, Loss: 0.18156708138684433\n",
            "Epoch 30/100, Loss: 0.18886244976272185\n",
            "Epoch 31/100, Loss: 0.19120197057723998\n",
            "Epoch 32/100, Loss: 0.1914620167016983\n",
            "Epoch 33/100, Loss: 0.1758678053940336\n",
            "Epoch 34/100, Loss: 0.17788761181135973\n",
            "Epoch 35/100, Loss: 0.157662669159472\n",
            "Epoch 36/100, Loss: 0.16680870349208513\n",
            "Epoch 37/100, Loss: 0.15528808721651632\n",
            "Epoch 38/100, Loss: 0.14431856885552408\n",
            "Epoch 39/100, Loss: 0.1442228495577971\n",
            "Epoch 40/100, Loss: 0.13288619516184552\n",
            "Epoch 41/100, Loss: 0.135676580692331\n",
            "Epoch 42/100, Loss: 0.14467643752383688\n",
            "Epoch 43/100, Loss: 0.12461728240052859\n",
            "Epoch 44/100, Loss: 0.12559822227805853\n",
            "Epoch 45/100, Loss: 0.10866230014711618\n",
            "Epoch 46/100, Loss: 0.12954869902382293\n",
            "Epoch 47/100, Loss: 0.11017234543959299\n",
            "Epoch 48/100, Loss: 0.11515208431830008\n",
            "Epoch 49/100, Loss: 0.10039059857216974\n",
            "Epoch 50/100, Loss: 0.10084663986538847\n",
            "Epoch 51/100, Loss: 0.08974190000444651\n",
            "Epoch 52/100, Loss: 0.08475546677752087\n",
            "Epoch 53/100, Loss: 0.09427098215247194\n",
            "Epoch 54/100, Loss: 0.09268801522130768\n",
            "Epoch 55/100, Loss: 0.0918927800298358\n",
            "Epoch 56/100, Loss: 0.0889479945662121\n",
            "Epoch 57/100, Loss: 0.07283928324778875\n",
            "Epoch 58/100, Loss: 0.08935849150953193\n",
            "Epoch 59/100, Loss: 0.07462442129229506\n",
            "Epoch 60/100, Loss: 0.0789726735604927\n",
            "Epoch 61/100, Loss: 0.08824706799350679\n",
            "Epoch 62/100, Loss: 0.06006458135942618\n",
            "Epoch 63/100, Loss: 0.08791264206171036\n",
            "Epoch 64/100, Loss: 0.22559133859351277\n",
            "Epoch 65/100, Loss: 0.09637079646190007\n",
            "Epoch 66/100, Loss: 0.11621116815755765\n",
            "Epoch 67/100, Loss: 0.07865453423000872\n",
            "Epoch 68/100, Loss: 0.06934662629850209\n",
            "Epoch 69/100, Loss: 0.07031679789690921\n",
            "Epoch 70/100, Loss: 0.05125938480564703\n",
            "Epoch 71/100, Loss: 0.05311573015681158\n",
            "Epoch 72/100, Loss: 0.04880531335094323\n",
            "Epoch 73/100, Loss: 0.04703562020789832\n",
            "Epoch 74/100, Loss: 0.040777511660320065\n",
            "Epoch 75/100, Loss: 0.04819046132111301\n",
            "Epoch 76/100, Loss: 0.03072676162390659\n",
            "Epoch 77/100, Loss: 0.032312645499284066\n",
            "Epoch 78/100, Loss: 0.03567005050523828\n",
            "Epoch 79/100, Loss: 0.029893570366936427\n",
            "Epoch 80/100, Loss: 0.023853825814827968\n",
            "Epoch 81/100, Loss: 0.048085718614359695\n",
            "Epoch 82/100, Loss: 0.033158210010733456\n",
            "Epoch 83/100, Loss: 0.03151849518840512\n",
            "Epoch 84/100, Loss: 0.022204163090015452\n",
            "Epoch 85/100, Loss: 0.07666023984357405\n",
            "Epoch 86/100, Loss: 0.06685945079972347\n",
            "Epoch 87/100, Loss: 0.018734083388311167\n",
            "Epoch 88/100, Loss: 0.017389200692608332\n",
            "Epoch 89/100, Loss: 0.021070881032307323\n",
            "Epoch 90/100, Loss: 0.06782017603516578\n",
            "Epoch 91/100, Loss: 0.03387275122338906\n",
            "Epoch 92/100, Loss: 0.030707686008730282\n",
            "Epoch 93/100, Loss: 0.013259945363582422\n",
            "Epoch 94/100, Loss: 0.04547278591625703\n",
            "Epoch 95/100, Loss: 0.020045689839559296\n",
            "Epoch 96/100, Loss: 0.021593706752949703\n",
            "Epoch 97/100, Loss: 0.012292747854177529\n",
            "Epoch 98/100, Loss: 0.00892297200523899\n",
            "Epoch 99/100, Loss: 0.009056749793817289\n",
            "Epoch 100/100, Loss: 0.008310633393703028\n"
          ]
        }
      ],
      "source": [
        "# The Training Loop\n",
        "for epoch in range(epochs):\n",
        "    epoch_loss = 0\n",
        "    for batch_features, batch_labels in train_loader:\n",
        "        # forward pass\n",
        "        outputs = model(batch_features)\n",
        "\n",
        "        # calculate loss\n",
        "        loss = loss_fn(outputs, batch_labels)\n",
        "\n",
        "        # backward pass\n",
        "        optimizer.zero_grad()\n",
        "        loss.backward()\n",
        "\n",
        "        # update weights\n",
        "        optimizer.step()\n",
        "\n",
        "        epoch_loss += loss.item()\n",
        "\n",
        "    print(f\"Epoch {epoch+1}/{epochs}, Loss: {epoch_loss/len(train_loader)}\")"
      ]
    },
    {
      "cell_type": "markdown",
      "metadata": {
        "id": "thJPqNvoQ0i4"
      },
      "source": [
        "## ANN Evaluation"
      ]
    },
    {
      "cell_type": "code",
      "execution_count": 19,
      "metadata": {
        "colab": {
          "base_uri": "https://localhost:8080/"
        },
        "id": "bqvsqutNOfxW",
        "outputId": "19776543-1353-48ec-d338-69027205c6c1"
      },
      "outputs": [
        {
          "data": {
            "text/plain": [
              "ANN(\n",
              "  (model): Sequential(\n",
              "    (0): Linear(in_features=784, out_features=128, bias=True)\n",
              "    (1): ReLU()\n",
              "    (2): Linear(in_features=128, out_features=64, bias=True)\n",
              "    (3): ReLU()\n",
              "    (4): Linear(in_features=64, out_features=10, bias=True)\n",
              "  )\n",
              ")"
            ]
          },
          "execution_count": 19,
          "metadata": {},
          "output_type": "execute_result"
        }
      ],
      "source": [
        "# set model to eval mode\n",
        "model.eval()"
      ]
    },
    {
      "cell_type": "code",
      "execution_count": 20,
      "metadata": {
        "colab": {
          "base_uri": "https://localhost:8080/"
        },
        "id": "FL8oqScaPy7z",
        "outputId": "6aa8a48b-89f7-4da4-a60d-c8f6be1ce669"
      },
      "outputs": [
        {
          "name": "stdout",
          "output_type": "stream",
          "text": [
            "Accuracy: 83.25\n"
          ]
        }
      ],
      "source": [
        "# evaluation code\n",
        "total = 0\n",
        "correct = 0\n",
        "\n",
        "with torch.no_grad():\n",
        "    for batch_features, batch_labels in test_loader:\n",
        "        outputs = model(batch_features)\n",
        "        _, predicted = torch.max(outputs.data, 1)\n",
        "        total += batch_labels.size(0)\n",
        "        correct += (predicted == batch_labels).sum().item()\n",
        "\n",
        "accuracy = round((correct/total)*100, 2)\n",
        "print(f\"Accuracy: {accuracy}\")"
      ]
    }
  ],
  "metadata": {
    "colab": {
      "provenance": []
    },
    "kernelspec": {
      "display_name": "Python 3",
      "name": "python3"
    },
    "language_info": {
      "name": "python"
    }
  },
  "nbformat": 4,
  "nbformat_minor": 0
}

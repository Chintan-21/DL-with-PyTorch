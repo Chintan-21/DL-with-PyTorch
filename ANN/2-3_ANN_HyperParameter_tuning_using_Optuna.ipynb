{
  "cells": [
    {
      "cell_type": "code",
      "execution_count": null,
      "metadata": {
        "id": "Zx4QEEKEAvEU"
      },
      "outputs": [],
      "source": [
        "# %pip install -q pandas scikit-learn torch matplotlib optuna"
      ]
    },
    {
      "cell_type": "markdown",
      "metadata": {
        "id": "jquP8CXqHu1U"
      },
      "source": [
        "## Imports"
      ]
    },
    {
      "cell_type": "code",
      "execution_count": 2,
      "metadata": {
        "id": "jcNYXuMvJgpV"
      },
      "outputs": [],
      "source": [
        "import pandas as pd\n",
        "from sklearn.model_selection import train_test_split\n",
        "import torch\n",
        "import torch.nn as nn\n",
        "import torch.optim as optim\n",
        "from torch.utils.data import Dataset, DataLoader\n",
        "import matplotlib.pyplot as plt\n",
        "import optuna\n",
        "from optuna.samplers import TPESampler\n",
        "from optuna.pruners import MedianPruner"
      ]
    },
    {
      "cell_type": "markdown",
      "metadata": {
        "id": "dHHkr4h7drvp"
      },
      "source": [
        "## Check for GPU"
      ]
    },
    {
      "cell_type": "code",
      "execution_count": 3,
      "metadata": {
        "colab": {
          "base_uri": "https://localhost:8080/"
        },
        "id": "XoNk4nKcdrjK",
        "outputId": "db7f1ae4-9429-4b8f-d7ec-4dd9f89b0f60"
      },
      "outputs": [
        {
          "name": "stdout",
          "output_type": "stream",
          "text": [
            "cuda\n"
          ]
        }
      ],
      "source": [
        "device = torch.device(\"cuda\" if torch.cuda.is_available() else \"cpu\")\n",
        "print(device)"
      ]
    },
    {
      "cell_type": "markdown",
      "metadata": {
        "id": "e0IACHb9HjQb"
      },
      "source": [
        "## Data Ingestion"
      ]
    },
    {
      "cell_type": "code",
      "execution_count": 4,
      "metadata": {
        "colab": {
          "base_uri": "https://localhost:8080/"
        },
        "id": "9IUjbIDwEcwy",
        "outputId": "1afb1f29-73a9-441f-e7b9-cd779ab7ccf7"
      },
      "outputs": [
        {
          "data": {
            "text/plain": [
              "<torch._C.Generator at 0x7c7e581577d0>"
            ]
          },
          "execution_count": 4,
          "metadata": {},
          "output_type": "execute_result"
        }
      ],
      "source": [
        "# setting random seeds for reproducibility\n",
        "torch.manual_seed(42)"
      ]
    },
    {
      "cell_type": "markdown",
      "metadata": {},
      "source": [
        "### Reading Dataset\n",
        "Download **Fashion MNIST** Dataset [here](https://www.kaggle.com/datasets/zalando-research/fashionmnist)"
      ]
    },
    {
      "cell_type": "code",
      "execution_count": 5,
      "metadata": {
        "colab": {
          "base_uri": "https://localhost:8080/",
          "height": 274
        },
        "id": "A1MjiEEGEk1m",
        "outputId": "947fce00-48e4-41d6-d099-fda9f03f632b"
      },
      "outputs": [
        {
          "name": "stdout",
          "output_type": "stream",
          "text": [
            "shape: (60000, 785)\n"
          ]
        },
        {
          "data": {
            "application/vnd.google.colaboratory.intrinsic+json": {
              "type": "dataframe",
              "variable_name": "df"
            },
            "text/html": [
              "\n",
              "  <div id=\"df-b8eee503-a7df-45a6-997d-5bf07878428e\" class=\"colab-df-container\">\n",
              "    <div>\n",
              "<style scoped>\n",
              "    .dataframe tbody tr th:only-of-type {\n",
              "        vertical-align: middle;\n",
              "    }\n",
              "\n",
              "    .dataframe tbody tr th {\n",
              "        vertical-align: top;\n",
              "    }\n",
              "\n",
              "    .dataframe thead th {\n",
              "        text-align: right;\n",
              "    }\n",
              "</style>\n",
              "<table border=\"1\" class=\"dataframe\">\n",
              "  <thead>\n",
              "    <tr style=\"text-align: right;\">\n",
              "      <th></th>\n",
              "      <th>label</th>\n",
              "      <th>pixel1</th>\n",
              "      <th>pixel2</th>\n",
              "      <th>pixel3</th>\n",
              "      <th>pixel4</th>\n",
              "      <th>pixel5</th>\n",
              "      <th>pixel6</th>\n",
              "      <th>pixel7</th>\n",
              "      <th>pixel8</th>\n",
              "      <th>pixel9</th>\n",
              "      <th>...</th>\n",
              "      <th>pixel775</th>\n",
              "      <th>pixel776</th>\n",
              "      <th>pixel777</th>\n",
              "      <th>pixel778</th>\n",
              "      <th>pixel779</th>\n",
              "      <th>pixel780</th>\n",
              "      <th>pixel781</th>\n",
              "      <th>pixel782</th>\n",
              "      <th>pixel783</th>\n",
              "      <th>pixel784</th>\n",
              "    </tr>\n",
              "  </thead>\n",
              "  <tbody>\n",
              "    <tr>\n",
              "      <th>0</th>\n",
              "      <td>2</td>\n",
              "      <td>0</td>\n",
              "      <td>0</td>\n",
              "      <td>0</td>\n",
              "      <td>0</td>\n",
              "      <td>0</td>\n",
              "      <td>0</td>\n",
              "      <td>0</td>\n",
              "      <td>0</td>\n",
              "      <td>0</td>\n",
              "      <td>...</td>\n",
              "      <td>0</td>\n",
              "      <td>0</td>\n",
              "      <td>0</td>\n",
              "      <td>0</td>\n",
              "      <td>0</td>\n",
              "      <td>0</td>\n",
              "      <td>0</td>\n",
              "      <td>0</td>\n",
              "      <td>0</td>\n",
              "      <td>0</td>\n",
              "    </tr>\n",
              "    <tr>\n",
              "      <th>1</th>\n",
              "      <td>9</td>\n",
              "      <td>0</td>\n",
              "      <td>0</td>\n",
              "      <td>0</td>\n",
              "      <td>0</td>\n",
              "      <td>0</td>\n",
              "      <td>0</td>\n",
              "      <td>0</td>\n",
              "      <td>0</td>\n",
              "      <td>0</td>\n",
              "      <td>...</td>\n",
              "      <td>0</td>\n",
              "      <td>0</td>\n",
              "      <td>0</td>\n",
              "      <td>0</td>\n",
              "      <td>0</td>\n",
              "      <td>0</td>\n",
              "      <td>0</td>\n",
              "      <td>0</td>\n",
              "      <td>0</td>\n",
              "      <td>0</td>\n",
              "    </tr>\n",
              "    <tr>\n",
              "      <th>2</th>\n",
              "      <td>6</td>\n",
              "      <td>0</td>\n",
              "      <td>0</td>\n",
              "      <td>0</td>\n",
              "      <td>0</td>\n",
              "      <td>0</td>\n",
              "      <td>0</td>\n",
              "      <td>0</td>\n",
              "      <td>5</td>\n",
              "      <td>0</td>\n",
              "      <td>...</td>\n",
              "      <td>0</td>\n",
              "      <td>0</td>\n",
              "      <td>0</td>\n",
              "      <td>30</td>\n",
              "      <td>43</td>\n",
              "      <td>0</td>\n",
              "      <td>0</td>\n",
              "      <td>0</td>\n",
              "      <td>0</td>\n",
              "      <td>0</td>\n",
              "    </tr>\n",
              "    <tr>\n",
              "      <th>3</th>\n",
              "      <td>0</td>\n",
              "      <td>0</td>\n",
              "      <td>0</td>\n",
              "      <td>0</td>\n",
              "      <td>1</td>\n",
              "      <td>2</td>\n",
              "      <td>0</td>\n",
              "      <td>0</td>\n",
              "      <td>0</td>\n",
              "      <td>0</td>\n",
              "      <td>...</td>\n",
              "      <td>3</td>\n",
              "      <td>0</td>\n",
              "      <td>0</td>\n",
              "      <td>0</td>\n",
              "      <td>0</td>\n",
              "      <td>1</td>\n",
              "      <td>0</td>\n",
              "      <td>0</td>\n",
              "      <td>0</td>\n",
              "      <td>0</td>\n",
              "    </tr>\n",
              "    <tr>\n",
              "      <th>4</th>\n",
              "      <td>3</td>\n",
              "      <td>0</td>\n",
              "      <td>0</td>\n",
              "      <td>0</td>\n",
              "      <td>0</td>\n",
              "      <td>0</td>\n",
              "      <td>0</td>\n",
              "      <td>0</td>\n",
              "      <td>0</td>\n",
              "      <td>0</td>\n",
              "      <td>...</td>\n",
              "      <td>0</td>\n",
              "      <td>0</td>\n",
              "      <td>0</td>\n",
              "      <td>0</td>\n",
              "      <td>0</td>\n",
              "      <td>0</td>\n",
              "      <td>0</td>\n",
              "      <td>0</td>\n",
              "      <td>0</td>\n",
              "      <td>0</td>\n",
              "    </tr>\n",
              "  </tbody>\n",
              "</table>\n",
              "<p>5 rows × 785 columns</p>\n",
              "</div>\n",
              "    <div class=\"colab-df-buttons\">\n",
              "\n",
              "  <div class=\"colab-df-container\">\n",
              "    <button class=\"colab-df-convert\" onclick=\"convertToInteractive('df-b8eee503-a7df-45a6-997d-5bf07878428e')\"\n",
              "            title=\"Convert this dataframe to an interactive table.\"\n",
              "            style=\"display:none;\">\n",
              "\n",
              "  <svg xmlns=\"http://www.w3.org/2000/svg\" height=\"24px\" viewBox=\"0 -960 960 960\">\n",
              "    <path d=\"M120-120v-720h720v720H120Zm60-500h600v-160H180v160Zm220 220h160v-160H400v160Zm0 220h160v-160H400v160ZM180-400h160v-160H180v160Zm440 0h160v-160H620v160ZM180-180h160v-160H180v160Zm440 0h160v-160H620v160Z\"/>\n",
              "  </svg>\n",
              "    </button>\n",
              "\n",
              "  <style>\n",
              "    .colab-df-container {\n",
              "      display:flex;\n",
              "      gap: 12px;\n",
              "    }\n",
              "\n",
              "    .colab-df-convert {\n",
              "      background-color: #E8F0FE;\n",
              "      border: none;\n",
              "      border-radius: 50%;\n",
              "      cursor: pointer;\n",
              "      display: none;\n",
              "      fill: #1967D2;\n",
              "      height: 32px;\n",
              "      padding: 0 0 0 0;\n",
              "      width: 32px;\n",
              "    }\n",
              "\n",
              "    .colab-df-convert:hover {\n",
              "      background-color: #E2EBFA;\n",
              "      box-shadow: 0px 1px 2px rgba(60, 64, 67, 0.3), 0px 1px 3px 1px rgba(60, 64, 67, 0.15);\n",
              "      fill: #174EA6;\n",
              "    }\n",
              "\n",
              "    .colab-df-buttons div {\n",
              "      margin-bottom: 4px;\n",
              "    }\n",
              "\n",
              "    [theme=dark] .colab-df-convert {\n",
              "      background-color: #3B4455;\n",
              "      fill: #D2E3FC;\n",
              "    }\n",
              "\n",
              "    [theme=dark] .colab-df-convert:hover {\n",
              "      background-color: #434B5C;\n",
              "      box-shadow: 0px 1px 3px 1px rgba(0, 0, 0, 0.15);\n",
              "      filter: drop-shadow(0px 1px 2px rgba(0, 0, 0, 0.3));\n",
              "      fill: #FFFFFF;\n",
              "    }\n",
              "  </style>\n",
              "\n",
              "    <script>\n",
              "      const buttonEl =\n",
              "        document.querySelector('#df-b8eee503-a7df-45a6-997d-5bf07878428e button.colab-df-convert');\n",
              "      buttonEl.style.display =\n",
              "        google.colab.kernel.accessAllowed ? 'block' : 'none';\n",
              "\n",
              "      async function convertToInteractive(key) {\n",
              "        const element = document.querySelector('#df-b8eee503-a7df-45a6-997d-5bf07878428e');\n",
              "        const dataTable =\n",
              "          await google.colab.kernel.invokeFunction('convertToInteractive',\n",
              "                                                    [key], {});\n",
              "        if (!dataTable) return;\n",
              "\n",
              "        const docLinkHtml = 'Like what you see? Visit the ' +\n",
              "          '<a target=\"_blank\" href=https://colab.research.google.com/notebooks/data_table.ipynb>data table notebook</a>'\n",
              "          + ' to learn more about interactive tables.';\n",
              "        element.innerHTML = '';\n",
              "        dataTable['output_type'] = 'display_data';\n",
              "        await google.colab.output.renderOutput(dataTable, element);\n",
              "        const docLink = document.createElement('div');\n",
              "        docLink.innerHTML = docLinkHtml;\n",
              "        element.appendChild(docLink);\n",
              "      }\n",
              "    </script>\n",
              "  </div>\n",
              "\n",
              "\n",
              "    <div id=\"df-0bd460ce-daee-4696-b5e6-971ff9995741\">\n",
              "      <button class=\"colab-df-quickchart\" onclick=\"quickchart('df-0bd460ce-daee-4696-b5e6-971ff9995741')\"\n",
              "                title=\"Suggest charts\"\n",
              "                style=\"display:none;\">\n",
              "\n",
              "<svg xmlns=\"http://www.w3.org/2000/svg\" height=\"24px\"viewBox=\"0 0 24 24\"\n",
              "     width=\"24px\">\n",
              "    <g>\n",
              "        <path d=\"M19 3H5c-1.1 0-2 .9-2 2v14c0 1.1.9 2 2 2h14c1.1 0 2-.9 2-2V5c0-1.1-.9-2-2-2zM9 17H7v-7h2v7zm4 0h-2V7h2v10zm4 0h-2v-4h2v4z\"/>\n",
              "    </g>\n",
              "</svg>\n",
              "      </button>\n",
              "\n",
              "<style>\n",
              "  .colab-df-quickchart {\n",
              "      --bg-color: #E8F0FE;\n",
              "      --fill-color: #1967D2;\n",
              "      --hover-bg-color: #E2EBFA;\n",
              "      --hover-fill-color: #174EA6;\n",
              "      --disabled-fill-color: #AAA;\n",
              "      --disabled-bg-color: #DDD;\n",
              "  }\n",
              "\n",
              "  [theme=dark] .colab-df-quickchart {\n",
              "      --bg-color: #3B4455;\n",
              "      --fill-color: #D2E3FC;\n",
              "      --hover-bg-color: #434B5C;\n",
              "      --hover-fill-color: #FFFFFF;\n",
              "      --disabled-bg-color: #3B4455;\n",
              "      --disabled-fill-color: #666;\n",
              "  }\n",
              "\n",
              "  .colab-df-quickchart {\n",
              "    background-color: var(--bg-color);\n",
              "    border: none;\n",
              "    border-radius: 50%;\n",
              "    cursor: pointer;\n",
              "    display: none;\n",
              "    fill: var(--fill-color);\n",
              "    height: 32px;\n",
              "    padding: 0;\n",
              "    width: 32px;\n",
              "  }\n",
              "\n",
              "  .colab-df-quickchart:hover {\n",
              "    background-color: var(--hover-bg-color);\n",
              "    box-shadow: 0 1px 2px rgba(60, 64, 67, 0.3), 0 1px 3px 1px rgba(60, 64, 67, 0.15);\n",
              "    fill: var(--button-hover-fill-color);\n",
              "  }\n",
              "\n",
              "  .colab-df-quickchart-complete:disabled,\n",
              "  .colab-df-quickchart-complete:disabled:hover {\n",
              "    background-color: var(--disabled-bg-color);\n",
              "    fill: var(--disabled-fill-color);\n",
              "    box-shadow: none;\n",
              "  }\n",
              "\n",
              "  .colab-df-spinner {\n",
              "    border: 2px solid var(--fill-color);\n",
              "    border-color: transparent;\n",
              "    border-bottom-color: var(--fill-color);\n",
              "    animation:\n",
              "      spin 1s steps(1) infinite;\n",
              "  }\n",
              "\n",
              "  @keyframes spin {\n",
              "    0% {\n",
              "      border-color: transparent;\n",
              "      border-bottom-color: var(--fill-color);\n",
              "      border-left-color: var(--fill-color);\n",
              "    }\n",
              "    20% {\n",
              "      border-color: transparent;\n",
              "      border-left-color: var(--fill-color);\n",
              "      border-top-color: var(--fill-color);\n",
              "    }\n",
              "    30% {\n",
              "      border-color: transparent;\n",
              "      border-left-color: var(--fill-color);\n",
              "      border-top-color: var(--fill-color);\n",
              "      border-right-color: var(--fill-color);\n",
              "    }\n",
              "    40% {\n",
              "      border-color: transparent;\n",
              "      border-right-color: var(--fill-color);\n",
              "      border-top-color: var(--fill-color);\n",
              "    }\n",
              "    60% {\n",
              "      border-color: transparent;\n",
              "      border-right-color: var(--fill-color);\n",
              "    }\n",
              "    80% {\n",
              "      border-color: transparent;\n",
              "      border-right-color: var(--fill-color);\n",
              "      border-bottom-color: var(--fill-color);\n",
              "    }\n",
              "    90% {\n",
              "      border-color: transparent;\n",
              "      border-bottom-color: var(--fill-color);\n",
              "    }\n",
              "  }\n",
              "</style>\n",
              "\n",
              "      <script>\n",
              "        async function quickchart(key) {\n",
              "          const quickchartButtonEl =\n",
              "            document.querySelector('#' + key + ' button');\n",
              "          quickchartButtonEl.disabled = true;  // To prevent multiple clicks.\n",
              "          quickchartButtonEl.classList.add('colab-df-spinner');\n",
              "          try {\n",
              "            const charts = await google.colab.kernel.invokeFunction(\n",
              "                'suggestCharts', [key], {});\n",
              "          } catch (error) {\n",
              "            console.error('Error during call to suggestCharts:', error);\n",
              "          }\n",
              "          quickchartButtonEl.classList.remove('colab-df-spinner');\n",
              "          quickchartButtonEl.classList.add('colab-df-quickchart-complete');\n",
              "        }\n",
              "        (() => {\n",
              "          let quickchartButtonEl =\n",
              "            document.querySelector('#df-0bd460ce-daee-4696-b5e6-971ff9995741 button');\n",
              "          quickchartButtonEl.style.display =\n",
              "            google.colab.kernel.accessAllowed ? 'block' : 'none';\n",
              "        })();\n",
              "      </script>\n",
              "    </div>\n",
              "\n",
              "    </div>\n",
              "  </div>\n"
            ],
            "text/plain": [
              "   label  pixel1  pixel2  pixel3  pixel4  pixel5  pixel6  pixel7  pixel8  \\\n",
              "0      2       0       0       0       0       0       0       0       0   \n",
              "1      9       0       0       0       0       0       0       0       0   \n",
              "2      6       0       0       0       0       0       0       0       5   \n",
              "3      0       0       0       0       1       2       0       0       0   \n",
              "4      3       0       0       0       0       0       0       0       0   \n",
              "\n",
              "   pixel9  ...  pixel775  pixel776  pixel777  pixel778  pixel779  pixel780  \\\n",
              "0       0  ...         0         0         0         0         0         0   \n",
              "1       0  ...         0         0         0         0         0         0   \n",
              "2       0  ...         0         0         0        30        43         0   \n",
              "3       0  ...         3         0         0         0         0         1   \n",
              "4       0  ...         0         0         0         0         0         0   \n",
              "\n",
              "   pixel781  pixel782  pixel783  pixel784  \n",
              "0         0         0         0         0  \n",
              "1         0         0         0         0  \n",
              "2         0         0         0         0  \n",
              "3         0         0         0         0  \n",
              "4         0         0         0         0  \n",
              "\n",
              "[5 rows x 785 columns]"
            ]
          },
          "execution_count": 5,
          "metadata": {},
          "output_type": "execute_result"
        }
      ],
      "source": [
        "df = pd.read_csv(\"/content/fashion-mnist_train.csv\")\n",
        "print(f\"shape: {df.shape}\")\n",
        "df.head()"
      ]
    },
    {
      "cell_type": "code",
      "execution_count": 6,
      "metadata": {
        "colab": {
          "base_uri": "https://localhost:8080/",
          "height": 590
        },
        "id": "bZe_WjvDEvKq",
        "outputId": "167a595f-fb02-458f-c306-ccabb362d93c"
      },
      "outputs": [
        {
          "data": {
            "image/png": "[encoded data removed]",
            "text/plain": [
              "<Figure size 1200x600 with 10 Axes>"
            ]
          },
          "metadata": {},
          "output_type": "display_data"
        }
      ],
      "source": [
        "fig, axes = plt.subplots(2, 5, figsize=(12, 6))\n",
        "fig.suptitle(\"One Example per Class\", fontsize=16)\n",
        "\n",
        "# Loop through each class (0–9)\n",
        "for cls, ax in enumerate(axes.flat):\n",
        "    # Pick the first sample of this class\n",
        "    img_row = df[df.iloc[:, 0] == cls].iloc[0]\n",
        "    img = img_row[1:].values.reshape(28, 28)\n",
        "\n",
        "    # Show the image\n",
        "    ax.imshow(img, cmap=\"viridis\")   # or \"plasma\", \"inferno\", \"gray\"\n",
        "    ax.axis(\"off\")\n",
        "    ax.set_title(f\"Label: {cls}\")\n",
        "\n",
        "plt.tight_layout(rect=[0, 0, 1, 0.96])\n",
        "plt.show()"
      ]
    },
    {
      "cell_type": "code",
      "execution_count": 7,
      "metadata": {
        "id": "rxZkCmDbFKcO"
      },
      "outputs": [],
      "source": [
        "X = df.iloc[:, 1:].values\n",
        "y = df.iloc[:, 0].values"
      ]
    },
    {
      "cell_type": "code",
      "execution_count": 8,
      "metadata": {
        "id": "WzyzNKShFHT-"
      },
      "outputs": [],
      "source": [
        "X_train, X_test, y_train, y_test = train_test_split(X, y, test_size=0.2, random_state=42)"
      ]
    },
    {
      "cell_type": "code",
      "execution_count": 9,
      "metadata": {
        "id": "ccJnpmM9FZnJ"
      },
      "outputs": [],
      "source": [
        "# scaling the feautures\n",
        "X_train = X_train/255.0\n",
        "X_test = X_test/255.0"
      ]
    },
    {
      "cell_type": "code",
      "execution_count": 10,
      "metadata": {
        "colab": {
          "base_uri": "https://localhost:8080/"
        },
        "id": "wbNJFN1wFeGE",
        "outputId": "3ad42bee-0554-46f8-a691-ecc684d0e137"
      },
      "outputs": [
        {
          "data": {
            "text/plain": [
              "array([[0.        , 0.        , 0.        , ..., 0.        , 0.        ,\n",
              "        0.        ],\n",
              "       [0.        , 0.        , 0.        , ..., 0.        , 0.        ,\n",
              "        0.        ],\n",
              "       [0.        , 0.        , 0.        , ..., 0.        , 0.        ,\n",
              "        0.        ],\n",
              "       ...,\n",
              "       [0.        , 0.        , 0.        , ..., 0.        , 0.        ,\n",
              "        0.        ],\n",
              "       [0.        , 0.        , 0.        , ..., 0.        , 0.        ,\n",
              "        0.        ],\n",
              "       [0.        , 0.        , 0.        , ..., 0.00392157, 0.        ,\n",
              "        0.        ]])"
            ]
          },
          "execution_count": 10,
          "metadata": {},
          "output_type": "execute_result"
        }
      ],
      "source": [
        "X_train"
      ]
    },
    {
      "cell_type": "code",
      "execution_count": 11,
      "metadata": {
        "id": "hl550LMyFgOS"
      },
      "outputs": [],
      "source": [
        "# create CustomDataset Class\n",
        "\n",
        "class  CustomDataset(Dataset):\n",
        "    def __init__(self, features, labels):\n",
        "        self.features = torch.tensor(features, dtype=torch.float32) # In PT, usually, features are expected to be of float32 type\n",
        "        self.labels = torch.tensor(labels, dtype=torch.long) # In PT, usually, labels are expected to be of long type\n",
        "\n",
        "    def __len__(self):\n",
        "        return len(self.features)\n",
        "\n",
        "    def __getitem__(self, idx):\n",
        "        return self.features[idx], self.labels[idx]"
      ]
    },
    {
      "cell_type": "code",
      "execution_count": 12,
      "metadata": {
        "id": "a7FZrOozGaem"
      },
      "outputs": [],
      "source": [
        "# create train_dataset object\n",
        "train_dataset = CustomDataset(X_train, y_train)"
      ]
    },
    {
      "cell_type": "code",
      "execution_count": 13,
      "metadata": {
        "colab": {
          "base_uri": "https://localhost:8080/"
        },
        "id": "yFpzRmfyGwVQ",
        "outputId": "674b289e-f301-4e9d-e75e-ba06ca45a8e3"
      },
      "outputs": [
        {
          "data": {
            "text/plain": [
              "48000"
            ]
          },
          "execution_count": 13,
          "metadata": {},
          "output_type": "execute_result"
        }
      ],
      "source": [
        "len(train_dataset)"
      ]
    },
    {
      "cell_type": "code",
      "execution_count": 14,
      "metadata": {
        "id": "e9wiMcx9G59Z"
      },
      "outputs": [],
      "source": [
        "# create test_dataset object\n",
        "test_dataset = CustomDataset(X_test, y_test)"
      ]
    },
    {
      "cell_type": "code",
      "execution_count": 15,
      "metadata": {
        "colab": {
          "base_uri": "https://localhost:8080/"
        },
        "id": "2JQxAT1hHHTO",
        "outputId": "2daca42c-f3a4-4145-bd15-ca48425675b7"
      },
      "outputs": [
        {
          "data": {
            "text/plain": [
              "12000"
            ]
          },
          "execution_count": 15,
          "metadata": {},
          "output_type": "execute_result"
        }
      ],
      "source": [
        "len(test_dataset)"
      ]
    },
    {
      "cell_type": "code",
      "execution_count": 16,
      "metadata": {
        "id": "X5FUf6A-HJUm"
      },
      "outputs": [],
      "source": [
        "# create train and test loaders\n",
        "\n",
        "# When pin_memory=True is passed to a DataLoader, the data tensors fetched by the\n",
        "# loader are automatically placed into \"pinned\" memory in the CPU's RAM. This type\n",
        "# of memory cannot be swapped out to disk by the operating system, which allows\n",
        "# for faster and more direct asynchronous data transfers to the GPU's memory.\n",
        "\n",
        "batch_size = 128\n",
        "train_loader = DataLoader(train_dataset, batch_size=batch_size, shuffle=True, pin_memory=True)\n",
        "test_loader = DataLoader(test_dataset, batch_size=batch_size, shuffle=False, pin_memory=True)"
      ]
    },
    {
      "cell_type": "markdown",
      "metadata": {
        "id": "2SV1D4qXHzcs"
      },
      "source": [
        "## ANN Design\n",
        "Redesigned the ANN to be `dynamic and flexible`, allowing its architecture and parameters to be easily adjusted. This makes it well-suited for `hyperparameter tuning` with [OPTUNA](https://github.com/optuna/optuna)."
      ]
    },
    {
      "cell_type": "code",
      "execution_count": 17,
      "metadata": {
        "id": "5VU7vZm1HTNL"
      },
      "outputs": [],
      "source": [
        "class ANN(nn.Module):\n",
        "    def __init__(self, input_dim, output_dim, num_hidden_layers, neurons_per_layer, dropout_rate):\n",
        "        super().__init__()\n",
        "\n",
        "        layers = []\n",
        "        for i in range(num_hidden_layers):\n",
        "            layers.append(nn.Linear(input_dim, neurons_per_layer))\n",
        "            layers.append(nn.BatchNorm1d(neurons_per_layer))\n",
        "            layers.append(nn.ReLU())\n",
        "            layers.append(nn.Dropout(dropout_rate))\n",
        "            input_dim = neurons_per_layer\n",
        "\n",
        "        layers.append(nn.Linear(neurons_per_layer, output_dim))\n",
        "        self.model = nn.Sequential(*layers)\n",
        "\n",
        "    def forward(self, X):\n",
        "        \"\"\"\n",
        "        In PyTorch, when a torch.nn.Module instance is created, it becomes callable\n",
        "        directly like a function. This is because the `__call__` method is implemented\n",
        "        within the `torch.nn.Module` class, which handles the necessary setup and then\n",
        "        internally invokes the forward method that you define.\n",
        "        \"\"\"\n",
        "        return self.model(X)"
      ]
    },
    {
      "cell_type": "code",
      "execution_count": 18,
      "metadata": {
        "id": "CyHXUoeiDK-e"
      },
      "outputs": [],
      "source": [
        "# Objective function for Optuna\n",
        "def objective(trial):\n",
        "    ## Suggest hyperparameters\n",
        "    num_hidden_layers = trial.suggest_int(\"num_hidden_layers\", 1, 5)\n",
        "    neurons_per_layer = trial.suggest_int(\"neurons_per_layer\", 8, 128, step=8)\n",
        "    epochs = trial.suggest_int(\"epochs\", 10, 50, step=10)\n",
        "    learning_rate = trial.suggest_float(\"learning_rate\", 1e-5, 1e-1, log=True)\n",
        "    dropout_rate = trial.suggest_float(\"dropout_rate\", 0.1, 0.5, step=0.1)\n",
        "    batch_size = trial.suggest_categorical(\"batch_size\", [16, 32, 64, 128])\n",
        "    optimizer_name = trial.suggest_categorical(\"optimizer\", [\"Adam\", \"SGD\", \"RMSprop\"])\n",
        "    weight_decay = trial.suggest_float(\"weight_decay\", 1e-5, 1e-3, log=True)\n",
        "\n",
        "    ## Data loaders\n",
        "    train_loader = DataLoader(train_dataset, batch_size=batch_size, shuffle=True, pin_memory=True)\n",
        "    test_loader = DataLoader(test_dataset, batch_size=batch_size, shuffle=False, pin_memory=True)\n",
        "\n",
        "    ## Model initialization\n",
        "    input_dim = 784  # 28x28 images flattened\n",
        "    output_dim = 10  # Fashion-MNIST has 10 classes\n",
        "    model = ANN(input_dim, output_dim, num_hidden_layers, neurons_per_layer, dropout_rate).to(device)\n",
        "\n",
        "    ## Loss function\n",
        "    criterion = nn.CrossEntropyLoss()\n",
        "\n",
        "    ## Optimizer selection\n",
        "    if optimizer_name == \"Adam\":\n",
        "        optimizer = optim.Adam(model.parameters(), lr=learning_rate, weight_decay=weight_decay)\n",
        "    elif optimizer_name == \"SGD\":\n",
        "        optimizer = optim.SGD(model.parameters(), lr=learning_rate, weight_decay=weight_decay)\n",
        "    else:\n",
        "        optimizer = optim.RMSprop(model.parameters(), lr=learning_rate, weight_decay=weight_decay)\n",
        "\n",
        "    ## Training loop\n",
        "    model.train()\n",
        "    for epoch in range(epochs):\n",
        "        for batch_features, batch_labels in train_loader:\n",
        "            batch_features, batch_labels = batch_features.to(device), batch_labels.to(device)\n",
        "\n",
        "            # Forward pass\n",
        "            outputs = model(batch_features)\n",
        "            loss = criterion(outputs, batch_labels)\n",
        "\n",
        "            # Backward pass + update\n",
        "            optimizer.zero_grad()\n",
        "            loss.backward()\n",
        "            optimizer.step()\n",
        "\n",
        "    ## Evaluation\n",
        "    model.eval()\n",
        "    correct, total = 0, 0\n",
        "    with torch.no_grad():\n",
        "        for batch_features, batch_labels in test_loader:\n",
        "            batch_features, batch_labels = batch_features.to(device), batch_labels.to(device)\n",
        "            outputs = model(batch_features)\n",
        "            _, predicted = torch.max(outputs, 1)\n",
        "\n",
        "            total += batch_labels.size(0)\n",
        "            correct += (predicted == batch_labels).sum().item()\n",
        "\n",
        "    accuracy = correct / total\n",
        "    return accuracy\n"
      ]
    },
    {
      "cell_type": "markdown",
      "metadata": {
        "id": "27l4Vt39NGXA"
      },
      "source": [
        "# 🔹 Common Pruners\n",
        "### 1. MedianPruner\n",
        "- Stops trials that are worse than the **median** of completed trials at a given step.\n",
        "- Simple and effective for many cases.\n",
        "\n",
        "### 2. SuccessiveHalvingPruner\n",
        "- Divides trials into \"rungs\".\n",
        "- After each rung, keeps only the best-performing trials and **discards the rest**.\n",
        "- More aggressive than MedianPruner.\n",
        "\n",
        "### 3. HyperbandPruner\n",
        "- Extension of **Successive Halving**.\n",
        "- Dynamically allocates **more resources to better trials**.\n",
        "- Efficient for large search spaces and expensive training.\n",
        "\n",
        "### 4. ThresholdPruner\n",
        "- Stops a trial if its performance is **below (or above)** a user-defined threshold.\n",
        "- Useful when you have a clear baseline to beat.\n",
        "\n",
        "---\n",
        "\n",
        "# 🔹 Common Samplers\n",
        "\n",
        "### 1. RandomSampler\n",
        "- Samples parameters **randomly** from the search space.\n",
        "- Good for quick baselines, but not efficient for large spaces.\n",
        "\n",
        "### 2. TPESampler (Tree-structured Parzen Estimator)\n",
        "- **Default sampler** in Optuna.\n",
        "- Models promising regions of the search space and explores them more.\n",
        "- Works well in most cases.\n",
        "\n",
        "### 3. CmaEsSampler\n",
        "- Uses **Covariance Matrix Adaptation Evolution Strategy (CMA-ES)**.\n",
        "- Good for **continuous parameters**.\n",
        "- Not as efficient for categorical/discrete parameters.\n",
        "\n",
        "### 4. GridSampler\n",
        "- Performs an **exhaustive search** over a user-defined grid of parameters.\n",
        "- Useful for **small, discrete search spaces**.\n",
        "- Not scalable for large spaces.\n",
        "\n",
        "---\n"
      ]
    },
    {
      "cell_type": "code",
      "execution_count": 19,
      "metadata": {
        "colab": {
          "base_uri": "https://localhost:8080/"
        },
        "id": "YcAFKN44N7VY",
        "outputId": "4d1b3504-c31c-4886-8219-07cfdb60a948"
      },
      "outputs": [
        {
          "name": "stderr",
          "output_type": "stream",
          "text": [
            "[I 2025-09-17 15:10:06,233] A new study created in memory with name: HyperParameter_tuning_ANN\n"
          ]
        }
      ],
      "source": [
        "study = optuna.create_study(\n",
        "    study_name=\"HyperParameter_tuning_ANN\",  # custom study name\n",
        "    direction=\"maximize\",                    # since we optimize accuracy\n",
        "    sampler=TPESampler(seed=42),             # reproducible TPE sampler\n",
        "    pruner=MedianPruner(n_warmup_steps=3)    # prune/stop unpromising trials\n",
        ")"
      ]
    },
    {
      "cell_type": "code",
      "execution_count": 20,
      "metadata": {
        "colab": {
          "base_uri": "https://localhost:8080/"
        },
        "id": "f1dH2vsKFhqY",
        "outputId": "194c89b0-2d40-443b-a7c0-599edb5ab1ea"
      },
      "outputs": [
        {
          "name": "stderr",
          "output_type": "stream",
          "text": [
            "[I 2025-09-17 15:11:22,085] Trial 0 finished with value: 0.8594166666666667 and parameters: {'num_hidden_layers': 2, 'neurons_per_layer': 128, 'epochs': 40, 'learning_rate': 0.0024810409748678114, 'dropout_rate': 0.1, 'batch_size': 64, 'optimizer': 'RMSprop', 'weight_decay': 0.000462258900102083}. Best is trial 0 with value: 0.8594166666666667.\n",
            "[I 2025-09-17 15:11:40,559] Trial 1 finished with value: 0.8434166666666667 and parameters: {'num_hidden_layers': 2, 'neurons_per_layer': 24, 'epochs': 10, 'learning_rate': 0.00016480446427978953, 'dropout_rate': 0.30000000000000004, 'batch_size': 64, 'optimizer': 'RMSprop', 'weight_decay': 0.00037183641805732076}. Best is trial 0 with value: 0.8594166666666667.\n",
            "[I 2025-09-17 15:12:09,163] Trial 2 finished with value: 0.848 and parameters: {'num_hidden_layers': 1, 'neurons_per_layer': 72, 'epochs': 30, 'learning_rate': 1.5339162591163613e-05, 'dropout_rate': 0.4, 'batch_size': 128, 'optimizer': 'Adam', 'weight_decay': 0.000233596350262616}. Best is trial 0 with value: 0.8594166666666667.\n",
            "[I 2025-09-17 15:14:09,484] Trial 3 finished with value: 0.5631666666666667 and parameters: {'num_hidden_layers': 3, 'neurons_per_layer': 16, 'epochs': 30, 'learning_rate': 1.3726318898045866e-05, 'dropout_rate': 0.5, 'batch_size': 32, 'optimizer': 'RMSprop', 'weight_decay': 0.0003550304858128307}. Best is trial 0 with value: 0.8594166666666667.\n",
            "[I 2025-09-17 15:14:53,337] Trial 4 finished with value: 0.88775 and parameters: {'num_hidden_layers': 5, 'neurons_per_layer': 120, 'epochs': 30, 'learning_rate': 0.04869640941520897, 'dropout_rate': 0.1, 'batch_size': 128, 'optimizer': 'SGD', 'weight_decay': 3.6464395589807184e-05}. Best is trial 4 with value: 0.88775.\n",
            "[I 2025-09-17 15:15:55,054] Trial 5 finished with value: 0.7625 and parameters: {'num_hidden_layers': 3, 'neurons_per_layer': 24, 'epochs': 50, 'learning_rate': 1.9870215385428627e-05, 'dropout_rate': 0.5, 'batch_size': 128, 'optimizer': 'RMSprop', 'weight_decay': 1.4063366777718176e-05}. Best is trial 4 with value: 0.88775.\n",
            "[I 2025-09-17 15:16:45,858] Trial 6 finished with value: 0.8463333333333334 and parameters: {'num_hidden_layers': 2, 'neurons_per_layer': 16, 'epochs': 50, 'learning_rate': 0.0031130959561221226, 'dropout_rate': 0.2, 'batch_size': 128, 'optimizer': 'SGD', 'weight_decay': 1.7345566642360933e-05}. Best is trial 4 with value: 0.88775.\n",
            "[I 2025-09-17 15:20:52,884] Trial 7 finished with value: 0.8838333333333334 and parameters: {'num_hidden_layers': 4, 'neurons_per_layer': 104, 'epochs': 30, 'learning_rate': 0.012130221181165156, 'dropout_rate': 0.30000000000000004, 'batch_size': 16, 'optimizer': 'SGD', 'weight_decay': 0.0001040258761588385}. Best is trial 4 with value: 0.88775.\n",
            "[I 2025-09-17 15:21:40,468] Trial 8 finished with value: 0.81 and parameters: {'num_hidden_layers': 5, 'neurons_per_layer': 32, 'epochs': 30, 'learning_rate': 0.010524574681335632, 'dropout_rate': 0.2, 'batch_size': 128, 'optimizer': 'RMSprop', 'weight_decay': 0.00040489662225846743}. Best is trial 4 with value: 0.88775.\n",
            "[I 2025-09-17 15:22:07,134] Trial 9 finished with value: 0.8775833333333334 and parameters: {'num_hidden_layers': 1, 'neurons_per_layer': 120, 'epochs': 30, 'learning_rate': 0.016973078532467004, 'dropout_rate': 0.5, 'batch_size': 128, 'optimizer': 'SGD', 'weight_decay': 0.00010507384024181397}. Best is trial 4 with value: 0.88775.\n"
          ]
        }
      ],
      "source": [
        "num_trials = 10    ### Increase/Decrease based on your Compute resources (~50-100 for optimal results if Search Space is huge)\n",
        "study.optimize(objective, n_trials=num_trials)"
      ]
    },
    {
      "cell_type": "code",
      "execution_count": 21,
      "metadata": {
        "colab": {
          "base_uri": "https://localhost:8080/"
        },
        "id": "UvH_PX6HFAy3",
        "outputId": "b363783d-5cd4-481d-9d72-dd7a5fa5b069"
      },
      "outputs": [
        {
          "data": {
            "text/plain": [
              "0.88775"
            ]
          },
          "execution_count": 21,
          "metadata": {},
          "output_type": "execute_result"
        }
      ],
      "source": [
        "study.best_value"
      ]
    },
    {
      "cell_type": "code",
      "execution_count": 22,
      "metadata": {
        "colab": {
          "base_uri": "https://localhost:8080/"
        },
        "id": "KWL7-lS1FC98",
        "outputId": "b76dfbab-c8b5-4ca1-c3ce-f1ca5af5d054"
      },
      "outputs": [
        {
          "data": {
            "text/plain": [
              "{'num_hidden_layers': 5,\n",
              " 'neurons_per_layer': 120,\n",
              " 'epochs': 30,\n",
              " 'learning_rate': 0.04869640941520897,\n",
              " 'dropout_rate': 0.1,\n",
              " 'batch_size': 128,\n",
              " 'optimizer': 'SGD',\n",
              " 'weight_decay': 3.6464395589807184e-05}"
            ]
          },
          "execution_count": 22,
          "metadata": {},
          "output_type": "execute_result"
        }
      ],
      "source": [
        "study.best_params"
      ]
    },
    {
      "cell_type": "markdown",
      "metadata": {
        "id": "rjZLWJP4IMjR"
      },
      "source": [
        "## Optuna Visualization Charts"
      ]
    },
    {
      "cell_type": "code",
      "execution_count": 23,
      "metadata": {
        "id": "khlVCme2ILjd"
      },
      "outputs": [],
      "source": [
        "from optuna.visualization import plot_optimization_history, plot_parallel_coordinate, plot_slice, plot_contour, plot_param_importances"
      ]
    },
    {
      "cell_type": "code",
      "execution_count": 24,
      "metadata": {
        "colab": {
          "base_uri": "https://localhost:8080/",
          "height": 542
        },
        "id": "bZ0EPBvFITXQ",
        "outputId": "74875535-7168-469d-c238-2aac2103a5c8"
      },
      "outputs": [
        {
          "data": {
            "text/html": [
              "<html>\n",
              "<head><meta charset=\"utf-8\" /></head>\n",
              "<body>\n",
              "    <div>            <script src=\"https://cdnjs.cloudflare.com/ajax/libs/mathjax/2.7.5/MathJax.js?config=TeX-AMS-MML_SVG\"></script><script type=\"text/javascript\">if (window.MathJax && window.MathJax.Hub && window.MathJax.Hub.Config) {window.MathJax.Hub.Config({SVG: {font: \"STIX-Web\"}});}</script>                <script type=\"text/javascript\">window.PlotlyConfig = {MathJaxConfig: 'local'};</script>\n",
              "        <script charset=\"utf-8\" src=\"https://cdn.plot.ly/plotly-2.35.2.min.js\"></script>                <div id=\"6596ae41-3308-4c0f-bddd-a7d57ae643a2\" class=\"plotly-graph-div\" style=\"height:525px; width:100%;\"></div>            <script type=\"text/javascript\">                                    window.PLOTLYENV=window.PLOTLYENV || {};                                    if (document.getElementById(\"6596ae41-3308-4c0f-bddd-a7d57ae643a2\")) {                    Plotly.newPlot(                        \"6596ae41-3308-4c0f-bddd-a7d57ae643a2\",                        [{\"mode\":\"markers\",\"name\":\"Objective Value\",\"x\":[0,1,2,3,4,5,6,7,8,9],\"y\":[0.8594166666666667,0.8434166666666667,0.848,0.5631666666666667,0.88775,0.7625,0.8463333333333334,0.8838333333333334,0.81,0.8775833333333334],\"type\":\"scatter\"},{\"mode\":\"lines\",\"name\":\"Best Value\",\"x\":[0,1,2,3,4,5,6,7,8,9],\"y\":[0.8594166666666667,0.8594166666666667,0.8594166666666667,0.8594166666666667,0.88775,0.88775,0.88775,0.88775,0.88775,0.88775],\"type\":\"scatter\"},{\"marker\":{\"color\":\"#cccccc\"},\"mode\":\"markers\",\"name\":\"Infeasible Trial\",\"showlegend\":false,\"x\":[],\"y\":[],\"type\":\"scatter\"}],                        {\"title\":{\"text\":\"Optimization History Plot\"},\"xaxis\":{\"title\":{\"text\":\"Trial\"}},\"yaxis\":{\"title\":{\"text\":\"Objective Value\"}},\"template\":{\"data\":{\"histogram2dcontour\":[{\"type\":\"histogram2dcontour\",\"colorbar\":{\"outlinewidth\":0,\"ticks\":\"\"},\"colorscale\":[[0.0,\"#0d0887\"],[0.1111111111111111,\"#46039f\"],[0.2222222222222222,\"#7201a8\"],[0.3333333333333333,\"#9c179e\"],[0.4444444444444444,\"#bd3786\"],[0.5555555555555556,\"#d8576b\"],[0.6666666666666666,\"#ed7953\"],[0.7777777777777778,\"#fb9f3a\"],[0.8888888888888888,\"#fdca26\"],[1.0,\"#f0f921\"]]}],\"choropleth\":[{\"type\":\"choropleth\",\"colorbar\":{\"outlinewidth\":0,\"ticks\":\"\"}}],\"histogram2d\":[{\"type\":\"histogram2d\",\"colorbar\":{\"outlinewidth\":0,\"ticks\":\"\"},\"colorscale\":[[0.0,\"#0d0887\"],[0.1111111111111111,\"#46039f\"],[0.2222222222222222,\"#7201a8\"],[0.3333333333333333,\"#9c179e\"],[0.4444444444444444,\"#bd3786\"],[0.5555555555555556,\"#d8576b\"],[0.6666666666666666,\"#ed7953\"],[0.7777777777777778,\"#fb9f3a\"],[0.8888888888888888,\"#fdca26\"],[1.0,\"#f0f921\"]]}],\"heatmap\":[{\"type\":\"heatmap\",\"colorbar\":{\"outlinewidth\":0,\"ticks\":\"\"},\"colorscale\":[[0.0,\"#0d0887\"],[0.1111111111111111,\"#46039f\"],[0.2222222222222222,\"#7201a8\"],[0.3333333333333333,\"#9c179e\"],[0.4444444444444444,\"#bd3786\"],[0.5555555555555556,\"#d8576b\"],[0.6666666666666666,\"#ed7953\"],[0.7777777777777778,\"#fb9f3a\"],[0.8888888888888888,\"#fdca26\"],[1.0,\"#f0f921\"]]}],\"heatmapgl\":[{\"type\":\"heatmapgl\",\"colorbar\":{\"outlinewidth\":0,\"ticks\":\"\"},\"colorscale\":[[0.0,\"#0d0887\"],[0.1111111111111111,\"#46039f\"],[0.2222222222222222,\"#7201a8\"],[0.3333333333333333,\"#9c179e\"],[0.4444444444444444,\"#bd3786\"],[0.5555555555555556,\"#d8576b\"],[0.6666666666666666,\"#ed7953\"],[0.7777777777777778,\"#fb9f3a\"],[0.8888888888888888,\"#fdca26\"],[1.0,\"#f0f921\"]]}],\"contourcarpet\":[{\"type\":\"contourcarpet\",\"colorbar\":{\"outlinewidth\":0,\"ticks\":\"\"}}],\"contour\":[{\"type\":\"contour\",\"colorbar\":{\"outlinewidth\":0,\"ticks\":\"\"},\"colorscale\":[[0.0,\"#0d0887\"],[0.1111111111111111,\"#46039f\"],[0.2222222222222222,\"#7201a8\"],[0.3333333333333333,\"#9c179e\"],[0.4444444444444444,\"#bd3786\"],[0.5555555555555556,\"#d8576b\"],[0.6666666666666666,\"#ed7953\"],[0.7777777777777778,\"#fb9f3a\"],[0.8888888888888888,\"#fdca26\"],[1.0,\"#f0f921\"]]}],\"surface\":[{\"type\":\"surface\",\"colorbar\":{\"outlinewidth\":0,\"ticks\":\"\"},\"colorscale\":[[0.0,\"#0d0887\"],[0.1111111111111111,\"#46039f\"],[0.2222222222222222,\"#7201a8\"],[0.3333333333333333,\"#9c179e\"],[0.4444444444444444,\"#bd3786\"],[0.5555555555555556,\"#d8576b\"],[0.6666666666666666,\"#ed7953\"],[0.7777777777777778,\"#fb9f3a\"],[0.8888888888888888,\"#fdca26\"],[1.0,\"#f0f921\"]]}],\"mesh3d\":[{\"type\":\"mesh3d\",\"colorbar\":{\"outlinewidth\":0,\"ticks\":\"\"}}],\"scatter\":[{\"fillpattern\":{\"fillmode\":\"overlay\",\"size\":10,\"solidity\":0.2},\"type\":\"scatter\"}],\"parcoords\":[{\"type\":\"parcoords\",\"line\":{\"colorbar\":{\"outlinewidth\":0,\"ticks\":\"\"}}}],\"scatterpolargl\":[{\"type\":\"scatterpolargl\",\"marker\":{\"colorbar\":{\"outlinewidth\":0,\"ticks\":\"\"}}}],\"bar\":[{\"error_x\":{\"color\":\"#2a3f5f\"},\"error_y\":{\"color\":\"#2a3f5f\"},\"marker\":{\"line\":{\"color\":\"#E5ECF6\",\"width\":0.5},\"pattern\":{\"fillmode\":\"overlay\",\"size\":10,\"solidity\":0.2}},\"type\":\"bar\"}],\"scattergeo\":[{\"type\":\"scattergeo\",\"marker\":{\"colorbar\":{\"outlinewidth\":0,\"ticks\":\"\"}}}],\"scatterpolar\":[{\"type\":\"scatterpolar\",\"marker\":{\"colorbar\":{\"outlinewidth\":0,\"ticks\":\"\"}}}],\"histogram\":[{\"marker\":{\"pattern\":{\"fillmode\":\"overlay\",\"size\":10,\"solidity\":0.2}},\"type\":\"histogram\"}],\"scattergl\":[{\"type\":\"scattergl\",\"marker\":{\"colorbar\":{\"outlinewidth\":0,\"ticks\":\"\"}}}],\"scatter3d\":[{\"type\":\"scatter3d\",\"line\":{\"colorbar\":{\"outlinewidth\":0,\"ticks\":\"\"}},\"marker\":{\"colorbar\":{\"outlinewidth\":0,\"ticks\":\"\"}}}],\"scattermapbox\":[{\"type\":\"scattermapbox\",\"marker\":{\"colorbar\":{\"outlinewidth\":0,\"ticks\":\"\"}}}],\"scatterternary\":[{\"type\":\"scatterternary\",\"marker\":{\"colorbar\":{\"outlinewidth\":0,\"ticks\":\"\"}}}],\"scattercarpet\":[{\"type\":\"scattercarpet\",\"marker\":{\"colorbar\":{\"outlinewidth\":0,\"ticks\":\"\"}}}],\"carpet\":[{\"aaxis\":{\"endlinecolor\":\"#2a3f5f\",\"gridcolor\":\"white\",\"linecolor\":\"white\",\"minorgridcolor\":\"white\",\"startlinecolor\":\"#2a3f5f\"},\"baxis\":{\"endlinecolor\":\"#2a3f5f\",\"gridcolor\":\"white\",\"linecolor\":\"white\",\"minorgridcolor\":\"white\",\"startlinecolor\":\"#2a3f5f\"},\"type\":\"carpet\"}],\"table\":[{\"cells\":{\"fill\":{\"color\":\"#EBF0F8\"},\"line\":{\"color\":\"white\"}},\"header\":{\"fill\":{\"color\":\"#C8D4E3\"},\"line\":{\"color\":\"white\"}},\"type\":\"table\"}],\"barpolar\":[{\"marker\":{\"line\":{\"color\":\"#E5ECF6\",\"width\":0.5},\"pattern\":{\"fillmode\":\"overlay\",\"size\":10,\"solidity\":0.2}},\"type\":\"barpolar\"}],\"pie\":[{\"automargin\":true,\"type\":\"pie\"}]},\"layout\":{\"autotypenumbers\":\"strict\",\"colorway\":[\"#636efa\",\"#EF553B\",\"#00cc96\",\"#ab63fa\",\"#FFA15A\",\"#19d3f3\",\"#FF6692\",\"#B6E880\",\"#FF97FF\",\"#FECB52\"],\"font\":{\"color\":\"#2a3f5f\"},\"hovermode\":\"closest\",\"hoverlabel\":{\"align\":\"left\"},\"paper_bgcolor\":\"white\",\"plot_bgcolor\":\"#E5ECF6\",\"polar\":{\"bgcolor\":\"#E5ECF6\",\"angularaxis\":{\"gridcolor\":\"white\",\"linecolor\":\"white\",\"ticks\":\"\"},\"radialaxis\":{\"gridcolor\":\"white\",\"linecolor\":\"white\",\"ticks\":\"\"}},\"ternary\":{\"bgcolor\":\"#E5ECF6\",\"aaxis\":{\"gridcolor\":\"white\",\"linecolor\":\"white\",\"ticks\":\"\"},\"baxis\":{\"gridcolor\":\"white\",\"linecolor\":\"white\",\"ticks\":\"\"},\"caxis\":{\"gridcolor\":\"white\",\"linecolor\":\"white\",\"ticks\":\"\"}},\"coloraxis\":{\"colorbar\":{\"outlinewidth\":0,\"ticks\":\"\"}},\"colorscale\":{\"sequential\":[[0.0,\"#0d0887\"],[0.1111111111111111,\"#46039f\"],[0.2222222222222222,\"#7201a8\"],[0.3333333333333333,\"#9c179e\"],[0.4444444444444444,\"#bd3786\"],[0.5555555555555556,\"#d8576b\"],[0.6666666666666666,\"#ed7953\"],[0.7777777777777778,\"#fb9f3a\"],[0.8888888888888888,\"#fdca26\"],[1.0,\"#f0f921\"]],\"sequentialminus\":[[0.0,\"#0d0887\"],[0.1111111111111111,\"#46039f\"],[0.2222222222222222,\"#7201a8\"],[0.3333333333333333,\"#9c179e\"],[0.4444444444444444,\"#bd3786\"],[0.5555555555555556,\"#d8576b\"],[0.6666666666666666,\"#ed7953\"],[0.7777777777777778,\"#fb9f3a\"],[0.8888888888888888,\"#fdca26\"],[1.0,\"#f0f921\"]],\"diverging\":[[0,\"#8e0152\"],[0.1,\"#c51b7d\"],[0.2,\"#de77ae\"],[0.3,\"#f1b6da\"],[0.4,\"#fde0ef\"],[0.5,\"#f7f7f7\"],[0.6,\"#e6f5d0\"],[0.7,\"#b8e186\"],[0.8,\"#7fbc41\"],[0.9,\"#4d9221\"],[1,\"#276419\"]]},\"xaxis\":{\"gridcolor\":\"white\",\"linecolor\":\"white\",\"ticks\":\"\",\"title\":{\"standoff\":15},\"zerolinecolor\":\"white\",\"automargin\":true,\"zerolinewidth\":2},\"yaxis\":{\"gridcolor\":\"white\",\"linecolor\":\"white\",\"ticks\":\"\",\"title\":{\"standoff\":15},\"zerolinecolor\":\"white\",\"automargin\":true,\"zerolinewidth\":2},\"scene\":{\"xaxis\":{\"backgroundcolor\":\"#E5ECF6\",\"gridcolor\":\"white\",\"linecolor\":\"white\",\"showbackground\":true,\"ticks\":\"\",\"zerolinecolor\":\"white\",\"gridwidth\":2},\"yaxis\":{\"backgroundcolor\":\"#E5ECF6\",\"gridcolor\":\"white\",\"linecolor\":\"white\",\"showbackground\":true,\"ticks\":\"\",\"zerolinecolor\":\"white\",\"gridwidth\":2},\"zaxis\":{\"backgroundcolor\":\"#E5ECF6\",\"gridcolor\":\"white\",\"linecolor\":\"white\",\"showbackground\":true,\"ticks\":\"\",\"zerolinecolor\":\"white\",\"gridwidth\":2}},\"shapedefaults\":{\"line\":{\"color\":\"#2a3f5f\"}},\"annotationdefaults\":{\"arrowcolor\":\"#2a3f5f\",\"arrowhead\":0,\"arrowwidth\":1},\"geo\":{\"bgcolor\":\"white\",\"landcolor\":\"#E5ECF6\",\"subunitcolor\":\"white\",\"showland\":true,\"showlakes\":true,\"lakecolor\":\"white\"},\"title\":{\"x\":0.05},\"mapbox\":{\"style\":\"light\"}}}},                        {\"responsive\": true}                    ).then(function(){\n",
              "                            \n",
              "var gd = document.getElementById('6596ae41-3308-4c0f-bddd-a7d57ae643a2');\n",
              "var x = new MutationObserver(function (mutations, observer) {{\n",
              "        var display = window.getComputedStyle(gd).display;\n",
              "        if (!display || display === 'none') {{\n",
              "            console.log([gd, 'removed!']);\n",
              "            Plotly.purge(gd);\n",
              "            observer.disconnect();\n",
              "        }}\n",
              "}});\n",
              "\n",
              "// Listen for the removal of the full notebook cells\n",
              "var notebookContainer = gd.closest('#notebook-container');\n",
              "if (notebookContainer) {{\n",
              "    x.observe(notebookContainer, {childList: true});\n",
              "}}\n",
              "\n",
              "// Listen for the clearing of the current output cell\n",
              "var outputEl = gd.closest('.output');\n",
              "if (outputEl) {{\n",
              "    x.observe(outputEl, {childList: true});\n",
              "}}\n",
              "\n",
              "                        })                };                            </script>        </div>\n",
              "</body>\n",
              "</html>"
            ]
          },
          "metadata": {},
          "output_type": "display_data"
        }
      ],
      "source": [
        "# 1. Optimization History\n",
        "plot_optimization_history(study).show()"
      ]
    },
    {
      "cell_type": "code",
      "execution_count": 25,
      "metadata": {
        "colab": {
          "base_uri": "https://localhost:8080/",
          "height": 542
        },
        "id": "AOpHimRNIVdH",
        "outputId": "45254cbb-c2c3-428c-8b33-775d6ea19d34"
      },
      "outputs": [
        {
          "data": {
            "text/html": [
              "<html>\n",
              "<head><meta charset=\"utf-8\" /></head>\n",
              "<body>\n",
              "    <div>            <script src=\"https://cdnjs.cloudflare.com/ajax/libs/mathjax/2.7.5/MathJax.js?config=TeX-AMS-MML_SVG\"></script><script type=\"text/javascript\">if (window.MathJax && window.MathJax.Hub && window.MathJax.Hub.Config) {window.MathJax.Hub.Config({SVG: {font: \"STIX-Web\"}});}</script>                <script type=\"text/javascript\">window.PlotlyConfig = {MathJaxConfig: 'local'};</script>\n",
              "        <script charset=\"utf-8\" src=\"https://cdn.plot.ly/plotly-2.35.2.min.js\"></script>                <div id=\"cce12d28-f77b-473c-96b4-084cc0e3075e\" class=\"plotly-graph-div\" style=\"height:525px; width:100%;\"></div>            <script type=\"text/javascript\">                                    window.PLOTLYENV=window.PLOTLYENV || {};                                    if (document.getElementById(\"cce12d28-f77b-473c-96b4-084cc0e3075e\")) {                    Plotly.newPlot(                        \"cce12d28-f77b-473c-96b4-084cc0e3075e\",                        [{\"dimensions\":[{\"label\":\"Objective Value\",\"range\":[0.5631666666666667,0.88775],\"values\":[0.8838333333333334,0.5631666666666667,0.8594166666666667,0.8434166666666667,0.848,0.88775,0.7625,0.8463333333333334,0.81,0.8775833333333334]},{\"label\":\"batch_size\",\"range\":[0,3],\"ticktext\":[\"16\",\"32\",\"64\",\"128\"],\"tickvals\":[0,1,2,3],\"values\":[0,1,2,2,3,3,3,3,3,3]},{\"label\":\"dropout_rate\",\"range\":[0.1,0.5],\"values\":[0.30000000000000004,0.5,0.1,0.30000000000000004,0.4,0.1,0.5,0.2,0.2,0.5]},{\"label\":\"epochs\",\"range\":[10,50],\"values\":[30,30,40,10,30,30,50,50,30,30]},{\"label\":\"learning_rate\",\"range\":[-4.862445915539126,-1.3125030599075327],\"ticktext\":[\"1.37e-05\",\"0.0001\",\"0.001\",\"0.01\",\"0.0487\"],\"tickvals\":[-4.862445915539126,-4,-3,-2,-1.3125030599075327],\"values\":[-1.916131280181756,-4.862445915539126,-2.605366063211853,-3.7830310281618496,-4.8141983491200095,-1.3125030599075327,-4.701797425280916,-2.5068074926897683,-1.977795445827805,-1.7702393793437496]},{\"label\":\"neurons_per_layer\",\"range\":[16,128],\"values\":[104,16,128,24,72,120,24,16,32,120]},{\"label\":\"num_hidden_layers\",\"range\":[1,5],\"values\":[4,3,2,2,1,5,3,2,5,1]},{\"label\":\"optimizer\",\"range\":[0,2],\"ticktext\":[\"RMSprop\",\"Adam\",\"SGD\"],\"tickvals\":[0,1,2],\"values\":[2,0,0,0,1,2,0,2,0,2]},{\"label\":\"weight_decay\",\"range\":[-4.851910696531819,-3.3351147183991565],\"ticktext\":[\"1.41e-05\",\"0.0001\",\"0.000462\"],\"tickvals\":[-4.851910696531819,-4,-3.3351147183991565],\"values\":[-3.982858617670594,-3.449734353277771,-3.3351147183991565,-3.429648077213973,-3.631533946975686,-4.438130980625239,-4.851910696531819,-4.760811508123396,-3.392655846201771,-3.9785053948448685]}],\"labelangle\":30,\"labelside\":\"bottom\",\"line\":{\"color\":[0.8838333333333334,0.5631666666666667,0.8594166666666667,0.8434166666666667,0.848,0.88775,0.7625,0.8463333333333334,0.81,0.8775833333333334],\"colorbar\":{\"title\":{\"text\":\"Objective Value\"}},\"colorscale\":[[0.0,\"rgb(247,251,255)\"],[0.125,\"rgb(222,235,247)\"],[0.25,\"rgb(198,219,239)\"],[0.375,\"rgb(158,202,225)\"],[0.5,\"rgb(107,174,214)\"],[0.625,\"rgb(66,146,198)\"],[0.75,\"rgb(33,113,181)\"],[0.875,\"rgb(8,81,156)\"],[1.0,\"rgb(8,48,107)\"]],\"reversescale\":false,\"showscale\":true},\"type\":\"parcoords\"}],                        {\"title\":{\"text\":\"Parallel Coordinate Plot\"},\"template\":{\"data\":{\"histogram2dcontour\":[{\"type\":\"histogram2dcontour\",\"colorbar\":{\"outlinewidth\":0,\"ticks\":\"\"},\"colorscale\":[[0.0,\"#0d0887\"],[0.1111111111111111,\"#46039f\"],[0.2222222222222222,\"#7201a8\"],[0.3333333333333333,\"#9c179e\"],[0.4444444444444444,\"#bd3786\"],[0.5555555555555556,\"#d8576b\"],[0.6666666666666666,\"#ed7953\"],[0.7777777777777778,\"#fb9f3a\"],[0.8888888888888888,\"#fdca26\"],[1.0,\"#f0f921\"]]}],\"choropleth\":[{\"type\":\"choropleth\",\"colorbar\":{\"outlinewidth\":0,\"ticks\":\"\"}}],\"histogram2d\":[{\"type\":\"histogram2d\",\"colorbar\":{\"outlinewidth\":0,\"ticks\":\"\"},\"colorscale\":[[0.0,\"#0d0887\"],[0.1111111111111111,\"#46039f\"],[0.2222222222222222,\"#7201a8\"],[0.3333333333333333,\"#9c179e\"],[0.4444444444444444,\"#bd3786\"],[0.5555555555555556,\"#d8576b\"],[0.6666666666666666,\"#ed7953\"],[0.7777777777777778,\"#fb9f3a\"],[0.8888888888888888,\"#fdca26\"],[1.0,\"#f0f921\"]]}],\"heatmap\":[{\"type\":\"heatmap\",\"colorbar\":{\"outlinewidth\":0,\"ticks\":\"\"},\"colorscale\":[[0.0,\"#0d0887\"],[0.1111111111111111,\"#46039f\"],[0.2222222222222222,\"#7201a8\"],[0.3333333333333333,\"#9c179e\"],[0.4444444444444444,\"#bd3786\"],[0.5555555555555556,\"#d8576b\"],[0.6666666666666666,\"#ed7953\"],[0.7777777777777778,\"#fb9f3a\"],[0.8888888888888888,\"#fdca26\"],[1.0,\"#f0f921\"]]}],\"heatmapgl\":[{\"type\":\"heatmapgl\",\"colorbar\":{\"outlinewidth\":0,\"ticks\":\"\"},\"colorscale\":[[0.0,\"#0d0887\"],[0.1111111111111111,\"#46039f\"],[0.2222222222222222,\"#7201a8\"],[0.3333333333333333,\"#9c179e\"],[0.4444444444444444,\"#bd3786\"],[0.5555555555555556,\"#d8576b\"],[0.6666666666666666,\"#ed7953\"],[0.7777777777777778,\"#fb9f3a\"],[0.8888888888888888,\"#fdca26\"],[1.0,\"#f0f921\"]]}],\"contourcarpet\":[{\"type\":\"contourcarpet\",\"colorbar\":{\"outlinewidth\":0,\"ticks\":\"\"}}],\"contour\":[{\"type\":\"contour\",\"colorbar\":{\"outlinewidth\":0,\"ticks\":\"\"},\"colorscale\":[[0.0,\"#0d0887\"],[0.1111111111111111,\"#46039f\"],[0.2222222222222222,\"#7201a8\"],[0.3333333333333333,\"#9c179e\"],[0.4444444444444444,\"#bd3786\"],[0.5555555555555556,\"#d8576b\"],[0.6666666666666666,\"#ed7953\"],[0.7777777777777778,\"#fb9f3a\"],[0.8888888888888888,\"#fdca26\"],[1.0,\"#f0f921\"]]}],\"surface\":[{\"type\":\"surface\",\"colorbar\":{\"outlinewidth\":0,\"ticks\":\"\"},\"colorscale\":[[0.0,\"#0d0887\"],[0.1111111111111111,\"#46039f\"],[0.2222222222222222,\"#7201a8\"],[0.3333333333333333,\"#9c179e\"],[0.4444444444444444,\"#bd3786\"],[0.5555555555555556,\"#d8576b\"],[0.6666666666666666,\"#ed7953\"],[0.7777777777777778,\"#fb9f3a\"],[0.8888888888888888,\"#fdca26\"],[1.0,\"#f0f921\"]]}],\"mesh3d\":[{\"type\":\"mesh3d\",\"colorbar\":{\"outlinewidth\":0,\"ticks\":\"\"}}],\"scatter\":[{\"fillpattern\":{\"fillmode\":\"overlay\",\"size\":10,\"solidity\":0.2},\"type\":\"scatter\"}],\"parcoords\":[{\"type\":\"parcoords\",\"line\":{\"colorbar\":{\"outlinewidth\":0,\"ticks\":\"\"}}}],\"scatterpolargl\":[{\"type\":\"scatterpolargl\",\"marker\":{\"colorbar\":{\"outlinewidth\":0,\"ticks\":\"\"}}}],\"bar\":[{\"error_x\":{\"color\":\"#2a3f5f\"},\"error_y\":{\"color\":\"#2a3f5f\"},\"marker\":{\"line\":{\"color\":\"#E5ECF6\",\"width\":0.5},\"pattern\":{\"fillmode\":\"overlay\",\"size\":10,\"solidity\":0.2}},\"type\":\"bar\"}],\"scattergeo\":[{\"type\":\"scattergeo\",\"marker\":{\"colorbar\":{\"outlinewidth\":0,\"ticks\":\"\"}}}],\"scatterpolar\":[{\"type\":\"scatterpolar\",\"marker\":{\"colorbar\":{\"outlinewidth\":0,\"ticks\":\"\"}}}],\"histogram\":[{\"marker\":{\"pattern\":{\"fillmode\":\"overlay\",\"size\":10,\"solidity\":0.2}},\"type\":\"histogram\"}],\"scattergl\":[{\"type\":\"scattergl\",\"marker\":{\"colorbar\":{\"outlinewidth\":0,\"ticks\":\"\"}}}],\"scatter3d\":[{\"type\":\"scatter3d\",\"line\":{\"colorbar\":{\"outlinewidth\":0,\"ticks\":\"\"}},\"marker\":{\"colorbar\":{\"outlinewidth\":0,\"ticks\":\"\"}}}],\"scattermapbox\":[{\"type\":\"scattermapbox\",\"marker\":{\"colorbar\":{\"outlinewidth\":0,\"ticks\":\"\"}}}],\"scatterternary\":[{\"type\":\"scatterternary\",\"marker\":{\"colorbar\":{\"outlinewidth\":0,\"ticks\":\"\"}}}],\"scattercarpet\":[{\"type\":\"scattercarpet\",\"marker\":{\"colorbar\":{\"outlinewidth\":0,\"ticks\":\"\"}}}],\"carpet\":[{\"aaxis\":{\"endlinecolor\":\"#2a3f5f\",\"gridcolor\":\"white\",\"linecolor\":\"white\",\"minorgridcolor\":\"white\",\"startlinecolor\":\"#2a3f5f\"},\"baxis\":{\"endlinecolor\":\"#2a3f5f\",\"gridcolor\":\"white\",\"linecolor\":\"white\",\"minorgridcolor\":\"white\",\"startlinecolor\":\"#2a3f5f\"},\"type\":\"carpet\"}],\"table\":[{\"cells\":{\"fill\":{\"color\":\"#EBF0F8\"},\"line\":{\"color\":\"white\"}},\"header\":{\"fill\":{\"color\":\"#C8D4E3\"},\"line\":{\"color\":\"white\"}},\"type\":\"table\"}],\"barpolar\":[{\"marker\":{\"line\":{\"color\":\"#E5ECF6\",\"width\":0.5},\"pattern\":{\"fillmode\":\"overlay\",\"size\":10,\"solidity\":0.2}},\"type\":\"barpolar\"}],\"pie\":[{\"automargin\":true,\"type\":\"pie\"}]},\"layout\":{\"autotypenumbers\":\"strict\",\"colorway\":[\"#636efa\",\"#EF553B\",\"#00cc96\",\"#ab63fa\",\"#FFA15A\",\"#19d3f3\",\"#FF6692\",\"#B6E880\",\"#FF97FF\",\"#FECB52\"],\"font\":{\"color\":\"#2a3f5f\"},\"hovermode\":\"closest\",\"hoverlabel\":{\"align\":\"left\"},\"paper_bgcolor\":\"white\",\"plot_bgcolor\":\"#E5ECF6\",\"polar\":{\"bgcolor\":\"#E5ECF6\",\"angularaxis\":{\"gridcolor\":\"white\",\"linecolor\":\"white\",\"ticks\":\"\"},\"radialaxis\":{\"gridcolor\":\"white\",\"linecolor\":\"white\",\"ticks\":\"\"}},\"ternary\":{\"bgcolor\":\"#E5ECF6\",\"aaxis\":{\"gridcolor\":\"white\",\"linecolor\":\"white\",\"ticks\":\"\"},\"baxis\":{\"gridcolor\":\"white\",\"linecolor\":\"white\",\"ticks\":\"\"},\"caxis\":{\"gridcolor\":\"white\",\"linecolor\":\"white\",\"ticks\":\"\"}},\"coloraxis\":{\"colorbar\":{\"outlinewidth\":0,\"ticks\":\"\"}},\"colorscale\":{\"sequential\":[[0.0,\"#0d0887\"],[0.1111111111111111,\"#46039f\"],[0.2222222222222222,\"#7201a8\"],[0.3333333333333333,\"#9c179e\"],[0.4444444444444444,\"#bd3786\"],[0.5555555555555556,\"#d8576b\"],[0.6666666666666666,\"#ed7953\"],[0.7777777777777778,\"#fb9f3a\"],[0.8888888888888888,\"#fdca26\"],[1.0,\"#f0f921\"]],\"sequentialminus\":[[0.0,\"#0d0887\"],[0.1111111111111111,\"#46039f\"],[0.2222222222222222,\"#7201a8\"],[0.3333333333333333,\"#9c179e\"],[0.4444444444444444,\"#bd3786\"],[0.5555555555555556,\"#d8576b\"],[0.6666666666666666,\"#ed7953\"],[0.7777777777777778,\"#fb9f3a\"],[0.8888888888888888,\"#fdca26\"],[1.0,\"#f0f921\"]],\"diverging\":[[0,\"#8e0152\"],[0.1,\"#c51b7d\"],[0.2,\"#de77ae\"],[0.3,\"#f1b6da\"],[0.4,\"#fde0ef\"],[0.5,\"#f7f7f7\"],[0.6,\"#e6f5d0\"],[0.7,\"#b8e186\"],[0.8,\"#7fbc41\"],[0.9,\"#4d9221\"],[1,\"#276419\"]]},\"xaxis\":{\"gridcolor\":\"white\",\"linecolor\":\"white\",\"ticks\":\"\",\"title\":{\"standoff\":15},\"zerolinecolor\":\"white\",\"automargin\":true,\"zerolinewidth\":2},\"yaxis\":{\"gridcolor\":\"white\",\"linecolor\":\"white\",\"ticks\":\"\",\"title\":{\"standoff\":15},\"zerolinecolor\":\"white\",\"automargin\":true,\"zerolinewidth\":2},\"scene\":{\"xaxis\":{\"backgroundcolor\":\"#E5ECF6\",\"gridcolor\":\"white\",\"linecolor\":\"white\",\"showbackground\":true,\"ticks\":\"\",\"zerolinecolor\":\"white\",\"gridwidth\":2},\"yaxis\":{\"backgroundcolor\":\"#E5ECF6\",\"gridcolor\":\"white\",\"linecolor\":\"white\",\"showbackground\":true,\"ticks\":\"\",\"zerolinecolor\":\"white\",\"gridwidth\":2},\"zaxis\":{\"backgroundcolor\":\"#E5ECF6\",\"gridcolor\":\"white\",\"linecolor\":\"white\",\"showbackground\":true,\"ticks\":\"\",\"zerolinecolor\":\"white\",\"gridwidth\":2}},\"shapedefaults\":{\"line\":{\"color\":\"#2a3f5f\"}},\"annotationdefaults\":{\"arrowcolor\":\"#2a3f5f\",\"arrowhead\":0,\"arrowwidth\":1},\"geo\":{\"bgcolor\":\"white\",\"landcolor\":\"#E5ECF6\",\"subunitcolor\":\"white\",\"showland\":true,\"showlakes\":true,\"lakecolor\":\"white\"},\"title\":{\"x\":0.05},\"mapbox\":{\"style\":\"light\"}}}},                        {\"responsive\": true}                    ).then(function(){\n",
              "                            \n",
              "var gd = document.getElementById('cce12d28-f77b-473c-96b4-084cc0e3075e');\n",
              "var x = new MutationObserver(function (mutations, observer) {{\n",
              "        var display = window.getComputedStyle(gd).display;\n",
              "        if (!display || display === 'none') {{\n",
              "            console.log([gd, 'removed!']);\n",
              "            Plotly.purge(gd);\n",
              "            observer.disconnect();\n",
              "        }}\n",
              "}});\n",
              "\n",
              "// Listen for the removal of the full notebook cells\n",
              "var notebookContainer = gd.closest('#notebook-container');\n",
              "if (notebookContainer) {{\n",
              "    x.observe(notebookContainer, {childList: true});\n",
              "}}\n",
              "\n",
              "// Listen for the clearing of the current output cell\n",
              "var outputEl = gd.closest('.output');\n",
              "if (outputEl) {{\n",
              "    x.observe(outputEl, {childList: true});\n",
              "}}\n",
              "\n",
              "                        })                };                            </script>        </div>\n",
              "</body>\n",
              "</html>"
            ]
          },
          "metadata": {},
          "output_type": "display_data"
        }
      ],
      "source": [
        "# 2. Parallel Coordinates Plot\n",
        "plot_parallel_coordinate(study).show()"
      ]
    },
    {
      "cell_type": "code",
      "execution_count": 26,
      "metadata": {
        "colab": {
          "base_uri": "https://localhost:8080/",
          "height": 562
        },
        "id": "-yPgEsxwIXTy",
        "outputId": "444d776f-c7c3-4e60-fd15-3add89064eca"
      },
      "outputs": [
        {
          "data": {
            "text/html": [
              "<html>\n",
              "<head><meta charset=\"utf-8\" /></head>\n",
              "<body>\n",
              "    <div>            <script src=\"https://cdnjs.cloudflare.com/ajax/libs/mathjax/2.7.5/MathJax.js?config=TeX-AMS-MML_SVG\"></script><script type=\"text/javascript\">if (window.MathJax && window.MathJax.Hub && window.MathJax.Hub.Config) {window.MathJax.Hub.Config({SVG: {font: \"STIX-Web\"}});}</script>                <script type=\"text/javascript\">window.PlotlyConfig = {MathJaxConfig: 'local'};</script>\n",
              "        <script charset=\"utf-8\" src=\"https://cdn.plot.ly/plotly-2.35.2.min.js\"></script>                <div id=\"bcd3bf6d-707f-4a67-9ba1-69c3f047b9fc\" class=\"plotly-graph-div\" style=\"height:525px; width:2400px;\"></div>            <script type=\"text/javascript\">                                    window.PLOTLYENV=window.PLOTLYENV || {};                                    if (document.getElementById(\"bcd3bf6d-707f-4a67-9ba1-69c3f047b9fc\")) {                    Plotly.newPlot(                        \"bcd3bf6d-707f-4a67-9ba1-69c3f047b9fc\",                        [{\"marker\":{\"color\":[0,1,2,3,4,5,6,7,8,9],\"colorbar\":{\"title\":{\"text\":\"Trial\"},\"x\":1.0,\"xpad\":40},\"colorscale\":[[0.0,\"rgb(247,251,255)\"],[0.125,\"rgb(222,235,247)\"],[0.25,\"rgb(198,219,239)\"],[0.375,\"rgb(158,202,225)\"],[0.5,\"rgb(107,174,214)\"],[0.625,\"rgb(66,146,198)\"],[0.75,\"rgb(33,113,181)\"],[0.875,\"rgb(8,81,156)\"],[1.0,\"rgb(8,48,107)\"]],\"line\":{\"color\":\"Grey\",\"width\":0.5},\"showscale\":true},\"mode\":\"markers\",\"name\":\"Feasible Trial\",\"showlegend\":false,\"x\":[64,64,128,32,128,128,128,16,128,128],\"y\":[0.8594166666666667,0.8434166666666667,0.848,0.5631666666666667,0.88775,0.7625,0.8463333333333334,0.8838333333333334,0.81,0.8775833333333334],\"type\":\"scatter\",\"xaxis\":\"x\",\"yaxis\":\"y\"},{\"marker\":{\"color\":[0,1,2,3,4,5,6,7,8,9],\"colorbar\":{\"title\":{\"text\":\"Trial\"},\"x\":1.0,\"xpad\":40},\"colorscale\":[[0.0,\"rgb(247,251,255)\"],[0.125,\"rgb(222,235,247)\"],[0.25,\"rgb(198,219,239)\"],[0.375,\"rgb(158,202,225)\"],[0.5,\"rgb(107,174,214)\"],[0.625,\"rgb(66,146,198)\"],[0.75,\"rgb(33,113,181)\"],[0.875,\"rgb(8,81,156)\"],[1.0,\"rgb(8,48,107)\"]],\"line\":{\"color\":\"Grey\",\"width\":0.5},\"showscale\":false},\"mode\":\"markers\",\"name\":\"Feasible Trial\",\"showlegend\":false,\"x\":[0.1,0.30000000000000004,0.4,0.5,0.1,0.5,0.2,0.30000000000000004,0.2,0.5],\"y\":[0.8594166666666667,0.8434166666666667,0.848,0.5631666666666667,0.88775,0.7625,0.8463333333333334,0.8838333333333334,0.81,0.8775833333333334],\"type\":\"scatter\",\"xaxis\":\"x2\",\"yaxis\":\"y2\"},{\"marker\":{\"color\":[0,1,2,3,4,5,6,7,8,9],\"colorbar\":{\"title\":{\"text\":\"Trial\"},\"x\":1.0,\"xpad\":40},\"colorscale\":[[0.0,\"rgb(247,251,255)\"],[0.125,\"rgb(222,235,247)\"],[0.25,\"rgb(198,219,239)\"],[0.375,\"rgb(158,202,225)\"],[0.5,\"rgb(107,174,214)\"],[0.625,\"rgb(66,146,198)\"],[0.75,\"rgb(33,113,181)\"],[0.875,\"rgb(8,81,156)\"],[1.0,\"rgb(8,48,107)\"]],\"line\":{\"color\":\"Grey\",\"width\":0.5},\"showscale\":false},\"mode\":\"markers\",\"name\":\"Feasible Trial\",\"showlegend\":false,\"x\":[40,10,30,30,30,50,50,30,30,30],\"y\":[0.8594166666666667,0.8434166666666667,0.848,0.5631666666666667,0.88775,0.7625,0.8463333333333334,0.8838333333333334,0.81,0.8775833333333334],\"type\":\"scatter\",\"xaxis\":\"x3\",\"yaxis\":\"y3\"},{\"marker\":{\"color\":[0,1,2,3,4,5,6,7,8,9],\"colorbar\":{\"title\":{\"text\":\"Trial\"},\"x\":1.0,\"xpad\":40},\"colorscale\":[[0.0,\"rgb(247,251,255)\"],[0.125,\"rgb(222,235,247)\"],[0.25,\"rgb(198,219,239)\"],[0.375,\"rgb(158,202,225)\"],[0.5,\"rgb(107,174,214)\"],[0.625,\"rgb(66,146,198)\"],[0.75,\"rgb(33,113,181)\"],[0.875,\"rgb(8,81,156)\"],[1.0,\"rgb(8,48,107)\"]],\"line\":{\"color\":\"Grey\",\"width\":0.5},\"showscale\":false},\"mode\":\"markers\",\"name\":\"Feasible Trial\",\"showlegend\":false,\"x\":[0.0024810409748678114,0.00016480446427978953,0.000015339162591163613,0.000013726318898045866,0.04869640941520897,0.000019870215385428627,0.0031130959561221226,0.012130221181165156,0.010524574681335632,0.016973078532467004],\"y\":[0.8594166666666667,0.8434166666666667,0.848,0.5631666666666667,0.88775,0.7625,0.8463333333333334,0.8838333333333334,0.81,0.8775833333333334],\"type\":\"scatter\",\"xaxis\":\"x4\",\"yaxis\":\"y4\"},{\"marker\":{\"color\":[0,1,2,3,4,5,6,7,8,9],\"colorbar\":{\"title\":{\"text\":\"Trial\"},\"x\":1.0,\"xpad\":40},\"colorscale\":[[0.0,\"rgb(247,251,255)\"],[0.125,\"rgb(222,235,247)\"],[0.25,\"rgb(198,219,239)\"],[0.375,\"rgb(158,202,225)\"],[0.5,\"rgb(107,174,214)\"],[0.625,\"rgb(66,146,198)\"],[0.75,\"rgb(33,113,181)\"],[0.875,\"rgb(8,81,156)\"],[1.0,\"rgb(8,48,107)\"]],\"line\":{\"color\":\"Grey\",\"width\":0.5},\"showscale\":false},\"mode\":\"markers\",\"name\":\"Feasible Trial\",\"showlegend\":false,\"x\":[128,24,72,16,120,24,16,104,32,120],\"y\":[0.8594166666666667,0.8434166666666667,0.848,0.5631666666666667,0.88775,0.7625,0.8463333333333334,0.8838333333333334,0.81,0.8775833333333334],\"type\":\"scatter\",\"xaxis\":\"x5\",\"yaxis\":\"y5\"},{\"marker\":{\"color\":[0,1,2,3,4,5,6,7,8,9],\"colorbar\":{\"title\":{\"text\":\"Trial\"},\"x\":1.0,\"xpad\":40},\"colorscale\":[[0.0,\"rgb(247,251,255)\"],[0.125,\"rgb(222,235,247)\"],[0.25,\"rgb(198,219,239)\"],[0.375,\"rgb(158,202,225)\"],[0.5,\"rgb(107,174,214)\"],[0.625,\"rgb(66,146,198)\"],[0.75,\"rgb(33,113,181)\"],[0.875,\"rgb(8,81,156)\"],[1.0,\"rgb(8,48,107)\"]],\"line\":{\"color\":\"Grey\",\"width\":0.5},\"showscale\":false},\"mode\":\"markers\",\"name\":\"Feasible Trial\",\"showlegend\":false,\"x\":[2,2,1,3,5,3,2,4,5,1],\"y\":[0.8594166666666667,0.8434166666666667,0.848,0.5631666666666667,0.88775,0.7625,0.8463333333333334,0.8838333333333334,0.81,0.8775833333333334],\"type\":\"scatter\",\"xaxis\":\"x6\",\"yaxis\":\"y6\"},{\"marker\":{\"color\":[0,1,2,3,4,5,6,7,8,9],\"colorbar\":{\"title\":{\"text\":\"Trial\"},\"x\":1.0,\"xpad\":40},\"colorscale\":[[0.0,\"rgb(247,251,255)\"],[0.125,\"rgb(222,235,247)\"],[0.25,\"rgb(198,219,239)\"],[0.375,\"rgb(158,202,225)\"],[0.5,\"rgb(107,174,214)\"],[0.625,\"rgb(66,146,198)\"],[0.75,\"rgb(33,113,181)\"],[0.875,\"rgb(8,81,156)\"],[1.0,\"rgb(8,48,107)\"]],\"line\":{\"color\":\"Grey\",\"width\":0.5},\"showscale\":false},\"mode\":\"markers\",\"name\":\"Feasible Trial\",\"showlegend\":false,\"x\":[\"RMSprop\",\"RMSprop\",\"Adam\",\"RMSprop\",\"SGD\",\"RMSprop\",\"SGD\",\"SGD\",\"RMSprop\",\"SGD\"],\"y\":[0.8594166666666667,0.8434166666666667,0.848,0.5631666666666667,0.88775,0.7625,0.8463333333333334,0.8838333333333334,0.81,0.8775833333333334],\"type\":\"scatter\",\"xaxis\":\"x7\",\"yaxis\":\"y7\"},{\"marker\":{\"color\":[0,1,2,3,4,5,6,7,8,9],\"colorbar\":{\"title\":{\"text\":\"Trial\"},\"x\":1.0,\"xpad\":40},\"colorscale\":[[0.0,\"rgb(247,251,255)\"],[0.125,\"rgb(222,235,247)\"],[0.25,\"rgb(198,219,239)\"],[0.375,\"rgb(158,202,225)\"],[0.5,\"rgb(107,174,214)\"],[0.625,\"rgb(66,146,198)\"],[0.75,\"rgb(33,113,181)\"],[0.875,\"rgb(8,81,156)\"],[1.0,\"rgb(8,48,107)\"]],\"line\":{\"color\":\"Grey\",\"width\":0.5},\"showscale\":false},\"mode\":\"markers\",\"name\":\"Feasible Trial\",\"showlegend\":false,\"x\":[0.000462258900102083,0.00037183641805732076,0.000233596350262616,0.0003550304858128307,0.000036464395589807184,0.000014063366777718176,0.000017345566642360933,0.0001040258761588385,0.00040489662225846743,0.00010507384024181397],\"y\":[0.8594166666666667,0.8434166666666667,0.848,0.5631666666666667,0.88775,0.7625,0.8463333333333334,0.8838333333333334,0.81,0.8775833333333334],\"type\":\"scatter\",\"xaxis\":\"x8\",\"yaxis\":\"y8\"}],                        {\"template\":{\"data\":{\"histogram2dcontour\":[{\"type\":\"histogram2dcontour\",\"colorbar\":{\"outlinewidth\":0,\"ticks\":\"\"},\"colorscale\":[[0.0,\"#0d0887\"],[0.1111111111111111,\"#46039f\"],[0.2222222222222222,\"#7201a8\"],[0.3333333333333333,\"#9c179e\"],[0.4444444444444444,\"#bd3786\"],[0.5555555555555556,\"#d8576b\"],[0.6666666666666666,\"#ed7953\"],[0.7777777777777778,\"#fb9f3a\"],[0.8888888888888888,\"#fdca26\"],[1.0,\"#f0f921\"]]}],\"choropleth\":[{\"type\":\"choropleth\",\"colorbar\":{\"outlinewidth\":0,\"ticks\":\"\"}}],\"histogram2d\":[{\"type\":\"histogram2d\",\"colorbar\":{\"outlinewidth\":0,\"ticks\":\"\"},\"colorscale\":[[0.0,\"#0d0887\"],[0.1111111111111111,\"#46039f\"],[0.2222222222222222,\"#7201a8\"],[0.3333333333333333,\"#9c179e\"],[0.4444444444444444,\"#bd3786\"],[0.5555555555555556,\"#d8576b\"],[0.6666666666666666,\"#ed7953\"],[0.7777777777777778,\"#fb9f3a\"],[0.8888888888888888,\"#fdca26\"],[1.0,\"#f0f921\"]]}],\"heatmap\":[{\"type\":\"heatmap\",\"colorbar\":{\"outlinewidth\":0,\"ticks\":\"\"},\"colorscale\":[[0.0,\"#0d0887\"],[0.1111111111111111,\"#46039f\"],[0.2222222222222222,\"#7201a8\"],[0.3333333333333333,\"#9c179e\"],[0.4444444444444444,\"#bd3786\"],[0.5555555555555556,\"#d8576b\"],[0.6666666666666666,\"#ed7953\"],[0.7777777777777778,\"#fb9f3a\"],[0.8888888888888888,\"#fdca26\"],[1.0,\"#f0f921\"]]}],\"heatmapgl\":[{\"type\":\"heatmapgl\",\"colorbar\":{\"outlinewidth\":0,\"ticks\":\"\"},\"colorscale\":[[0.0,\"#0d0887\"],[0.1111111111111111,\"#46039f\"],[0.2222222222222222,\"#7201a8\"],[0.3333333333333333,\"#9c179e\"],[0.4444444444444444,\"#bd3786\"],[0.5555555555555556,\"#d8576b\"],[0.6666666666666666,\"#ed7953\"],[0.7777777777777778,\"#fb9f3a\"],[0.8888888888888888,\"#fdca26\"],[1.0,\"#f0f921\"]]}],\"contourcarpet\":[{\"type\":\"contourcarpet\",\"colorbar\":{\"outlinewidth\":0,\"ticks\":\"\"}}],\"contour\":[{\"type\":\"contour\",\"colorbar\":{\"outlinewidth\":0,\"ticks\":\"\"},\"colorscale\":[[0.0,\"#0d0887\"],[0.1111111111111111,\"#46039f\"],[0.2222222222222222,\"#7201a8\"],[0.3333333333333333,\"#9c179e\"],[0.4444444444444444,\"#bd3786\"],[0.5555555555555556,\"#d8576b\"],[0.6666666666666666,\"#ed7953\"],[0.7777777777777778,\"#fb9f3a\"],[0.8888888888888888,\"#fdca26\"],[1.0,\"#f0f921\"]]}],\"surface\":[{\"type\":\"surface\",\"colorbar\":{\"outlinewidth\":0,\"ticks\":\"\"},\"colorscale\":[[0.0,\"#0d0887\"],[0.1111111111111111,\"#46039f\"],[0.2222222222222222,\"#7201a8\"],[0.3333333333333333,\"#9c179e\"],[0.4444444444444444,\"#bd3786\"],[0.5555555555555556,\"#d8576b\"],[0.6666666666666666,\"#ed7953\"],[0.7777777777777778,\"#fb9f3a\"],[0.8888888888888888,\"#fdca26\"],[1.0,\"#f0f921\"]]}],\"mesh3d\":[{\"type\":\"mesh3d\",\"colorbar\":{\"outlinewidth\":0,\"ticks\":\"\"}}],\"scatter\":[{\"fillpattern\":{\"fillmode\":\"overlay\",\"size\":10,\"solidity\":0.2},\"type\":\"scatter\"}],\"parcoords\":[{\"type\":\"parcoords\",\"line\":{\"colorbar\":{\"outlinewidth\":0,\"ticks\":\"\"}}}],\"scatterpolargl\":[{\"type\":\"scatterpolargl\",\"marker\":{\"colorbar\":{\"outlinewidth\":0,\"ticks\":\"\"}}}],\"bar\":[{\"error_x\":{\"color\":\"#2a3f5f\"},\"error_y\":{\"color\":\"#2a3f5f\"},\"marker\":{\"line\":{\"color\":\"#E5ECF6\",\"width\":0.5},\"pattern\":{\"fillmode\":\"overlay\",\"size\":10,\"solidity\":0.2}},\"type\":\"bar\"}],\"scattergeo\":[{\"type\":\"scattergeo\",\"marker\":{\"colorbar\":{\"outlinewidth\":0,\"ticks\":\"\"}}}],\"scatterpolar\":[{\"type\":\"scatterpolar\",\"marker\":{\"colorbar\":{\"outlinewidth\":0,\"ticks\":\"\"}}}],\"histogram\":[{\"marker\":{\"pattern\":{\"fillmode\":\"overlay\",\"size\":10,\"solidity\":0.2}},\"type\":\"histogram\"}],\"scattergl\":[{\"type\":\"scattergl\",\"marker\":{\"colorbar\":{\"outlinewidth\":0,\"ticks\":\"\"}}}],\"scatter3d\":[{\"type\":\"scatter3d\",\"line\":{\"colorbar\":{\"outlinewidth\":0,\"ticks\":\"\"}},\"marker\":{\"colorbar\":{\"outlinewidth\":0,\"ticks\":\"\"}}}],\"scattermapbox\":[{\"type\":\"scattermapbox\",\"marker\":{\"colorbar\":{\"outlinewidth\":0,\"ticks\":\"\"}}}],\"scatterternary\":[{\"type\":\"scatterternary\",\"marker\":{\"colorbar\":{\"outlinewidth\":0,\"ticks\":\"\"}}}],\"scattercarpet\":[{\"type\":\"scattercarpet\",\"marker\":{\"colorbar\":{\"outlinewidth\":0,\"ticks\":\"\"}}}],\"carpet\":[{\"aaxis\":{\"endlinecolor\":\"#2a3f5f\",\"gridcolor\":\"white\",\"linecolor\":\"white\",\"minorgridcolor\":\"white\",\"startlinecolor\":\"#2a3f5f\"},\"baxis\":{\"endlinecolor\":\"#2a3f5f\",\"gridcolor\":\"white\",\"linecolor\":\"white\",\"minorgridcolor\":\"white\",\"startlinecolor\":\"#2a3f5f\"},\"type\":\"carpet\"}],\"table\":[{\"cells\":{\"fill\":{\"color\":\"#EBF0F8\"},\"line\":{\"color\":\"white\"}},\"header\":{\"fill\":{\"color\":\"#C8D4E3\"},\"line\":{\"color\":\"white\"}},\"type\":\"table\"}],\"barpolar\":[{\"marker\":{\"line\":{\"color\":\"#E5ECF6\",\"width\":0.5},\"pattern\":{\"fillmode\":\"overlay\",\"size\":10,\"solidity\":0.2}},\"type\":\"barpolar\"}],\"pie\":[{\"automargin\":true,\"type\":\"pie\"}]},\"layout\":{\"autotypenumbers\":\"strict\",\"colorway\":[\"#636efa\",\"#EF553B\",\"#00cc96\",\"#ab63fa\",\"#FFA15A\",\"#19d3f3\",\"#FF6692\",\"#B6E880\",\"#FF97FF\",\"#FECB52\"],\"font\":{\"color\":\"#2a3f5f\"},\"hovermode\":\"closest\",\"hoverlabel\":{\"align\":\"left\"},\"paper_bgcolor\":\"white\",\"plot_bgcolor\":\"#E5ECF6\",\"polar\":{\"bgcolor\":\"#E5ECF6\",\"angularaxis\":{\"gridcolor\":\"white\",\"linecolor\":\"white\",\"ticks\":\"\"},\"radialaxis\":{\"gridcolor\":\"white\",\"linecolor\":\"white\",\"ticks\":\"\"}},\"ternary\":{\"bgcolor\":\"#E5ECF6\",\"aaxis\":{\"gridcolor\":\"white\",\"linecolor\":\"white\",\"ticks\":\"\"},\"baxis\":{\"gridcolor\":\"white\",\"linecolor\":\"white\",\"ticks\":\"\"},\"caxis\":{\"gridcolor\":\"white\",\"linecolor\":\"white\",\"ticks\":\"\"}},\"coloraxis\":{\"colorbar\":{\"outlinewidth\":0,\"ticks\":\"\"}},\"colorscale\":{\"sequential\":[[0.0,\"#0d0887\"],[0.1111111111111111,\"#46039f\"],[0.2222222222222222,\"#7201a8\"],[0.3333333333333333,\"#9c179e\"],[0.4444444444444444,\"#bd3786\"],[0.5555555555555556,\"#d8576b\"],[0.6666666666666666,\"#ed7953\"],[0.7777777777777778,\"#fb9f3a\"],[0.8888888888888888,\"#fdca26\"],[1.0,\"#f0f921\"]],\"sequentialminus\":[[0.0,\"#0d0887\"],[0.1111111111111111,\"#46039f\"],[0.2222222222222222,\"#7201a8\"],[0.3333333333333333,\"#9c179e\"],[0.4444444444444444,\"#bd3786\"],[0.5555555555555556,\"#d8576b\"],[0.6666666666666666,\"#ed7953\"],[0.7777777777777778,\"#fb9f3a\"],[0.8888888888888888,\"#fdca26\"],[1.0,\"#f0f921\"]],\"diverging\":[[0,\"#8e0152\"],[0.1,\"#c51b7d\"],[0.2,\"#de77ae\"],[0.3,\"#f1b6da\"],[0.4,\"#fde0ef\"],[0.5,\"#f7f7f7\"],[0.6,\"#e6f5d0\"],[0.7,\"#b8e186\"],[0.8,\"#7fbc41\"],[0.9,\"#4d9221\"],[1,\"#276419\"]]},\"xaxis\":{\"gridcolor\":\"white\",\"linecolor\":\"white\",\"ticks\":\"\",\"title\":{\"standoff\":15},\"zerolinecolor\":\"white\",\"automargin\":true,\"zerolinewidth\":2},\"yaxis\":{\"gridcolor\":\"white\",\"linecolor\":\"white\",\"ticks\":\"\",\"title\":{\"standoff\":15},\"zerolinecolor\":\"white\",\"automargin\":true,\"zerolinewidth\":2},\"scene\":{\"xaxis\":{\"backgroundcolor\":\"#E5ECF6\",\"gridcolor\":\"white\",\"linecolor\":\"white\",\"showbackground\":true,\"ticks\":\"\",\"zerolinecolor\":\"white\",\"gridwidth\":2},\"yaxis\":{\"backgroundcolor\":\"#E5ECF6\",\"gridcolor\":\"white\",\"linecolor\":\"white\",\"showbackground\":true,\"ticks\":\"\",\"zerolinecolor\":\"white\",\"gridwidth\":2},\"zaxis\":{\"backgroundcolor\":\"#E5ECF6\",\"gridcolor\":\"white\",\"linecolor\":\"white\",\"showbackground\":true,\"ticks\":\"\",\"zerolinecolor\":\"white\",\"gridwidth\":2}},\"shapedefaults\":{\"line\":{\"color\":\"#2a3f5f\"}},\"annotationdefaults\":{\"arrowcolor\":\"#2a3f5f\",\"arrowhead\":0,\"arrowwidth\":1},\"geo\":{\"bgcolor\":\"white\",\"landcolor\":\"#E5ECF6\",\"subunitcolor\":\"white\",\"showland\":true,\"showlakes\":true,\"lakecolor\":\"white\"},\"title\":{\"x\":0.05},\"mapbox\":{\"style\":\"light\"}}},\"xaxis\":{\"anchor\":\"y\",\"domain\":[0.0,0.103125],\"title\":{\"text\":\"batch_size\"},\"type\":\"category\",\"categoryorder\":\"array\",\"categoryarray\":[16,32,64,128]},\"yaxis\":{\"anchor\":\"x\",\"domain\":[0.0,1.0],\"title\":{\"text\":\"Objective Value\"}},\"xaxis2\":{\"anchor\":\"y2\",\"domain\":[0.128125,0.23124999999999998],\"title\":{\"text\":\"dropout_rate\"}},\"yaxis2\":{\"anchor\":\"x2\",\"domain\":[0.0,1.0],\"matches\":\"y\",\"showticklabels\":false},\"xaxis3\":{\"anchor\":\"y3\",\"domain\":[0.25625,0.359375],\"title\":{\"text\":\"epochs\"}},\"yaxis3\":{\"anchor\":\"x3\",\"domain\":[0.0,1.0],\"matches\":\"y\",\"showticklabels\":false},\"xaxis4\":{\"anchor\":\"y4\",\"domain\":[0.38437499999999997,0.48749999999999993],\"title\":{\"text\":\"learning_rate\"},\"type\":\"log\"},\"yaxis4\":{\"anchor\":\"x4\",\"domain\":[0.0,1.0],\"matches\":\"y\",\"showticklabels\":false},\"xaxis5\":{\"anchor\":\"y5\",\"domain\":[0.5125,0.615625],\"title\":{\"text\":\"neurons_per_layer\"}},\"yaxis5\":{\"anchor\":\"x5\",\"domain\":[0.0,1.0],\"matches\":\"y\",\"showticklabels\":false},\"xaxis6\":{\"anchor\":\"y6\",\"domain\":[0.640625,0.74375],\"title\":{\"text\":\"num_hidden_layers\"}},\"yaxis6\":{\"anchor\":\"x6\",\"domain\":[0.0,1.0],\"matches\":\"y\",\"showticklabels\":false},\"xaxis7\":{\"anchor\":\"y7\",\"domain\":[0.7687499999999999,0.871875],\"title\":{\"text\":\"optimizer\"},\"type\":\"category\",\"categoryorder\":\"array\",\"categoryarray\":[\"Adam\",\"SGD\",\"RMSprop\"]},\"yaxis7\":{\"anchor\":\"x7\",\"domain\":[0.0,1.0],\"matches\":\"y\",\"showticklabels\":false},\"xaxis8\":{\"anchor\":\"y8\",\"domain\":[0.896875,1.0],\"title\":{\"text\":\"weight_decay\"},\"type\":\"log\"},\"yaxis8\":{\"anchor\":\"x8\",\"domain\":[0.0,1.0],\"matches\":\"y\",\"showticklabels\":false},\"title\":{\"text\":\"Slice Plot\"},\"width\":2400},                        {\"responsive\": true}                    ).then(function(){\n",
              "                            \n",
              "var gd = document.getElementById('bcd3bf6d-707f-4a67-9ba1-69c3f047b9fc');\n",
              "var x = new MutationObserver(function (mutations, observer) {{\n",
              "        var display = window.getComputedStyle(gd).display;\n",
              "        if (!display || display === 'none') {{\n",
              "            console.log([gd, 'removed!']);\n",
              "            Plotly.purge(gd);\n",
              "            observer.disconnect();\n",
              "        }}\n",
              "}});\n",
              "\n",
              "// Listen for the removal of the full notebook cells\n",
              "var notebookContainer = gd.closest('#notebook-container');\n",
              "if (notebookContainer) {{\n",
              "    x.observe(notebookContainer, {childList: true});\n",
              "}}\n",
              "\n",
              "// Listen for the clearing of the current output cell\n",
              "var outputEl = gd.closest('.output');\n",
              "if (outputEl) {{\n",
              "    x.observe(outputEl, {childList: true});\n",
              "}}\n",
              "\n",
              "                        })                };                            </script>        </div>\n",
              "</body>\n",
              "</html>"
            ]
          },
          "metadata": {},
          "output_type": "display_data"
        }
      ],
      "source": [
        "# 3. Slice Plot\n",
        "plot_slice(study).show()"
      ]
    },
    {
      "cell_type": "code",
      "execution_count": 30,
      "metadata": {
        "colab": {
          "base_uri": "https://localhost:8080/",
          "height": 542
        },
        "id": "ytqXJtxEIZBU",
        "outputId": "5afd8008-2f5b-4936-9f98-988a38c88ea6"
      },
      "outputs": [
        {
          "data": {
            "text/html": [
              "<html>\n",
              "<head><meta charset=\"utf-8\" /></head>\n",
              "<body>\n",
              "    <div>            <script src=\"https://cdnjs.cloudflare.com/ajax/libs/mathjax/2.7.5/MathJax.js?config=TeX-AMS-MML_SVG\"></script><script type=\"text/javascript\">if (window.MathJax && window.MathJax.Hub && window.MathJax.Hub.Config) {window.MathJax.Hub.Config({SVG: {font: \"STIX-Web\"}});}</script>                <script type=\"text/javascript\">window.PlotlyConfig = {MathJaxConfig: 'local'};</script>\n",
              "        <script charset=\"utf-8\" src=\"https://cdn.plot.ly/plotly-2.35.2.min.js\"></script>                <div id=\"24c55d82-5362-4768-83eb-d8476140e4ca\" class=\"plotly-graph-div\" style=\"height:525px; width:100%;\"></div>            <script type=\"text/javascript\">                                    window.PLOTLYENV=window.PLOTLYENV || {};                                    if (document.getElementById(\"24c55d82-5362-4768-83eb-d8476140e4ca\")) {                    Plotly.newPlot(                        \"24c55d82-5362-4768-83eb-d8476140e4ca\",                        [{\"type\":\"scatter\",\"xaxis\":\"x\",\"yaxis\":\"y\"},{\"colorbar\":{\"title\":{\"text\":\"Objective Value\"}},\"colorscale\":[[0.0,\"rgb(247,251,255)\"],[0.125,\"rgb(222,235,247)\"],[0.25,\"rgb(198,219,239)\"],[0.375,\"rgb(158,202,225)\"],[0.5,\"rgb(107,174,214)\"],[0.625,\"rgb(66,146,198)\"],[0.75,\"rgb(33,113,181)\"],[0.875,\"rgb(8,81,156)\"],[1.0,\"rgb(8,48,107)\"]],\"connectgaps\":true,\"contours\":{\"coloring\":\"heatmap\"},\"hoverinfo\":\"none\",\"line\":{\"smoothing\":1.3},\"reversescale\":false,\"showscale\":true,\"x\":[10.399999999999999,16,32,64,128,133.6],\"y\":[0.08,0.1,0.2,0.30000000000000004,0.4,0.5,0.52],\"z\":[[null,null,null,null,null,null],[null,null,null,0.8594166666666667,0.88775,null],[null,null,null,null,0.8463333333333334,null],[null,0.8838333333333334,null,0.8434166666666667,null,null],[null,null,null,null,0.848,null],[null,null,0.5631666666666667,null,0.8775833333333334,null],[null,null,null,null,null,null]],\"type\":\"contour\",\"xaxis\":\"x9\",\"yaxis\":\"y9\"},{\"marker\":{\"color\":\"black\",\"line\":{\"color\":\"Gray\",\"width\":2.0}},\"mode\":\"markers\",\"name\":\"Feasible Trial\",\"showlegend\":false,\"x\":[64,64,128,32,128,128,128,16,128,128],\"y\":[0.1,0.30000000000000004,0.4,0.5,0.1,0.5,0.2,0.30000000000000004,0.2,0.5],\"type\":\"scatter\",\"xaxis\":\"x9\",\"yaxis\":\"y9\"},{\"colorbar\":{\"title\":{\"text\":\"Objective Value\"}},\"colorscale\":[[0.0,\"rgb(247,251,255)\"],[0.125,\"rgb(222,235,247)\"],[0.25,\"rgb(198,219,239)\"],[0.375,\"rgb(158,202,225)\"],[0.5,\"rgb(107,174,214)\"],[0.625,\"rgb(66,146,198)\"],[0.75,\"rgb(33,113,181)\"],[0.875,\"rgb(8,81,156)\"],[1.0,\"rgb(8,48,107)\"]],\"connectgaps\":true,\"contours\":{\"coloring\":\"heatmap\"},\"hoverinfo\":\"none\",\"line\":{\"smoothing\":1.3},\"reversescale\":false,\"showscale\":false,\"x\":[10.399999999999999,16,32,64,128,133.6],\"y\":[8.0,10,30,40,50,52.0],\"z\":[[null,null,null,null,null,null],[null,null,null,0.8434166666666667,null,null],[null,0.8838333333333334,0.5631666666666667,null,0.88775,null],[null,null,null,0.8594166666666667,null,null],[null,null,null,null,0.8463333333333334,null],[null,null,null,null,null,null]],\"type\":\"contour\",\"xaxis\":\"x17\",\"yaxis\":\"y17\"},{\"marker\":{\"color\":\"black\",\"line\":{\"color\":\"Gray\",\"width\":2.0}},\"mode\":\"markers\",\"name\":\"Feasible Trial\",\"showlegend\":false,\"x\":[64,64,128,32,128,128,128,16,128,128],\"y\":[40,10,30,30,30,50,50,30,30,30],\"type\":\"scatter\",\"xaxis\":\"x17\",\"yaxis\":\"y17\"},{\"colorbar\":{\"title\":{\"text\":\"Objective Value\"}},\"colorscale\":[[0.0,\"rgb(247,251,255)\"],[0.125,\"rgb(222,235,247)\"],[0.25,\"rgb(198,219,239)\"],[0.375,\"rgb(158,202,225)\"],[0.5,\"rgb(107,174,214)\"],[0.625,\"rgb(66,146,198)\"],[0.75,\"rgb(33,113,181)\"],[0.875,\"rgb(8,81,156)\"],[1.0,\"rgb(8,48,107)\"]],\"connectgaps\":true,\"contours\":{\"coloring\":\"heatmap\"},\"hoverinfo\":\"none\",\"line\":{\"smoothing\":1.3},\"reversescale\":false,\"showscale\":false,\"x\":[10.399999999999999,16,32,64,128,133.6],\"y\":[9.12130423728921e-6,0.000013726318898045866,0.000015339162591163613,0.000019870215385428627,0.00016480446427978953,0.0024810409748678114,0.0031130959561221226,0.010524574681335632,0.012130221181165156,0.016973078532467004,0.04869640941520897,0.07328145487027551],\"z\":[[null,null,null,null,null,null],[null,null,0.5631666666666667,null,null,null],[null,null,null,null,0.848,null],[null,null,null,null,0.7625,null],[null,null,null,0.8434166666666667,null,null],[null,null,null,0.8594166666666667,null,null],[null,null,null,null,0.8463333333333334,null],[null,null,null,null,0.81,null],[null,0.8838333333333334,null,null,null,null],[null,null,null,null,0.8775833333333334,null],[null,null,null,null,0.88775,null],[null,null,null,null,null,null]],\"type\":\"contour\",\"xaxis\":\"x25\",\"yaxis\":\"y25\"},{\"marker\":{\"color\":\"black\",\"line\":{\"color\":\"Gray\",\"width\":2.0}},\"mode\":\"markers\",\"name\":\"Feasible Trial\",\"showlegend\":false,\"x\":[64,64,128,32,128,128,128,16,128,128],\"y\":[0.0024810409748678114,0.00016480446427978953,0.000015339162591163613,0.000013726318898045866,0.04869640941520897,0.000019870215385428627,0.0031130959561221226,0.012130221181165156,0.010524574681335632,0.016973078532467004],\"type\":\"scatter\",\"xaxis\":\"x25\",\"yaxis\":\"y25\"},{\"colorbar\":{\"title\":{\"text\":\"Objective Value\"}},\"colorscale\":[[0.0,\"rgb(247,251,255)\"],[0.125,\"rgb(222,235,247)\"],[0.25,\"rgb(198,219,239)\"],[0.375,\"rgb(158,202,225)\"],[0.5,\"rgb(107,174,214)\"],[0.625,\"rgb(66,146,198)\"],[0.75,\"rgb(33,113,181)\"],[0.875,\"rgb(8,81,156)\"],[1.0,\"rgb(8,48,107)\"]],\"connectgaps\":true,\"contours\":{\"coloring\":\"heatmap\"},\"hoverinfo\":\"none\",\"line\":{\"smoothing\":1.3},\"reversescale\":false,\"showscale\":false,\"x\":[10.399999999999999,16,32,64,128,133.6],\"y\":[10.399999999999999,16,24,32,72,104,120,128,133.6],\"z\":[[null,null,null,null,null,null],[null,null,0.5631666666666667,null,0.8463333333333334,null],[null,null,null,0.8434166666666667,0.7625,null],[null,null,null,null,0.81,null],[null,null,null,null,0.848,null],[null,0.8838333333333334,null,null,null,null],[null,null,null,null,0.88775,null],[null,null,null,0.8594166666666667,null,null],[null,null,null,null,null,null]],\"type\":\"contour\",\"xaxis\":\"x33\",\"yaxis\":\"y33\"},{\"marker\":{\"color\":\"black\",\"line\":{\"color\":\"Gray\",\"width\":2.0}},\"mode\":\"markers\",\"name\":\"Feasible Trial\",\"showlegend\":false,\"x\":[64,64,128,32,128,128,128,16,128,128],\"y\":[128,24,72,16,120,24,16,104,32,120],\"type\":\"scatter\",\"xaxis\":\"x33\",\"yaxis\":\"y33\"},{\"colorbar\":{\"title\":{\"text\":\"Objective Value\"}},\"colorscale\":[[0.0,\"rgb(247,251,255)\"],[0.125,\"rgb(222,235,247)\"],[0.25,\"rgb(198,219,239)\"],[0.375,\"rgb(158,202,225)\"],[0.5,\"rgb(107,174,214)\"],[0.625,\"rgb(66,146,198)\"],[0.75,\"rgb(33,113,181)\"],[0.875,\"rgb(8,81,156)\"],[1.0,\"rgb(8,48,107)\"]],\"connectgaps\":true,\"contours\":{\"coloring\":\"heatmap\"},\"hoverinfo\":\"none\",\"line\":{\"smoothing\":1.3},\"reversescale\":false,\"showscale\":false,\"x\":[10.399999999999999,16,32,64,128,133.6],\"y\":[0.8,1,2,3,4,5,5.2],\"z\":[[null,null,null,null,null,null],[null,null,null,null,0.8775833333333334,null],[null,null,null,0.8594166666666667,0.8463333333333334,null],[null,null,0.5631666666666667,null,0.7625,null],[null,0.8838333333333334,null,null,null,null],[null,null,null,null,0.88775,null],[null,null,null,null,null,null]],\"type\":\"contour\",\"xaxis\":\"x41\",\"yaxis\":\"y41\"},{\"marker\":{\"color\":\"black\",\"line\":{\"color\":\"Gray\",\"width\":2.0}},\"mode\":\"markers\",\"name\":\"Feasible Trial\",\"showlegend\":false,\"x\":[64,64,128,32,128,128,128,16,128,128],\"y\":[2,2,1,3,5,3,2,4,5,1],\"type\":\"scatter\",\"xaxis\":\"x41\",\"yaxis\":\"y41\"},{\"colorbar\":{\"title\":{\"text\":\"Objective Value\"}},\"colorscale\":[[0.0,\"rgb(247,251,255)\"],[0.125,\"rgb(222,235,247)\"],[0.25,\"rgb(198,219,239)\"],[0.375,\"rgb(158,202,225)\"],[0.5,\"rgb(107,174,214)\"],[0.625,\"rgb(66,146,198)\"],[0.75,\"rgb(33,113,181)\"],[0.875,\"rgb(8,81,156)\"],[1.0,\"rgb(8,48,107)\"]],\"connectgaps\":true,\"contours\":{\"coloring\":\"heatmap\"},\"hoverinfo\":\"none\",\"line\":{\"smoothing\":1.3},\"reversescale\":false,\"showscale\":false,\"x\":[10.399999999999999,16,32,64,128,133.6],\"y\":[\"Adam\",\"RMSprop\",\"SGD\"],\"z\":[[null,null,null,null,0.848,null],[null,null,0.5631666666666667,0.8594166666666667,0.81,null],[null,0.8838333333333334,null,null,0.88775,null]],\"type\":\"contour\",\"xaxis\":\"x49\",\"yaxis\":\"y49\"},{\"marker\":{\"color\":\"black\",\"line\":{\"color\":\"Gray\",\"width\":2.0}},\"mode\":\"markers\",\"name\":\"Feasible Trial\",\"showlegend\":false,\"x\":[64,64,128,32,128,128,128,16,128,128],\"y\":[\"RMSprop\",\"RMSprop\",\"Adam\",\"RMSprop\",\"SGD\",\"RMSprop\",\"SGD\",\"SGD\",\"RMSprop\",\"SGD\"],\"type\":\"scatter\",\"xaxis\":\"x49\",\"yaxis\":\"y49\"},{\"colorbar\":{\"title\":{\"text\":\"Objective Value\"}},\"colorscale\":[[0.0,\"rgb(247,251,255)\"],[0.125,\"rgb(222,235,247)\"],[0.25,\"rgb(198,219,239)\"],[0.375,\"rgb(158,202,225)\"],[0.5,\"rgb(107,174,214)\"],[0.625,\"rgb(66,146,198)\"],[0.75,\"rgb(33,113,181)\"],[0.875,\"rgb(8,81,156)\"],[1.0,\"rgb(8,48,107)\"]],\"connectgaps\":true,\"contours\":{\"coloring\":\"heatmap\"},\"hoverinfo\":\"none\",\"line\":{\"smoothing\":1.3},\"reversescale\":false,\"showscale\":false,\"x\":[10.399999999999999,16,32,64,128,133.6],\"y\":[0.000011809989311534392,0.000014063366777718176,0.000017345566642360933,0.000036464395589807184,0.0001040258761588385,0.00010507384024181397,0.000233596350262616,0.0003550304858128307,0.00037183641805732076,0.00040489662225846743,0.000462258900102083,0.0005504591314109793],\"z\":[[null,null,null,null,null,null],[null,null,null,null,0.7625,null],[null,null,null,null,0.8463333333333334,null],[null,null,null,null,0.88775,null],[null,0.8838333333333334,null,null,null,null],[null,null,null,null,0.8775833333333334,null],[null,null,null,null,0.848,null],[null,null,0.5631666666666667,null,null,null],[null,null,null,0.8434166666666667,null,null],[null,null,null,null,0.81,null],[null,null,null,0.8594166666666667,null,null],[null,null,null,null,null,null]],\"type\":\"contour\",\"xaxis\":\"x57\",\"yaxis\":\"y57\"},{\"marker\":{\"color\":\"black\",\"line\":{\"color\":\"Gray\",\"width\":2.0}},\"mode\":\"markers\",\"name\":\"Feasible Trial\",\"showlegend\":false,\"x\":[64,64,128,32,128,128,128,16,128,128],\"y\":[0.000462258900102083,0.00037183641805732076,0.000233596350262616,0.0003550304858128307,0.000036464395589807184,0.000014063366777718176,0.000017345566642360933,0.0001040258761588385,0.00040489662225846743,0.00010507384024181397],\"type\":\"scatter\",\"xaxis\":\"x57\",\"yaxis\":\"y57\"},{\"colorbar\":{\"title\":{\"text\":\"Objective Value\"}},\"colorscale\":[[0.0,\"rgb(247,251,255)\"],[0.125,\"rgb(222,235,247)\"],[0.25,\"rgb(198,219,239)\"],[0.375,\"rgb(158,202,225)\"],[0.5,\"rgb(107,174,214)\"],[0.625,\"rgb(66,146,198)\"],[0.75,\"rgb(33,113,181)\"],[0.875,\"rgb(8,81,156)\"],[1.0,\"rgb(8,48,107)\"]],\"connectgaps\":true,\"contours\":{\"coloring\":\"heatmap\"},\"hoverinfo\":\"none\",\"line\":{\"smoothing\":1.3},\"reversescale\":false,\"showscale\":false,\"x\":[0.08,0.1,0.2,0.30000000000000004,0.4,0.5,0.52],\"y\":[10.399999999999999,16,32,64,128,133.6],\"z\":[[null,null,null,null,null,null,null],[null,null,null,0.8838333333333334,null,null,null],[null,null,null,null,null,0.5631666666666667,null],[null,0.8594166666666667,null,0.8434166666666667,null,null,null],[null,0.88775,0.8463333333333334,null,0.848,0.8775833333333334,null],[null,null,null,null,null,null,null]],\"type\":\"contour\",\"xaxis\":\"x2\",\"yaxis\":\"y2\"},{\"marker\":{\"color\":\"black\",\"line\":{\"color\":\"Gray\",\"width\":2.0}},\"mode\":\"markers\",\"name\":\"Feasible Trial\",\"showlegend\":false,\"x\":[0.1,0.30000000000000004,0.4,0.5,0.1,0.5,0.2,0.30000000000000004,0.2,0.5],\"y\":[64,64,128,32,128,128,128,16,128,128],\"type\":\"scatter\",\"xaxis\":\"x2\",\"yaxis\":\"y2\"},{\"type\":\"scatter\",\"xaxis\":\"x10\",\"yaxis\":\"y10\"},{\"colorbar\":{\"title\":{\"text\":\"Objective Value\"}},\"colorscale\":[[0.0,\"rgb(247,251,255)\"],[0.125,\"rgb(222,235,247)\"],[0.25,\"rgb(198,219,239)\"],[0.375,\"rgb(158,202,225)\"],[0.5,\"rgb(107,174,214)\"],[0.625,\"rgb(66,146,198)\"],[0.75,\"rgb(33,113,181)\"],[0.875,\"rgb(8,81,156)\"],[1.0,\"rgb(8,48,107)\"]],\"connectgaps\":true,\"contours\":{\"coloring\":\"heatmap\"},\"hoverinfo\":\"none\",\"line\":{\"smoothing\":1.3},\"reversescale\":false,\"showscale\":false,\"x\":[0.08,0.1,0.2,0.30000000000000004,0.4,0.5,0.52],\"y\":[8.0,10,30,40,50,52.0],\"z\":[[null,null,null,null,null,null,null],[null,null,null,0.8434166666666667,null,null,null],[null,0.88775,0.81,0.8838333333333334,0.848,0.8775833333333334,null],[null,0.8594166666666667,null,null,null,null,null],[null,null,0.8463333333333334,null,null,0.7625,null],[null,null,null,null,null,null,null]],\"type\":\"contour\",\"xaxis\":\"x18\",\"yaxis\":\"y18\"},{\"marker\":{\"color\":\"black\",\"line\":{\"color\":\"Gray\",\"width\":2.0}},\"mode\":\"markers\",\"name\":\"Feasible Trial\",\"showlegend\":false,\"x\":[0.1,0.30000000000000004,0.4,0.5,0.1,0.5,0.2,0.30000000000000004,0.2,0.5],\"y\":[40,10,30,30,30,50,50,30,30,30],\"type\":\"scatter\",\"xaxis\":\"x18\",\"yaxis\":\"y18\"},{\"colorbar\":{\"title\":{\"text\":\"Objective Value\"}},\"colorscale\":[[0.0,\"rgb(247,251,255)\"],[0.125,\"rgb(222,235,247)\"],[0.25,\"rgb(198,219,239)\"],[0.375,\"rgb(158,202,225)\"],[0.5,\"rgb(107,174,214)\"],[0.625,\"rgb(66,146,198)\"],[0.75,\"rgb(33,113,181)\"],[0.875,\"rgb(8,81,156)\"],[1.0,\"rgb(8,48,107)\"]],\"connectgaps\":true,\"contours\":{\"coloring\":\"heatmap\"},\"hoverinfo\":\"none\",\"line\":{\"smoothing\":1.3},\"reversescale\":false,\"showscale\":false,\"x\":[0.08,0.1,0.2,0.30000000000000004,0.4,0.5,0.52],\"y\":[9.12130423728921e-6,0.000013726318898045866,0.000015339162591163613,0.000019870215385428627,0.00016480446427978953,0.0024810409748678114,0.0031130959561221226,0.010524574681335632,0.012130221181165156,0.016973078532467004,0.04869640941520897,0.07328145487027551],\"z\":[[null,null,null,null,null,null,null],[null,null,null,null,null,0.5631666666666667,null],[null,null,null,null,0.848,null,null],[null,null,null,null,null,0.7625,null],[null,null,null,0.8434166666666667,null,null,null],[null,0.8594166666666667,null,null,null,null,null],[null,null,0.8463333333333334,null,null,null,null],[null,null,0.81,null,null,null,null],[null,null,null,0.8838333333333334,null,null,null],[null,null,null,null,null,0.8775833333333334,null],[null,0.88775,null,null,null,null,null],[null,null,null,null,null,null,null]],\"type\":\"contour\",\"xaxis\":\"x26\",\"yaxis\":\"y26\"},{\"marker\":{\"color\":\"black\",\"line\":{\"color\":\"Gray\",\"width\":2.0}},\"mode\":\"markers\",\"name\":\"Feasible Trial\",\"showlegend\":false,\"x\":[0.1,0.30000000000000004,0.4,0.5,0.1,0.5,0.2,0.30000000000000004,0.2,0.5],\"y\":[0.0024810409748678114,0.00016480446427978953,0.000015339162591163613,0.000013726318898045866,0.04869640941520897,0.000019870215385428627,0.0031130959561221226,0.012130221181165156,0.010524574681335632,0.016973078532467004],\"type\":\"scatter\",\"xaxis\":\"x26\",\"yaxis\":\"y26\"},{\"colorbar\":{\"title\":{\"text\":\"Objective Value\"}},\"colorscale\":[[0.0,\"rgb(247,251,255)\"],[0.125,\"rgb(222,235,247)\"],[0.25,\"rgb(198,219,239)\"],[0.375,\"rgb(158,202,225)\"],[0.5,\"rgb(107,174,214)\"],[0.625,\"rgb(66,146,198)\"],[0.75,\"rgb(33,113,181)\"],[0.875,\"rgb(8,81,156)\"],[1.0,\"rgb(8,48,107)\"]],\"connectgaps\":true,\"contours\":{\"coloring\":\"heatmap\"},\"hoverinfo\":\"none\",\"line\":{\"smoothing\":1.3},\"reversescale\":false,\"showscale\":false,\"x\":[0.08,0.1,0.2,0.30000000000000004,0.4,0.5,0.52],\"y\":[10.399999999999999,16,24,32,72,104,120,128,133.6],\"z\":[[null,null,null,null,null,null,null],[null,null,0.8463333333333334,null,null,0.5631666666666667,null],[null,null,null,0.8434166666666667,null,0.7625,null],[null,null,0.81,null,null,null,null],[null,null,null,null,0.848,null,null],[null,null,null,0.8838333333333334,null,null,null],[null,0.88775,null,null,null,0.8775833333333334,null],[null,0.8594166666666667,null,null,null,null,null],[null,null,null,null,null,null,null]],\"type\":\"contour\",\"xaxis\":\"x34\",\"yaxis\":\"y34\"},{\"marker\":{\"color\":\"black\",\"line\":{\"color\":\"Gray\",\"width\":2.0}},\"mode\":\"markers\",\"name\":\"Feasible Trial\",\"showlegend\":false,\"x\":[0.1,0.30000000000000004,0.4,0.5,0.1,0.5,0.2,0.30000000000000004,0.2,0.5],\"y\":[128,24,72,16,120,24,16,104,32,120],\"type\":\"scatter\",\"xaxis\":\"x34\",\"yaxis\":\"y34\"},{\"colorbar\":{\"title\":{\"text\":\"Objective Value\"}},\"colorscale\":[[0.0,\"rgb(247,251,255)\"],[0.125,\"rgb(222,235,247)\"],[0.25,\"rgb(198,219,239)\"],[0.375,\"rgb(158,202,225)\"],[0.5,\"rgb(107,174,214)\"],[0.625,\"rgb(66,146,198)\"],[0.75,\"rgb(33,113,181)\"],[0.875,\"rgb(8,81,156)\"],[1.0,\"rgb(8,48,107)\"]],\"connectgaps\":true,\"contours\":{\"coloring\":\"heatmap\"},\"hoverinfo\":\"none\",\"line\":{\"smoothing\":1.3},\"reversescale\":false,\"showscale\":false,\"x\":[0.08,0.1,0.2,0.30000000000000004,0.4,0.5,0.52],\"y\":[0.8,1,2,3,4,5,5.2],\"z\":[[null,null,null,null,null,null,null],[null,null,null,null,0.848,0.8775833333333334,null],[null,0.8594166666666667,0.8463333333333334,0.8434166666666667,null,null,null],[null,null,null,null,null,0.7625,null],[null,null,null,0.8838333333333334,null,null,null],[null,0.88775,0.81,null,null,null,null],[null,null,null,null,null,null,null]],\"type\":\"contour\",\"xaxis\":\"x42\",\"yaxis\":\"y42\"},{\"marker\":{\"color\":\"black\",\"line\":{\"color\":\"Gray\",\"width\":2.0}},\"mode\":\"markers\",\"name\":\"Feasible Trial\",\"showlegend\":false,\"x\":[0.1,0.30000000000000004,0.4,0.5,0.1,0.5,0.2,0.30000000000000004,0.2,0.5],\"y\":[2,2,1,3,5,3,2,4,5,1],\"type\":\"scatter\",\"xaxis\":\"x42\",\"yaxis\":\"y42\"},{\"colorbar\":{\"title\":{\"text\":\"Objective Value\"}},\"colorscale\":[[0.0,\"rgb(247,251,255)\"],[0.125,\"rgb(222,235,247)\"],[0.25,\"rgb(198,219,239)\"],[0.375,\"rgb(158,202,225)\"],[0.5,\"rgb(107,174,214)\"],[0.625,\"rgb(66,146,198)\"],[0.75,\"rgb(33,113,181)\"],[0.875,\"rgb(8,81,156)\"],[1.0,\"rgb(8,48,107)\"]],\"connectgaps\":true,\"contours\":{\"coloring\":\"heatmap\"},\"hoverinfo\":\"none\",\"line\":{\"smoothing\":1.3},\"reversescale\":false,\"showscale\":false,\"x\":[0.08,0.1,0.2,0.30000000000000004,0.4,0.5,0.52],\"y\":[\"Adam\",\"RMSprop\",\"SGD\"],\"z\":[[null,null,null,null,0.848,null,null],[null,0.8594166666666667,0.81,0.8434166666666667,null,0.7625,null],[null,0.88775,0.8463333333333334,0.8838333333333334,null,0.8775833333333334,null]],\"type\":\"contour\",\"xaxis\":\"x50\",\"yaxis\":\"y50\"},{\"marker\":{\"color\":\"black\",\"line\":{\"color\":\"Gray\",\"width\":2.0}},\"mode\":\"markers\",\"name\":\"Feasible Trial\",\"showlegend\":false,\"x\":[0.1,0.30000000000000004,0.4,0.5,0.1,0.5,0.2,0.30000000000000004,0.2,0.5],\"y\":[\"RMSprop\",\"RMSprop\",\"Adam\",\"RMSprop\",\"SGD\",\"RMSprop\",\"SGD\",\"SGD\",\"RMSprop\",\"SGD\"],\"type\":\"scatter\",\"xaxis\":\"x50\",\"yaxis\":\"y50\"},{\"colorbar\":{\"title\":{\"text\":\"Objective Value\"}},\"colorscale\":[[0.0,\"rgb(247,251,255)\"],[0.125,\"rgb(222,235,247)\"],[0.25,\"rgb(198,219,239)\"],[0.375,\"rgb(158,202,225)\"],[0.5,\"rgb(107,174,214)\"],[0.625,\"rgb(66,146,198)\"],[0.75,\"rgb(33,113,181)\"],[0.875,\"rgb(8,81,156)\"],[1.0,\"rgb(8,48,107)\"]],\"connectgaps\":true,\"contours\":{\"coloring\":\"heatmap\"},\"hoverinfo\":\"none\",\"line\":{\"smoothing\":1.3},\"reversescale\":false,\"showscale\":false,\"x\":[0.08,0.1,0.2,0.30000000000000004,0.4,0.5,0.52],\"y\":[0.000011809989311534392,0.000014063366777718176,0.000017345566642360933,0.000036464395589807184,0.0001040258761588385,0.00010507384024181397,0.000233596350262616,0.0003550304858128307,0.00037183641805732076,0.00040489662225846743,0.000462258900102083,0.0005504591314109793],\"z\":[[null,null,null,null,null,null,null],[null,null,null,null,null,0.7625,null],[null,null,0.8463333333333334,null,null,null,null],[null,0.88775,null,null,null,null,null],[null,null,null,0.8838333333333334,null,null,null],[null,null,null,null,null,0.8775833333333334,null],[null,null,null,null,0.848,null,null],[null,null,null,null,null,0.5631666666666667,null],[null,null,null,0.8434166666666667,null,null,null],[null,null,0.81,null,null,null,null],[null,0.8594166666666667,null,null,null,null,null],[null,null,null,null,null,null,null]],\"type\":\"contour\",\"xaxis\":\"x58\",\"yaxis\":\"y58\"},{\"marker\":{\"color\":\"black\",\"line\":{\"color\":\"Gray\",\"width\":2.0}},\"mode\":\"markers\",\"name\":\"Feasible Trial\",\"showlegend\":false,\"x\":[0.1,0.30000000000000004,0.4,0.5,0.1,0.5,0.2,0.30000000000000004,0.2,0.5],\"y\":[0.000462258900102083,0.00037183641805732076,0.000233596350262616,0.0003550304858128307,0.000036464395589807184,0.000014063366777718176,0.000017345566642360933,0.0001040258761588385,0.00040489662225846743,0.00010507384024181397],\"type\":\"scatter\",\"xaxis\":\"x58\",\"yaxis\":\"y58\"},{\"colorbar\":{\"title\":{\"text\":\"Objective Value\"}},\"colorscale\":[[0.0,\"rgb(247,251,255)\"],[0.125,\"rgb(222,235,247)\"],[0.25,\"rgb(198,219,239)\"],[0.375,\"rgb(158,202,225)\"],[0.5,\"rgb(107,174,214)\"],[0.625,\"rgb(66,146,198)\"],[0.75,\"rgb(33,113,181)\"],[0.875,\"rgb(8,81,156)\"],[1.0,\"rgb(8,48,107)\"]],\"connectgaps\":true,\"contours\":{\"coloring\":\"heatmap\"},\"hoverinfo\":\"none\",\"line\":{\"smoothing\":1.3},\"reversescale\":false,\"showscale\":false,\"x\":[8.0,10,30,40,50,52.0],\"y\":[10.399999999999999,16,32,64,128,133.6],\"z\":[[null,null,null,null,null,null],[null,null,0.8838333333333334,null,null,null],[null,null,0.5631666666666667,null,null,null],[null,0.8434166666666667,null,0.8594166666666667,null,null],[null,null,0.88775,null,0.8463333333333334,null],[null,null,null,null,null,null]],\"type\":\"contour\",\"xaxis\":\"x3\",\"yaxis\":\"y3\"},{\"marker\":{\"color\":\"black\",\"line\":{\"color\":\"Gray\",\"width\":2.0}},\"mode\":\"markers\",\"name\":\"Feasible Trial\",\"showlegend\":false,\"x\":[40,10,30,30,30,50,50,30,30,30],\"y\":[64,64,128,32,128,128,128,16,128,128],\"type\":\"scatter\",\"xaxis\":\"x3\",\"yaxis\":\"y3\"},{\"colorbar\":{\"title\":{\"text\":\"Objective Value\"}},\"colorscale\":[[0.0,\"rgb(247,251,255)\"],[0.125,\"rgb(222,235,247)\"],[0.25,\"rgb(198,219,239)\"],[0.375,\"rgb(158,202,225)\"],[0.5,\"rgb(107,174,214)\"],[0.625,\"rgb(66,146,198)\"],[0.75,\"rgb(33,113,181)\"],[0.875,\"rgb(8,81,156)\"],[1.0,\"rgb(8,48,107)\"]],\"connectgaps\":true,\"contours\":{\"coloring\":\"heatmap\"},\"hoverinfo\":\"none\",\"line\":{\"smoothing\":1.3},\"reversescale\":false,\"showscale\":false,\"x\":[8.0,10,30,40,50,52.0],\"y\":[0.08,0.1,0.2,0.30000000000000004,0.4,0.5,0.52],\"z\":[[null,null,null,null,null,null],[null,null,0.88775,0.8594166666666667,null,null],[null,null,0.81,null,0.8463333333333334,null],[null,0.8434166666666667,0.8838333333333334,null,null,null],[null,null,0.848,null,null,null],[null,null,0.8775833333333334,null,0.7625,null],[null,null,null,null,null,null]],\"type\":\"contour\",\"xaxis\":\"x11\",\"yaxis\":\"y11\"},{\"marker\":{\"color\":\"black\",\"line\":{\"color\":\"Gray\",\"width\":2.0}},\"mode\":\"markers\",\"name\":\"Feasible Trial\",\"showlegend\":false,\"x\":[40,10,30,30,30,50,50,30,30,30],\"y\":[0.1,0.30000000000000004,0.4,0.5,0.1,0.5,0.2,0.30000000000000004,0.2,0.5],\"type\":\"scatter\",\"xaxis\":\"x11\",\"yaxis\":\"y11\"},{\"type\":\"scatter\",\"xaxis\":\"x19\",\"yaxis\":\"y19\"},{\"colorbar\":{\"title\":{\"text\":\"Objective Value\"}},\"colorscale\":[[0.0,\"rgb(247,251,255)\"],[0.125,\"rgb(222,235,247)\"],[0.25,\"rgb(198,219,239)\"],[0.375,\"rgb(158,202,225)\"],[0.5,\"rgb(107,174,214)\"],[0.625,\"rgb(66,146,198)\"],[0.75,\"rgb(33,113,181)\"],[0.875,\"rgb(8,81,156)\"],[1.0,\"rgb(8,48,107)\"]],\"connectgaps\":true,\"contours\":{\"coloring\":\"heatmap\"},\"hoverinfo\":\"none\",\"line\":{\"smoothing\":1.3},\"reversescale\":false,\"showscale\":false,\"x\":[8.0,10,30,40,50,52.0],\"y\":[9.12130423728921e-6,0.000013726318898045866,0.000015339162591163613,0.000019870215385428627,0.00016480446427978953,0.0024810409748678114,0.0031130959561221226,0.010524574681335632,0.012130221181165156,0.016973078532467004,0.04869640941520897,0.07328145487027551],\"z\":[[null,null,null,null,null,null],[null,null,0.5631666666666667,null,null,null],[null,null,0.848,null,null,null],[null,null,null,null,0.7625,null],[null,0.8434166666666667,null,null,null,null],[null,null,null,0.8594166666666667,null,null],[null,null,null,null,0.8463333333333334,null],[null,null,0.81,null,null,null],[null,null,0.8838333333333334,null,null,null],[null,null,0.8775833333333334,null,null,null],[null,null,0.88775,null,null,null],[null,null,null,null,null,null]],\"type\":\"contour\",\"xaxis\":\"x27\",\"yaxis\":\"y27\"},{\"marker\":{\"color\":\"black\",\"line\":{\"color\":\"Gray\",\"width\":2.0}},\"mode\":\"markers\",\"name\":\"Feasible Trial\",\"showlegend\":false,\"x\":[40,10,30,30,30,50,50,30,30,30],\"y\":[0.0024810409748678114,0.00016480446427978953,0.000015339162591163613,0.000013726318898045866,0.04869640941520897,0.000019870215385428627,0.0031130959561221226,0.012130221181165156,0.010524574681335632,0.016973078532467004],\"type\":\"scatter\",\"xaxis\":\"x27\",\"yaxis\":\"y27\"},{\"colorbar\":{\"title\":{\"text\":\"Objective Value\"}},\"colorscale\":[[0.0,\"rgb(247,251,255)\"],[0.125,\"rgb(222,235,247)\"],[0.25,\"rgb(198,219,239)\"],[0.375,\"rgb(158,202,225)\"],[0.5,\"rgb(107,174,214)\"],[0.625,\"rgb(66,146,198)\"],[0.75,\"rgb(33,113,181)\"],[0.875,\"rgb(8,81,156)\"],[1.0,\"rgb(8,48,107)\"]],\"connectgaps\":true,\"contours\":{\"coloring\":\"heatmap\"},\"hoverinfo\":\"none\",\"line\":{\"smoothing\":1.3},\"reversescale\":false,\"showscale\":false,\"x\":[8.0,10,30,40,50,52.0],\"y\":[10.399999999999999,16,24,32,72,104,120,128,133.6],\"z\":[[null,null,null,null,null,null],[null,null,0.5631666666666667,null,0.8463333333333334,null],[null,0.8434166666666667,null,null,0.7625,null],[null,null,0.81,null,null,null],[null,null,0.848,null,null,null],[null,null,0.8838333333333334,null,null,null],[null,null,0.88775,null,null,null],[null,null,null,0.8594166666666667,null,null],[null,null,null,null,null,null]],\"type\":\"contour\",\"xaxis\":\"x35\",\"yaxis\":\"y35\"},{\"marker\":{\"color\":\"black\",\"line\":{\"color\":\"Gray\",\"width\":2.0}},\"mode\":\"markers\",\"name\":\"Feasible Trial\",\"showlegend\":false,\"x\":[40,10,30,30,30,50,50,30,30,30],\"y\":[128,24,72,16,120,24,16,104,32,120],\"type\":\"scatter\",\"xaxis\":\"x35\",\"yaxis\":\"y35\"},{\"colorbar\":{\"title\":{\"text\":\"Objective Value\"}},\"colorscale\":[[0.0,\"rgb(247,251,255)\"],[0.125,\"rgb(222,235,247)\"],[0.25,\"rgb(198,219,239)\"],[0.375,\"rgb(158,202,225)\"],[0.5,\"rgb(107,174,214)\"],[0.625,\"rgb(66,146,198)\"],[0.75,\"rgb(33,113,181)\"],[0.875,\"rgb(8,81,156)\"],[1.0,\"rgb(8,48,107)\"]],\"connectgaps\":true,\"contours\":{\"coloring\":\"heatmap\"},\"hoverinfo\":\"none\",\"line\":{\"smoothing\":1.3},\"reversescale\":false,\"showscale\":false,\"x\":[8.0,10,30,40,50,52.0],\"y\":[0.8,1,2,3,4,5,5.2],\"z\":[[null,null,null,null,null,null],[null,null,0.8775833333333334,null,null,null],[null,0.8434166666666667,null,0.8594166666666667,0.8463333333333334,null],[null,null,0.5631666666666667,null,0.7625,null],[null,null,0.8838333333333334,null,null,null],[null,null,0.88775,null,null,null],[null,null,null,null,null,null]],\"type\":\"contour\",\"xaxis\":\"x43\",\"yaxis\":\"y43\"},{\"marker\":{\"color\":\"black\",\"line\":{\"color\":\"Gray\",\"width\":2.0}},\"mode\":\"markers\",\"name\":\"Feasible Trial\",\"showlegend\":false,\"x\":[40,10,30,30,30,50,50,30,30,30],\"y\":[2,2,1,3,5,3,2,4,5,1],\"type\":\"scatter\",\"xaxis\":\"x43\",\"yaxis\":\"y43\"},{\"colorbar\":{\"title\":{\"text\":\"Objective Value\"}},\"colorscale\":[[0.0,\"rgb(247,251,255)\"],[0.125,\"rgb(222,235,247)\"],[0.25,\"rgb(198,219,239)\"],[0.375,\"rgb(158,202,225)\"],[0.5,\"rgb(107,174,214)\"],[0.625,\"rgb(66,146,198)\"],[0.75,\"rgb(33,113,181)\"],[0.875,\"rgb(8,81,156)\"],[1.0,\"rgb(8,48,107)\"]],\"connectgaps\":true,\"contours\":{\"coloring\":\"heatmap\"},\"hoverinfo\":\"none\",\"line\":{\"smoothing\":1.3},\"reversescale\":false,\"showscale\":false,\"x\":[8.0,10,30,40,50,52.0],\"y\":[\"Adam\",\"RMSprop\",\"SGD\"],\"z\":[[null,null,0.848,null,null,null],[null,0.8434166666666667,0.81,0.8594166666666667,0.7625,null],[null,null,0.88775,null,0.8463333333333334,null]],\"type\":\"contour\",\"xaxis\":\"x51\",\"yaxis\":\"y51\"},{\"marker\":{\"color\":\"black\",\"line\":{\"color\":\"Gray\",\"width\":2.0}},\"mode\":\"markers\",\"name\":\"Feasible Trial\",\"showlegend\":false,\"x\":[40,10,30,30,30,50,50,30,30,30],\"y\":[\"RMSprop\",\"RMSprop\",\"Adam\",\"RMSprop\",\"SGD\",\"RMSprop\",\"SGD\",\"SGD\",\"RMSprop\",\"SGD\"],\"type\":\"scatter\",\"xaxis\":\"x51\",\"yaxis\":\"y51\"},{\"colorbar\":{\"title\":{\"text\":\"Objective Value\"}},\"colorscale\":[[0.0,\"rgb(247,251,255)\"],[0.125,\"rgb(222,235,247)\"],[0.25,\"rgb(198,219,239)\"],[0.375,\"rgb(158,202,225)\"],[0.5,\"rgb(107,174,214)\"],[0.625,\"rgb(66,146,198)\"],[0.75,\"rgb(33,113,181)\"],[0.875,\"rgb(8,81,156)\"],[1.0,\"rgb(8,48,107)\"]],\"connectgaps\":true,\"contours\":{\"coloring\":\"heatmap\"},\"hoverinfo\":\"none\",\"line\":{\"smoothing\":1.3},\"reversescale\":false,\"showscale\":false,\"x\":[8.0,10,30,40,50,52.0],\"y\":[0.000011809989311534392,0.000014063366777718176,0.000017345566642360933,0.000036464395589807184,0.0001040258761588385,0.00010507384024181397,0.000233596350262616,0.0003550304858128307,0.00037183641805732076,0.00040489662225846743,0.000462258900102083,0.0005504591314109793],\"z\":[[null,null,null,null,null,null],[null,null,null,null,0.7625,null],[null,null,null,null,0.8463333333333334,null],[null,null,0.88775,null,null,null],[null,null,0.8838333333333334,null,null,null],[null,null,0.8775833333333334,null,null,null],[null,null,0.848,null,null,null],[null,null,0.5631666666666667,null,null,null],[null,0.8434166666666667,null,null,null,null],[null,null,0.81,null,null,null],[null,null,null,0.8594166666666667,null,null],[null,null,null,null,null,null]],\"type\":\"contour\",\"xaxis\":\"x59\",\"yaxis\":\"y59\"},{\"marker\":{\"color\":\"black\",\"line\":{\"color\":\"Gray\",\"width\":2.0}},\"mode\":\"markers\",\"name\":\"Feasible Trial\",\"showlegend\":false,\"x\":[40,10,30,30,30,50,50,30,30,30],\"y\":[0.000462258900102083,0.00037183641805732076,0.000233596350262616,0.0003550304858128307,0.000036464395589807184,0.000014063366777718176,0.000017345566642360933,0.0001040258761588385,0.00040489662225846743,0.00010507384024181397],\"type\":\"scatter\",\"xaxis\":\"x59\",\"yaxis\":\"y59\"},{\"colorbar\":{\"title\":{\"text\":\"Objective Value\"}},\"colorscale\":[[0.0,\"rgb(247,251,255)\"],[0.125,\"rgb(222,235,247)\"],[0.25,\"rgb(198,219,239)\"],[0.375,\"rgb(158,202,225)\"],[0.5,\"rgb(107,174,214)\"],[0.625,\"rgb(66,146,198)\"],[0.75,\"rgb(33,113,181)\"],[0.875,\"rgb(8,81,156)\"],[1.0,\"rgb(8,48,107)\"]],\"connectgaps\":true,\"contours\":{\"coloring\":\"heatmap\"},\"hoverinfo\":\"none\",\"line\":{\"smoothing\":1.3},\"reversescale\":false,\"showscale\":false,\"x\":[9.12130423728921e-6,0.000013726318898045866,0.000015339162591163613,0.000019870215385428627,0.00016480446427978953,0.0024810409748678114,0.0031130959561221226,0.010524574681335632,0.012130221181165156,0.016973078532467004,0.04869640941520897,0.07328145487027551],\"y\":[10.399999999999999,16,32,64,128,133.6],\"z\":[[null,null,null,null,null,null,null,null,null,null,null,null],[null,null,null,null,null,null,null,null,0.8838333333333334,null,null,null],[null,0.5631666666666667,null,null,null,null,null,null,null,null,null,null],[null,null,null,null,0.8434166666666667,0.8594166666666667,null,null,null,null,null,null],[null,null,0.848,0.7625,null,null,0.8463333333333334,0.81,null,0.8775833333333334,0.88775,null],[null,null,null,null,null,null,null,null,null,null,null,null]],\"type\":\"contour\",\"xaxis\":\"x4\",\"yaxis\":\"y4\"},{\"marker\":{\"color\":\"black\",\"line\":{\"color\":\"Gray\",\"width\":2.0}},\"mode\":\"markers\",\"name\":\"Feasible Trial\",\"showlegend\":false,\"x\":[0.0024810409748678114,0.00016480446427978953,0.000015339162591163613,0.000013726318898045866,0.04869640941520897,0.000019870215385428627,0.0031130959561221226,0.012130221181165156,0.010524574681335632,0.016973078532467004],\"y\":[64,64,128,32,128,128,128,16,128,128],\"type\":\"scatter\",\"xaxis\":\"x4\",\"yaxis\":\"y4\"},{\"colorbar\":{\"title\":{\"text\":\"Objective Value\"}},\"colorscale\":[[0.0,\"rgb(247,251,255)\"],[0.125,\"rgb(222,235,247)\"],[0.25,\"rgb(198,219,239)\"],[0.375,\"rgb(158,202,225)\"],[0.5,\"rgb(107,174,214)\"],[0.625,\"rgb(66,146,198)\"],[0.75,\"rgb(33,113,181)\"],[0.875,\"rgb(8,81,156)\"],[1.0,\"rgb(8,48,107)\"]],\"connectgaps\":true,\"contours\":{\"coloring\":\"heatmap\"},\"hoverinfo\":\"none\",\"line\":{\"smoothing\":1.3},\"reversescale\":false,\"showscale\":false,\"x\":[9.12130423728921e-6,0.000013726318898045866,0.000015339162591163613,0.000019870215385428627,0.00016480446427978953,0.0024810409748678114,0.0031130959561221226,0.010524574681335632,0.012130221181165156,0.016973078532467004,0.04869640941520897,0.07328145487027551],\"y\":[0.08,0.1,0.2,0.30000000000000004,0.4,0.5,0.52],\"z\":[[null,null,null,null,null,null,null,null,null,null,null,null],[null,null,null,null,null,0.8594166666666667,null,null,null,null,0.88775,null],[null,null,null,null,null,null,0.8463333333333334,0.81,null,null,null,null],[null,null,null,null,0.8434166666666667,null,null,null,0.8838333333333334,null,null,null],[null,null,0.848,null,null,null,null,null,null,null,null,null],[null,0.5631666666666667,null,0.7625,null,null,null,null,null,0.8775833333333334,null,null],[null,null,null,null,null,null,null,null,null,null,null,null]],\"type\":\"contour\",\"xaxis\":\"x12\",\"yaxis\":\"y12\"},{\"marker\":{\"color\":\"black\",\"line\":{\"color\":\"Gray\",\"width\":2.0}},\"mode\":\"markers\",\"name\":\"Feasible Trial\",\"showlegend\":false,\"x\":[0.0024810409748678114,0.00016480446427978953,0.000015339162591163613,0.000013726318898045866,0.04869640941520897,0.000019870215385428627,0.0031130959561221226,0.012130221181165156,0.010524574681335632,0.016973078532467004],\"y\":[0.1,0.30000000000000004,0.4,0.5,0.1,0.5,0.2,0.30000000000000004,0.2,0.5],\"type\":\"scatter\",\"xaxis\":\"x12\",\"yaxis\":\"y12\"},{\"colorbar\":{\"title\":{\"text\":\"Objective Value\"}},\"colorscale\":[[0.0,\"rgb(247,251,255)\"],[0.125,\"rgb(222,235,247)\"],[0.25,\"rgb(198,219,239)\"],[0.375,\"rgb(158,202,225)\"],[0.5,\"rgb(107,174,214)\"],[0.625,\"rgb(66,146,198)\"],[0.75,\"rgb(33,113,181)\"],[0.875,\"rgb(8,81,156)\"],[1.0,\"rgb(8,48,107)\"]],\"connectgaps\":true,\"contours\":{\"coloring\":\"heatmap\"},\"hoverinfo\":\"none\",\"line\":{\"smoothing\":1.3},\"reversescale\":false,\"showscale\":false,\"x\":[9.12130423728921e-6,0.000013726318898045866,0.000015339162591163613,0.000019870215385428627,0.00016480446427978953,0.0024810409748678114,0.0031130959561221226,0.010524574681335632,0.012130221181165156,0.016973078532467004,0.04869640941520897,0.07328145487027551],\"y\":[8.0,10,30,40,50,52.0],\"z\":[[null,null,null,null,null,null,null,null,null,null,null,null],[null,null,null,null,0.8434166666666667,null,null,null,null,null,null,null],[null,0.5631666666666667,0.848,null,null,null,null,0.81,0.8838333333333334,0.8775833333333334,0.88775,null],[null,null,null,null,null,0.8594166666666667,null,null,null,null,null,null],[null,null,null,0.7625,null,null,0.8463333333333334,null,null,null,null,null],[null,null,null,null,null,null,null,null,null,null,null,null]],\"type\":\"contour\",\"xaxis\":\"x20\",\"yaxis\":\"y20\"},{\"marker\":{\"color\":\"black\",\"line\":{\"color\":\"Gray\",\"width\":2.0}},\"mode\":\"markers\",\"name\":\"Feasible Trial\",\"showlegend\":false,\"x\":[0.0024810409748678114,0.00016480446427978953,0.000015339162591163613,0.000013726318898045866,0.04869640941520897,0.000019870215385428627,0.0031130959561221226,0.012130221181165156,0.010524574681335632,0.016973078532467004],\"y\":[40,10,30,30,30,50,50,30,30,30],\"type\":\"scatter\",\"xaxis\":\"x20\",\"yaxis\":\"y20\"},{\"type\":\"scatter\",\"xaxis\":\"x28\",\"yaxis\":\"y28\"},{\"colorbar\":{\"title\":{\"text\":\"Objective Value\"}},\"colorscale\":[[0.0,\"rgb(247,251,255)\"],[0.125,\"rgb(222,235,247)\"],[0.25,\"rgb(198,219,239)\"],[0.375,\"rgb(158,202,225)\"],[0.5,\"rgb(107,174,214)\"],[0.625,\"rgb(66,146,198)\"],[0.75,\"rgb(33,113,181)\"],[0.875,\"rgb(8,81,156)\"],[1.0,\"rgb(8,48,107)\"]],\"connectgaps\":true,\"contours\":{\"coloring\":\"heatmap\"},\"hoverinfo\":\"none\",\"line\":{\"smoothing\":1.3},\"reversescale\":false,\"showscale\":false,\"x\":[9.12130423728921e-6,0.000013726318898045866,0.000015339162591163613,0.000019870215385428627,0.00016480446427978953,0.0024810409748678114,0.0031130959561221226,0.010524574681335632,0.012130221181165156,0.016973078532467004,0.04869640941520897,0.07328145487027551],\"y\":[10.399999999999999,16,24,32,72,104,120,128,133.6],\"z\":[[null,null,null,null,null,null,null,null,null,null,null,null],[null,0.5631666666666667,null,null,null,null,0.8463333333333334,null,null,null,null,null],[null,null,null,0.7625,0.8434166666666667,null,null,null,null,null,null,null],[null,null,null,null,null,null,null,0.81,null,null,null,null],[null,null,0.848,null,null,null,null,null,null,null,null,null],[null,null,null,null,null,null,null,null,0.8838333333333334,null,null,null],[null,null,null,null,null,null,null,null,null,0.8775833333333334,0.88775,null],[null,null,null,null,null,0.8594166666666667,null,null,null,null,null,null],[null,null,null,null,null,null,null,null,null,null,null,null]],\"type\":\"contour\",\"xaxis\":\"x36\",\"yaxis\":\"y36\"},{\"marker\":{\"color\":\"black\",\"line\":{\"color\":\"Gray\",\"width\":2.0}},\"mode\":\"markers\",\"name\":\"Feasible Trial\",\"showlegend\":false,\"x\":[0.0024810409748678114,0.00016480446427978953,0.000015339162591163613,0.000013726318898045866,0.04869640941520897,0.000019870215385428627,0.0031130959561221226,0.012130221181165156,0.010524574681335632,0.016973078532467004],\"y\":[128,24,72,16,120,24,16,104,32,120],\"type\":\"scatter\",\"xaxis\":\"x36\",\"yaxis\":\"y36\"},{\"colorbar\":{\"title\":{\"text\":\"Objective Value\"}},\"colorscale\":[[0.0,\"rgb(247,251,255)\"],[0.125,\"rgb(222,235,247)\"],[0.25,\"rgb(198,219,239)\"],[0.375,\"rgb(158,202,225)\"],[0.5,\"rgb(107,174,214)\"],[0.625,\"rgb(66,146,198)\"],[0.75,\"rgb(33,113,181)\"],[0.875,\"rgb(8,81,156)\"],[1.0,\"rgb(8,48,107)\"]],\"connectgaps\":true,\"contours\":{\"coloring\":\"heatmap\"},\"hoverinfo\":\"none\",\"line\":{\"smoothing\":1.3},\"reversescale\":false,\"showscale\":false,\"x\":[9.12130423728921e-6,0.000013726318898045866,0.000015339162591163613,0.000019870215385428627,0.00016480446427978953,0.0024810409748678114,0.0031130959561221226,0.010524574681335632,0.012130221181165156,0.016973078532467004,0.04869640941520897,0.07328145487027551],\"y\":[0.8,1,2,3,4,5,5.2],\"z\":[[null,null,null,null,null,null,null,null,null,null,null,null],[null,null,0.848,null,null,null,null,null,null,0.8775833333333334,null,null],[null,null,null,null,0.8434166666666667,0.8594166666666667,0.8463333333333334,null,null,null,null,null],[null,0.5631666666666667,null,0.7625,null,null,null,null,null,null,null,null],[null,null,null,null,null,null,null,null,0.8838333333333334,null,null,null],[null,null,null,null,null,null,null,0.81,null,null,0.88775,null],[null,null,null,null,null,null,null,null,null,null,null,null]],\"type\":\"contour\",\"xaxis\":\"x44\",\"yaxis\":\"y44\"},{\"marker\":{\"color\":\"black\",\"line\":{\"color\":\"Gray\",\"width\":2.0}},\"mode\":\"markers\",\"name\":\"Feasible Trial\",\"showlegend\":false,\"x\":[0.0024810409748678114,0.00016480446427978953,0.000015339162591163613,0.000013726318898045866,0.04869640941520897,0.000019870215385428627,0.0031130959561221226,0.012130221181165156,0.010524574681335632,0.016973078532467004],\"y\":[2,2,1,3,5,3,2,4,5,1],\"type\":\"scatter\",\"xaxis\":\"x44\",\"yaxis\":\"y44\"},{\"colorbar\":{\"title\":{\"text\":\"Objective Value\"}},\"colorscale\":[[0.0,\"rgb(247,251,255)\"],[0.125,\"rgb(222,235,247)\"],[0.25,\"rgb(198,219,239)\"],[0.375,\"rgb(158,202,225)\"],[0.5,\"rgb(107,174,214)\"],[0.625,\"rgb(66,146,198)\"],[0.75,\"rgb(33,113,181)\"],[0.875,\"rgb(8,81,156)\"],[1.0,\"rgb(8,48,107)\"]],\"connectgaps\":true,\"contours\":{\"coloring\":\"heatmap\"},\"hoverinfo\":\"none\",\"line\":{\"smoothing\":1.3},\"reversescale\":false,\"showscale\":false,\"x\":[9.12130423728921e-6,0.000013726318898045866,0.000015339162591163613,0.000019870215385428627,0.00016480446427978953,0.0024810409748678114,0.0031130959561221226,0.010524574681335632,0.012130221181165156,0.016973078532467004,0.04869640941520897,0.07328145487027551],\"y\":[\"Adam\",\"RMSprop\",\"SGD\"],\"z\":[[null,null,0.848,null,null,null,null,null,null,null,null,null],[null,0.5631666666666667,null,0.7625,0.8434166666666667,0.8594166666666667,null,0.81,null,null,null,null],[null,null,null,null,null,null,0.8463333333333334,null,0.8838333333333334,0.8775833333333334,0.88775,null]],\"type\":\"contour\",\"xaxis\":\"x52\",\"yaxis\":\"y52\"},{\"marker\":{\"color\":\"black\",\"line\":{\"color\":\"Gray\",\"width\":2.0}},\"mode\":\"markers\",\"name\":\"Feasible Trial\",\"showlegend\":false,\"x\":[0.0024810409748678114,0.00016480446427978953,0.000015339162591163613,0.000013726318898045866,0.04869640941520897,0.000019870215385428627,0.0031130959561221226,0.012130221181165156,0.010524574681335632,0.016973078532467004],\"y\":[\"RMSprop\",\"RMSprop\",\"Adam\",\"RMSprop\",\"SGD\",\"RMSprop\",\"SGD\",\"SGD\",\"RMSprop\",\"SGD\"],\"type\":\"scatter\",\"xaxis\":\"x52\",\"yaxis\":\"y52\"},{\"colorbar\":{\"title\":{\"text\":\"Objective Value\"}},\"colorscale\":[[0.0,\"rgb(247,251,255)\"],[0.125,\"rgb(222,235,247)\"],[0.25,\"rgb(198,219,239)\"],[0.375,\"rgb(158,202,225)\"],[0.5,\"rgb(107,174,214)\"],[0.625,\"rgb(66,146,198)\"],[0.75,\"rgb(33,113,181)\"],[0.875,\"rgb(8,81,156)\"],[1.0,\"rgb(8,48,107)\"]],\"connectgaps\":true,\"contours\":{\"coloring\":\"heatmap\"},\"hoverinfo\":\"none\",\"line\":{\"smoothing\":1.3},\"reversescale\":false,\"showscale\":false,\"x\":[9.12130423728921e-6,0.000013726318898045866,0.000015339162591163613,0.000019870215385428627,0.00016480446427978953,0.0024810409748678114,0.0031130959561221226,0.010524574681335632,0.012130221181165156,0.016973078532467004,0.04869640941520897,0.07328145487027551],\"y\":[0.000011809989311534392,0.000014063366777718176,0.000017345566642360933,0.000036464395589807184,0.0001040258761588385,0.00010507384024181397,0.000233596350262616,0.0003550304858128307,0.00037183641805732076,0.00040489662225846743,0.000462258900102083,0.0005504591314109793],\"z\":[[null,null,null,null,null,null,null,null,null,null,null,null],[null,null,null,0.7625,null,null,null,null,null,null,null,null],[null,null,null,null,null,null,0.8463333333333334,null,null,null,null,null],[null,null,null,null,null,null,null,null,null,null,0.88775,null],[null,null,null,null,null,null,null,null,0.8838333333333334,null,null,null],[null,null,null,null,null,null,null,null,null,0.8775833333333334,null,null],[null,null,0.848,null,null,null,null,null,null,null,null,null],[null,0.5631666666666667,null,null,null,null,null,null,null,null,null,null],[null,null,null,null,0.8434166666666667,null,null,null,null,null,null,null],[null,null,null,null,null,null,null,0.81,null,null,null,null],[null,null,null,null,null,0.8594166666666667,null,null,null,null,null,null],[null,null,null,null,null,null,null,null,null,null,null,null]],\"type\":\"contour\",\"xaxis\":\"x60\",\"yaxis\":\"y60\"},{\"marker\":{\"color\":\"black\",\"line\":{\"color\":\"Gray\",\"width\":2.0}},\"mode\":\"markers\",\"name\":\"Feasible Trial\",\"showlegend\":false,\"x\":[0.0024810409748678114,0.00016480446427978953,0.000015339162591163613,0.000013726318898045866,0.04869640941520897,0.000019870215385428627,0.0031130959561221226,0.012130221181165156,0.010524574681335632,0.016973078532467004],\"y\":[0.000462258900102083,0.00037183641805732076,0.000233596350262616,0.0003550304858128307,0.000036464395589807184,0.000014063366777718176,0.000017345566642360933,0.0001040258761588385,0.00040489662225846743,0.00010507384024181397],\"type\":\"scatter\",\"xaxis\":\"x60\",\"yaxis\":\"y60\"},{\"colorbar\":{\"title\":{\"text\":\"Objective Value\"}},\"colorscale\":[[0.0,\"rgb(247,251,255)\"],[0.125,\"rgb(222,235,247)\"],[0.25,\"rgb(198,219,239)\"],[0.375,\"rgb(158,202,225)\"],[0.5,\"rgb(107,174,214)\"],[0.625,\"rgb(66,146,198)\"],[0.75,\"rgb(33,113,181)\"],[0.875,\"rgb(8,81,156)\"],[1.0,\"rgb(8,48,107)\"]],\"connectgaps\":true,\"contours\":{\"coloring\":\"heatmap\"},\"hoverinfo\":\"none\",\"line\":{\"smoothing\":1.3},\"reversescale\":false,\"showscale\":false,\"x\":[10.399999999999999,16,24,32,72,104,120,128,133.6],\"y\":[10.399999999999999,16,32,64,128,133.6],\"z\":[[null,null,null,null,null,null,null,null,null],[null,null,null,null,null,0.8838333333333334,null,null,null],[null,0.5631666666666667,null,null,null,null,null,null,null],[null,null,0.8434166666666667,null,null,null,null,0.8594166666666667,null],[null,0.8463333333333334,0.7625,0.81,0.848,null,0.88775,null,null],[null,null,null,null,null,null,null,null,null]],\"type\":\"contour\",\"xaxis\":\"x5\",\"yaxis\":\"y5\"},{\"marker\":{\"color\":\"black\",\"line\":{\"color\":\"Gray\",\"width\":2.0}},\"mode\":\"markers\",\"name\":\"Feasible Trial\",\"showlegend\":false,\"x\":[128,24,72,16,120,24,16,104,32,120],\"y\":[64,64,128,32,128,128,128,16,128,128],\"type\":\"scatter\",\"xaxis\":\"x5\",\"yaxis\":\"y5\"},{\"colorbar\":{\"title\":{\"text\":\"Objective Value\"}},\"colorscale\":[[0.0,\"rgb(247,251,255)\"],[0.125,\"rgb(222,235,247)\"],[0.25,\"rgb(198,219,239)\"],[0.375,\"rgb(158,202,225)\"],[0.5,\"rgb(107,174,214)\"],[0.625,\"rgb(66,146,198)\"],[0.75,\"rgb(33,113,181)\"],[0.875,\"rgb(8,81,156)\"],[1.0,\"rgb(8,48,107)\"]],\"connectgaps\":true,\"contours\":{\"coloring\":\"heatmap\"},\"hoverinfo\":\"none\",\"line\":{\"smoothing\":1.3},\"reversescale\":false,\"showscale\":false,\"x\":[10.399999999999999,16,24,32,72,104,120,128,133.6],\"y\":[0.08,0.1,0.2,0.30000000000000004,0.4,0.5,0.52],\"z\":[[null,null,null,null,null,null,null,null,null],[null,null,null,null,null,null,0.88775,0.8594166666666667,null],[null,0.8463333333333334,null,0.81,null,null,null,null,null],[null,null,0.8434166666666667,null,null,0.8838333333333334,null,null,null],[null,null,null,null,0.848,null,null,null,null],[null,0.5631666666666667,0.7625,null,null,null,0.8775833333333334,null,null],[null,null,null,null,null,null,null,null,null]],\"type\":\"contour\",\"xaxis\":\"x13\",\"yaxis\":\"y13\"},{\"marker\":{\"color\":\"black\",\"line\":{\"color\":\"Gray\",\"width\":2.0}},\"mode\":\"markers\",\"name\":\"Feasible Trial\",\"showlegend\":false,\"x\":[128,24,72,16,120,24,16,104,32,120],\"y\":[0.1,0.30000000000000004,0.4,0.5,0.1,0.5,0.2,0.30000000000000004,0.2,0.5],\"type\":\"scatter\",\"xaxis\":\"x13\",\"yaxis\":\"y13\"},{\"colorbar\":{\"title\":{\"text\":\"Objective Value\"}},\"colorscale\":[[0.0,\"rgb(247,251,255)\"],[0.125,\"rgb(222,235,247)\"],[0.25,\"rgb(198,219,239)\"],[0.375,\"rgb(158,202,225)\"],[0.5,\"rgb(107,174,214)\"],[0.625,\"rgb(66,146,198)\"],[0.75,\"rgb(33,113,181)\"],[0.875,\"rgb(8,81,156)\"],[1.0,\"rgb(8,48,107)\"]],\"connectgaps\":true,\"contours\":{\"coloring\":\"heatmap\"},\"hoverinfo\":\"none\",\"line\":{\"smoothing\":1.3},\"reversescale\":false,\"showscale\":false,\"x\":[10.399999999999999,16,24,32,72,104,120,128,133.6],\"y\":[8.0,10,30,40,50,52.0],\"z\":[[null,null,null,null,null,null,null,null,null],[null,null,0.8434166666666667,null,null,null,null,null,null],[null,0.5631666666666667,null,0.81,0.848,0.8838333333333334,0.88775,null,null],[null,null,null,null,null,null,null,0.8594166666666667,null],[null,0.8463333333333334,0.7625,null,null,null,null,null,null],[null,null,null,null,null,null,null,null,null]],\"type\":\"contour\",\"xaxis\":\"x21\",\"yaxis\":\"y21\"},{\"marker\":{\"color\":\"black\",\"line\":{\"color\":\"Gray\",\"width\":2.0}},\"mode\":\"markers\",\"name\":\"Feasible Trial\",\"showlegend\":false,\"x\":[128,24,72,16,120,24,16,104,32,120],\"y\":[40,10,30,30,30,50,50,30,30,30],\"type\":\"scatter\",\"xaxis\":\"x21\",\"yaxis\":\"y21\"},{\"colorbar\":{\"title\":{\"text\":\"Objective Value\"}},\"colorscale\":[[0.0,\"rgb(247,251,255)\"],[0.125,\"rgb(222,235,247)\"],[0.25,\"rgb(198,219,239)\"],[0.375,\"rgb(158,202,225)\"],[0.5,\"rgb(107,174,214)\"],[0.625,\"rgb(66,146,198)\"],[0.75,\"rgb(33,113,181)\"],[0.875,\"rgb(8,81,156)\"],[1.0,\"rgb(8,48,107)\"]],\"connectgaps\":true,\"contours\":{\"coloring\":\"heatmap\"},\"hoverinfo\":\"none\",\"line\":{\"smoothing\":1.3},\"reversescale\":false,\"showscale\":false,\"x\":[10.399999999999999,16,24,32,72,104,120,128,133.6],\"y\":[9.12130423728921e-6,0.000013726318898045866,0.000015339162591163613,0.000019870215385428627,0.00016480446427978953,0.0024810409748678114,0.0031130959561221226,0.010524574681335632,0.012130221181165156,0.016973078532467004,0.04869640941520897,0.07328145487027551],\"z\":[[null,null,null,null,null,null,null,null,null],[null,0.5631666666666667,null,null,null,null,null,null,null],[null,null,null,null,0.848,null,null,null,null],[null,null,0.7625,null,null,null,null,null,null],[null,null,0.8434166666666667,null,null,null,null,null,null],[null,null,null,null,null,null,null,0.8594166666666667,null],[null,0.8463333333333334,null,null,null,null,null,null,null],[null,null,null,0.81,null,null,null,null,null],[null,null,null,null,null,0.8838333333333334,null,null,null],[null,null,null,null,null,null,0.8775833333333334,null,null],[null,null,null,null,null,null,0.88775,null,null],[null,null,null,null,null,null,null,null,null]],\"type\":\"contour\",\"xaxis\":\"x29\",\"yaxis\":\"y29\"},{\"marker\":{\"color\":\"black\",\"line\":{\"color\":\"Gray\",\"width\":2.0}},\"mode\":\"markers\",\"name\":\"Feasible Trial\",\"showlegend\":false,\"x\":[128,24,72,16,120,24,16,104,32,120],\"y\":[0.0024810409748678114,0.00016480446427978953,0.000015339162591163613,0.000013726318898045866,0.04869640941520897,0.000019870215385428627,0.0031130959561221226,0.012130221181165156,0.010524574681335632,0.016973078532467004],\"type\":\"scatter\",\"xaxis\":\"x29\",\"yaxis\":\"y29\"},{\"type\":\"scatter\",\"xaxis\":\"x37\",\"yaxis\":\"y37\"},{\"colorbar\":{\"title\":{\"text\":\"Objective Value\"}},\"colorscale\":[[0.0,\"rgb(247,251,255)\"],[0.125,\"rgb(222,235,247)\"],[0.25,\"rgb(198,219,239)\"],[0.375,\"rgb(158,202,225)\"],[0.5,\"rgb(107,174,214)\"],[0.625,\"rgb(66,146,198)\"],[0.75,\"rgb(33,113,181)\"],[0.875,\"rgb(8,81,156)\"],[1.0,\"rgb(8,48,107)\"]],\"connectgaps\":true,\"contours\":{\"coloring\":\"heatmap\"},\"hoverinfo\":\"none\",\"line\":{\"smoothing\":1.3},\"reversescale\":false,\"showscale\":false,\"x\":[10.399999999999999,16,24,32,72,104,120,128,133.6],\"y\":[0.8,1,2,3,4,5,5.2],\"z\":[[null,null,null,null,null,null,null,null,null],[null,null,null,null,0.848,null,0.8775833333333334,null,null],[null,0.8463333333333334,0.8434166666666667,null,null,null,null,0.8594166666666667,null],[null,0.5631666666666667,0.7625,null,null,null,null,null,null],[null,null,null,null,null,0.8838333333333334,null,null,null],[null,null,null,0.81,null,null,0.88775,null,null],[null,null,null,null,null,null,null,null,null]],\"type\":\"contour\",\"xaxis\":\"x45\",\"yaxis\":\"y45\"},{\"marker\":{\"color\":\"black\",\"line\":{\"color\":\"Gray\",\"width\":2.0}},\"mode\":\"markers\",\"name\":\"Feasible Trial\",\"showlegend\":false,\"x\":[128,24,72,16,120,24,16,104,32,120],\"y\":[2,2,1,3,5,3,2,4,5,1],\"type\":\"scatter\",\"xaxis\":\"x45\",\"yaxis\":\"y45\"},{\"colorbar\":{\"title\":{\"text\":\"Objective Value\"}},\"colorscale\":[[0.0,\"rgb(247,251,255)\"],[0.125,\"rgb(222,235,247)\"],[0.25,\"rgb(198,219,239)\"],[0.375,\"rgb(158,202,225)\"],[0.5,\"rgb(107,174,214)\"],[0.625,\"rgb(66,146,198)\"],[0.75,\"rgb(33,113,181)\"],[0.875,\"rgb(8,81,156)\"],[1.0,\"rgb(8,48,107)\"]],\"connectgaps\":true,\"contours\":{\"coloring\":\"heatmap\"},\"hoverinfo\":\"none\",\"line\":{\"smoothing\":1.3},\"reversescale\":false,\"showscale\":false,\"x\":[10.399999999999999,16,24,32,72,104,120,128,133.6],\"y\":[\"Adam\",\"RMSprop\",\"SGD\"],\"z\":[[null,null,null,null,0.848,null,null,null,null],[null,0.5631666666666667,0.8434166666666667,0.81,null,null,null,0.8594166666666667,null],[null,0.8463333333333334,null,null,null,0.8838333333333334,0.88775,null,null]],\"type\":\"contour\",\"xaxis\":\"x53\",\"yaxis\":\"y53\"},{\"marker\":{\"color\":\"black\",\"line\":{\"color\":\"Gray\",\"width\":2.0}},\"mode\":\"markers\",\"name\":\"Feasible Trial\",\"showlegend\":false,\"x\":[128,24,72,16,120,24,16,104,32,120],\"y\":[\"RMSprop\",\"RMSprop\",\"Adam\",\"RMSprop\",\"SGD\",\"RMSprop\",\"SGD\",\"SGD\",\"RMSprop\",\"SGD\"],\"type\":\"scatter\",\"xaxis\":\"x53\",\"yaxis\":\"y53\"},{\"colorbar\":{\"title\":{\"text\":\"Objective Value\"}},\"colorscale\":[[0.0,\"rgb(247,251,255)\"],[0.125,\"rgb(222,235,247)\"],[0.25,\"rgb(198,219,239)\"],[0.375,\"rgb(158,202,225)\"],[0.5,\"rgb(107,174,214)\"],[0.625,\"rgb(66,146,198)\"],[0.75,\"rgb(33,113,181)\"],[0.875,\"rgb(8,81,156)\"],[1.0,\"rgb(8,48,107)\"]],\"connectgaps\":true,\"contours\":{\"coloring\":\"heatmap\"},\"hoverinfo\":\"none\",\"line\":{\"smoothing\":1.3},\"reversescale\":false,\"showscale\":false,\"x\":[10.399999999999999,16,24,32,72,104,120,128,133.6],\"y\":[0.000011809989311534392,0.000014063366777718176,0.000017345566642360933,0.000036464395589807184,0.0001040258761588385,0.00010507384024181397,0.000233596350262616,0.0003550304858128307,0.00037183641805732076,0.00040489662225846743,0.000462258900102083,0.0005504591314109793],\"z\":[[null,null,null,null,null,null,null,null,null],[null,null,0.7625,null,null,null,null,null,null],[null,0.8463333333333334,null,null,null,null,null,null,null],[null,null,null,null,null,null,0.88775,null,null],[null,null,null,null,null,0.8838333333333334,null,null,null],[null,null,null,null,null,null,0.8775833333333334,null,null],[null,null,null,null,0.848,null,null,null,null],[null,0.5631666666666667,null,null,null,null,null,null,null],[null,null,0.8434166666666667,null,null,null,null,null,null],[null,null,null,0.81,null,null,null,null,null],[null,null,null,null,null,null,null,0.8594166666666667,null],[null,null,null,null,null,null,null,null,null]],\"type\":\"contour\",\"xaxis\":\"x61\",\"yaxis\":\"y61\"},{\"marker\":{\"color\":\"black\",\"line\":{\"color\":\"Gray\",\"width\":2.0}},\"mode\":\"markers\",\"name\":\"Feasible Trial\",\"showlegend\":false,\"x\":[128,24,72,16,120,24,16,104,32,120],\"y\":[0.000462258900102083,0.00037183641805732076,0.000233596350262616,0.0003550304858128307,0.000036464395589807184,0.000014063366777718176,0.000017345566642360933,0.0001040258761588385,0.00040489662225846743,0.00010507384024181397],\"type\":\"scatter\",\"xaxis\":\"x61\",\"yaxis\":\"y61\"},{\"colorbar\":{\"title\":{\"text\":\"Objective Value\"}},\"colorscale\":[[0.0,\"rgb(247,251,255)\"],[0.125,\"rgb(222,235,247)\"],[0.25,\"rgb(198,219,239)\"],[0.375,\"rgb(158,202,225)\"],[0.5,\"rgb(107,174,214)\"],[0.625,\"rgb(66,146,198)\"],[0.75,\"rgb(33,113,181)\"],[0.875,\"rgb(8,81,156)\"],[1.0,\"rgb(8,48,107)\"]],\"connectgaps\":true,\"contours\":{\"coloring\":\"heatmap\"},\"hoverinfo\":\"none\",\"line\":{\"smoothing\":1.3},\"reversescale\":false,\"showscale\":false,\"x\":[0.8,1,2,3,4,5,5.2],\"y\":[10.399999999999999,16,32,64,128,133.6],\"z\":[[null,null,null,null,null,null,null],[null,null,null,null,0.8838333333333334,null,null],[null,null,null,0.5631666666666667,null,null,null],[null,null,0.8594166666666667,null,null,null,null],[null,0.8775833333333334,0.8463333333333334,0.7625,null,0.88775,null],[null,null,null,null,null,null,null]],\"type\":\"contour\",\"xaxis\":\"x6\",\"yaxis\":\"y6\"},{\"marker\":{\"color\":\"black\",\"line\":{\"color\":\"Gray\",\"width\":2.0}},\"mode\":\"markers\",\"name\":\"Feasible Trial\",\"showlegend\":false,\"x\":[2,2,1,3,5,3,2,4,5,1],\"y\":[64,64,128,32,128,128,128,16,128,128],\"type\":\"scatter\",\"xaxis\":\"x6\",\"yaxis\":\"y6\"},{\"colorbar\":{\"title\":{\"text\":\"Objective Value\"}},\"colorscale\":[[0.0,\"rgb(247,251,255)\"],[0.125,\"rgb(222,235,247)\"],[0.25,\"rgb(198,219,239)\"],[0.375,\"rgb(158,202,225)\"],[0.5,\"rgb(107,174,214)\"],[0.625,\"rgb(66,146,198)\"],[0.75,\"rgb(33,113,181)\"],[0.875,\"rgb(8,81,156)\"],[1.0,\"rgb(8,48,107)\"]],\"connectgaps\":true,\"contours\":{\"coloring\":\"heatmap\"},\"hoverinfo\":\"none\",\"line\":{\"smoothing\":1.3},\"reversescale\":false,\"showscale\":false,\"x\":[0.8,1,2,3,4,5,5.2],\"y\":[0.08,0.1,0.2,0.30000000000000004,0.4,0.5,0.52],\"z\":[[null,null,null,null,null,null,null],[null,null,0.8594166666666667,null,null,0.88775,null],[null,null,0.8463333333333334,null,null,0.81,null],[null,null,0.8434166666666667,null,0.8838333333333334,null,null],[null,0.848,null,null,null,null,null],[null,0.8775833333333334,null,0.7625,null,null,null],[null,null,null,null,null,null,null]],\"type\":\"contour\",\"xaxis\":\"x14\",\"yaxis\":\"y14\"},{\"marker\":{\"color\":\"black\",\"line\":{\"color\":\"Gray\",\"width\":2.0}},\"mode\":\"markers\",\"name\":\"Feasible Trial\",\"showlegend\":false,\"x\":[2,2,1,3,5,3,2,4,5,1],\"y\":[0.1,0.30000000000000004,0.4,0.5,0.1,0.5,0.2,0.30000000000000004,0.2,0.5],\"type\":\"scatter\",\"xaxis\":\"x14\",\"yaxis\":\"y14\"},{\"colorbar\":{\"title\":{\"text\":\"Objective Value\"}},\"colorscale\":[[0.0,\"rgb(247,251,255)\"],[0.125,\"rgb(222,235,247)\"],[0.25,\"rgb(198,219,239)\"],[0.375,\"rgb(158,202,225)\"],[0.5,\"rgb(107,174,214)\"],[0.625,\"rgb(66,146,198)\"],[0.75,\"rgb(33,113,181)\"],[0.875,\"rgb(8,81,156)\"],[1.0,\"rgb(8,48,107)\"]],\"connectgaps\":true,\"contours\":{\"coloring\":\"heatmap\"},\"hoverinfo\":\"none\",\"line\":{\"smoothing\":1.3},\"reversescale\":false,\"showscale\":false,\"x\":[0.8,1,2,3,4,5,5.2],\"y\":[8.0,10,30,40,50,52.0],\"z\":[[null,null,null,null,null,null,null],[null,null,0.8434166666666667,null,null,null,null],[null,0.8775833333333334,null,0.5631666666666667,0.8838333333333334,0.88775,null],[null,null,0.8594166666666667,null,null,null,null],[null,null,0.8463333333333334,0.7625,null,null,null],[null,null,null,null,null,null,null]],\"type\":\"contour\",\"xaxis\":\"x22\",\"yaxis\":\"y22\"},{\"marker\":{\"color\":\"black\",\"line\":{\"color\":\"Gray\",\"width\":2.0}},\"mode\":\"markers\",\"name\":\"Feasible Trial\",\"showlegend\":false,\"x\":[2,2,1,3,5,3,2,4,5,1],\"y\":[40,10,30,30,30,50,50,30,30,30],\"type\":\"scatter\",\"xaxis\":\"x22\",\"yaxis\":\"y22\"},{\"colorbar\":{\"title\":{\"text\":\"Objective Value\"}},\"colorscale\":[[0.0,\"rgb(247,251,255)\"],[0.125,\"rgb(222,235,247)\"],[0.25,\"rgb(198,219,239)\"],[0.375,\"rgb(158,202,225)\"],[0.5,\"rgb(107,174,214)\"],[0.625,\"rgb(66,146,198)\"],[0.75,\"rgb(33,113,181)\"],[0.875,\"rgb(8,81,156)\"],[1.0,\"rgb(8,48,107)\"]],\"connectgaps\":true,\"contours\":{\"coloring\":\"heatmap\"},\"hoverinfo\":\"none\",\"line\":{\"smoothing\":1.3},\"reversescale\":false,\"showscale\":false,\"x\":[0.8,1,2,3,4,5,5.2],\"y\":[9.12130423728921e-6,0.000013726318898045866,0.000015339162591163613,0.000019870215385428627,0.00016480446427978953,0.0024810409748678114,0.0031130959561221226,0.010524574681335632,0.012130221181165156,0.016973078532467004,0.04869640941520897,0.07328145487027551],\"z\":[[null,null,null,null,null,null,null],[null,null,null,0.5631666666666667,null,null,null],[null,0.848,null,null,null,null,null],[null,null,null,0.7625,null,null,null],[null,null,0.8434166666666667,null,null,null,null],[null,null,0.8594166666666667,null,null,null,null],[null,null,0.8463333333333334,null,null,null,null],[null,null,null,null,null,0.81,null],[null,null,null,null,0.8838333333333334,null,null],[null,0.8775833333333334,null,null,null,null,null],[null,null,null,null,null,0.88775,null],[null,null,null,null,null,null,null]],\"type\":\"contour\",\"xaxis\":\"x30\",\"yaxis\":\"y30\"},{\"marker\":{\"color\":\"black\",\"line\":{\"color\":\"Gray\",\"width\":2.0}},\"mode\":\"markers\",\"name\":\"Feasible Trial\",\"showlegend\":false,\"x\":[2,2,1,3,5,3,2,4,5,1],\"y\":[0.0024810409748678114,0.00016480446427978953,0.000015339162591163613,0.000013726318898045866,0.04869640941520897,0.000019870215385428627,0.0031130959561221226,0.012130221181165156,0.010524574681335632,0.016973078532467004],\"type\":\"scatter\",\"xaxis\":\"x30\",\"yaxis\":\"y30\"},{\"colorbar\":{\"title\":{\"text\":\"Objective Value\"}},\"colorscale\":[[0.0,\"rgb(247,251,255)\"],[0.125,\"rgb(222,235,247)\"],[0.25,\"rgb(198,219,239)\"],[0.375,\"rgb(158,202,225)\"],[0.5,\"rgb(107,174,214)\"],[0.625,\"rgb(66,146,198)\"],[0.75,\"rgb(33,113,181)\"],[0.875,\"rgb(8,81,156)\"],[1.0,\"rgb(8,48,107)\"]],\"connectgaps\":true,\"contours\":{\"coloring\":\"heatmap\"},\"hoverinfo\":\"none\",\"line\":{\"smoothing\":1.3},\"reversescale\":false,\"showscale\":false,\"x\":[0.8,1,2,3,4,5,5.2],\"y\":[10.399999999999999,16,24,32,72,104,120,128,133.6],\"z\":[[null,null,null,null,null,null,null],[null,null,0.8463333333333334,0.5631666666666667,null,null,null],[null,null,0.8434166666666667,0.7625,null,null,null],[null,null,null,null,null,0.81,null],[null,0.848,null,null,null,null,null],[null,null,null,null,0.8838333333333334,null,null],[null,0.8775833333333334,null,null,null,0.88775,null],[null,null,0.8594166666666667,null,null,null,null],[null,null,null,null,null,null,null]],\"type\":\"contour\",\"xaxis\":\"x38\",\"yaxis\":\"y38\"},{\"marker\":{\"color\":\"black\",\"line\":{\"color\":\"Gray\",\"width\":2.0}},\"mode\":\"markers\",\"name\":\"Feasible Trial\",\"showlegend\":false,\"x\":[2,2,1,3,5,3,2,4,5,1],\"y\":[128,24,72,16,120,24,16,104,32,120],\"type\":\"scatter\",\"xaxis\":\"x38\",\"yaxis\":\"y38\"},{\"type\":\"scatter\",\"xaxis\":\"x46\",\"yaxis\":\"y46\"},{\"colorbar\":{\"title\":{\"text\":\"Objective Value\"}},\"colorscale\":[[0.0,\"rgb(247,251,255)\"],[0.125,\"rgb(222,235,247)\"],[0.25,\"rgb(198,219,239)\"],[0.375,\"rgb(158,202,225)\"],[0.5,\"rgb(107,174,214)\"],[0.625,\"rgb(66,146,198)\"],[0.75,\"rgb(33,113,181)\"],[0.875,\"rgb(8,81,156)\"],[1.0,\"rgb(8,48,107)\"]],\"connectgaps\":true,\"contours\":{\"coloring\":\"heatmap\"},\"hoverinfo\":\"none\",\"line\":{\"smoothing\":1.3},\"reversescale\":false,\"showscale\":false,\"x\":[0.8,1,2,3,4,5,5.2],\"y\":[\"Adam\",\"RMSprop\",\"SGD\"],\"z\":[[null,0.848,null,null,null,null,null],[null,null,0.8594166666666667,0.7625,null,0.81,null],[null,0.8775833333333334,0.8463333333333334,null,0.8838333333333334,0.88775,null]],\"type\":\"contour\",\"xaxis\":\"x54\",\"yaxis\":\"y54\"},{\"marker\":{\"color\":\"black\",\"line\":{\"color\":\"Gray\",\"width\":2.0}},\"mode\":\"markers\",\"name\":\"Feasible Trial\",\"showlegend\":false,\"x\":[2,2,1,3,5,3,2,4,5,1],\"y\":[\"RMSprop\",\"RMSprop\",\"Adam\",\"RMSprop\",\"SGD\",\"RMSprop\",\"SGD\",\"SGD\",\"RMSprop\",\"SGD\"],\"type\":\"scatter\",\"xaxis\":\"x54\",\"yaxis\":\"y54\"},{\"colorbar\":{\"title\":{\"text\":\"Objective Value\"}},\"colorscale\":[[0.0,\"rgb(247,251,255)\"],[0.125,\"rgb(222,235,247)\"],[0.25,\"rgb(198,219,239)\"],[0.375,\"rgb(158,202,225)\"],[0.5,\"rgb(107,174,214)\"],[0.625,\"rgb(66,146,198)\"],[0.75,\"rgb(33,113,181)\"],[0.875,\"rgb(8,81,156)\"],[1.0,\"rgb(8,48,107)\"]],\"connectgaps\":true,\"contours\":{\"coloring\":\"heatmap\"},\"hoverinfo\":\"none\",\"line\":{\"smoothing\":1.3},\"reversescale\":false,\"showscale\":false,\"x\":[0.8,1,2,3,4,5,5.2],\"y\":[0.000011809989311534392,0.000014063366777718176,0.000017345566642360933,0.000036464395589807184,0.0001040258761588385,0.00010507384024181397,0.000233596350262616,0.0003550304858128307,0.00037183641805732076,0.00040489662225846743,0.000462258900102083,0.0005504591314109793],\"z\":[[null,null,null,null,null,null,null],[null,null,null,0.7625,null,null,null],[null,null,0.8463333333333334,null,null,null,null],[null,null,null,null,null,0.88775,null],[null,null,null,null,0.8838333333333334,null,null],[null,0.8775833333333334,null,null,null,null,null],[null,0.848,null,null,null,null,null],[null,null,null,0.5631666666666667,null,null,null],[null,null,0.8434166666666667,null,null,null,null],[null,null,null,null,null,0.81,null],[null,null,0.8594166666666667,null,null,null,null],[null,null,null,null,null,null,null]],\"type\":\"contour\",\"xaxis\":\"x62\",\"yaxis\":\"y62\"},{\"marker\":{\"color\":\"black\",\"line\":{\"color\":\"Gray\",\"width\":2.0}},\"mode\":\"markers\",\"name\":\"Feasible Trial\",\"showlegend\":false,\"x\":[2,2,1,3,5,3,2,4,5,1],\"y\":[0.000462258900102083,0.00037183641805732076,0.000233596350262616,0.0003550304858128307,0.000036464395589807184,0.000014063366777718176,0.000017345566642360933,0.0001040258761588385,0.00040489662225846743,0.00010507384024181397],\"type\":\"scatter\",\"xaxis\":\"x62\",\"yaxis\":\"y62\"},{\"colorbar\":{\"title\":{\"text\":\"Objective Value\"}},\"colorscale\":[[0.0,\"rgb(247,251,255)\"],[0.125,\"rgb(222,235,247)\"],[0.25,\"rgb(198,219,239)\"],[0.375,\"rgb(158,202,225)\"],[0.5,\"rgb(107,174,214)\"],[0.625,\"rgb(66,146,198)\"],[0.75,\"rgb(33,113,181)\"],[0.875,\"rgb(8,81,156)\"],[1.0,\"rgb(8,48,107)\"]],\"connectgaps\":true,\"contours\":{\"coloring\":\"heatmap\"},\"hoverinfo\":\"none\",\"line\":{\"smoothing\":1.3},\"reversescale\":false,\"showscale\":false,\"x\":[\"Adam\",\"RMSprop\",\"SGD\"],\"y\":[10.399999999999999,16,32,64,128,133.6],\"z\":[[null,null,null],[null,null,0.8838333333333334],[null,0.5631666666666667,null],[null,0.8594166666666667,null],[0.848,0.81,0.88775],[null,null,null]],\"type\":\"contour\",\"xaxis\":\"x7\",\"yaxis\":\"y7\"},{\"marker\":{\"color\":\"black\",\"line\":{\"color\":\"Gray\",\"width\":2.0}},\"mode\":\"markers\",\"name\":\"Feasible Trial\",\"showlegend\":false,\"x\":[\"RMSprop\",\"RMSprop\",\"Adam\",\"RMSprop\",\"SGD\",\"RMSprop\",\"SGD\",\"SGD\",\"RMSprop\",\"SGD\"],\"y\":[64,64,128,32,128,128,128,16,128,128],\"type\":\"scatter\",\"xaxis\":\"x7\",\"yaxis\":\"y7\"},{\"colorbar\":{\"title\":{\"text\":\"Objective Value\"}},\"colorscale\":[[0.0,\"rgb(247,251,255)\"],[0.125,\"rgb(222,235,247)\"],[0.25,\"rgb(198,219,239)\"],[0.375,\"rgb(158,202,225)\"],[0.5,\"rgb(107,174,214)\"],[0.625,\"rgb(66,146,198)\"],[0.75,\"rgb(33,113,181)\"],[0.875,\"rgb(8,81,156)\"],[1.0,\"rgb(8,48,107)\"]],\"connectgaps\":true,\"contours\":{\"coloring\":\"heatmap\"},\"hoverinfo\":\"none\",\"line\":{\"smoothing\":1.3},\"reversescale\":false,\"showscale\":false,\"x\":[\"Adam\",\"RMSprop\",\"SGD\"],\"y\":[0.08,0.1,0.2,0.30000000000000004,0.4,0.5,0.52],\"z\":[[null,null,null],[null,0.8594166666666667,0.88775],[null,0.81,0.8463333333333334],[null,0.8434166666666667,0.8838333333333334],[0.848,null,null],[null,0.7625,0.8775833333333334],[null,null,null]],\"type\":\"contour\",\"xaxis\":\"x15\",\"yaxis\":\"y15\"},{\"marker\":{\"color\":\"black\",\"line\":{\"color\":\"Gray\",\"width\":2.0}},\"mode\":\"markers\",\"name\":\"Feasible Trial\",\"showlegend\":false,\"x\":[\"RMSprop\",\"RMSprop\",\"Adam\",\"RMSprop\",\"SGD\",\"RMSprop\",\"SGD\",\"SGD\",\"RMSprop\",\"SGD\"],\"y\":[0.1,0.30000000000000004,0.4,0.5,0.1,0.5,0.2,0.30000000000000004,0.2,0.5],\"type\":\"scatter\",\"xaxis\":\"x15\",\"yaxis\":\"y15\"},{\"colorbar\":{\"title\":{\"text\":\"Objective Value\"}},\"colorscale\":[[0.0,\"rgb(247,251,255)\"],[0.125,\"rgb(222,235,247)\"],[0.25,\"rgb(198,219,239)\"],[0.375,\"rgb(158,202,225)\"],[0.5,\"rgb(107,174,214)\"],[0.625,\"rgb(66,146,198)\"],[0.75,\"rgb(33,113,181)\"],[0.875,\"rgb(8,81,156)\"],[1.0,\"rgb(8,48,107)\"]],\"connectgaps\":true,\"contours\":{\"coloring\":\"heatmap\"},\"hoverinfo\":\"none\",\"line\":{\"smoothing\":1.3},\"reversescale\":false,\"showscale\":false,\"x\":[\"Adam\",\"RMSprop\",\"SGD\"],\"y\":[8.0,10,30,40,50,52.0],\"z\":[[null,null,null],[null,0.8434166666666667,null],[0.848,0.81,0.88775],[null,0.8594166666666667,null],[null,0.7625,0.8463333333333334],[null,null,null]],\"type\":\"contour\",\"xaxis\":\"x23\",\"yaxis\":\"y23\"},{\"marker\":{\"color\":\"black\",\"line\":{\"color\":\"Gray\",\"width\":2.0}},\"mode\":\"markers\",\"name\":\"Feasible Trial\",\"showlegend\":false,\"x\":[\"RMSprop\",\"RMSprop\",\"Adam\",\"RMSprop\",\"SGD\",\"RMSprop\",\"SGD\",\"SGD\",\"RMSprop\",\"SGD\"],\"y\":[40,10,30,30,30,50,50,30,30,30],\"type\":\"scatter\",\"xaxis\":\"x23\",\"yaxis\":\"y23\"},{\"colorbar\":{\"title\":{\"text\":\"Objective Value\"}},\"colorscale\":[[0.0,\"rgb(247,251,255)\"],[0.125,\"rgb(222,235,247)\"],[0.25,\"rgb(198,219,239)\"],[0.375,\"rgb(158,202,225)\"],[0.5,\"rgb(107,174,214)\"],[0.625,\"rgb(66,146,198)\"],[0.75,\"rgb(33,113,181)\"],[0.875,\"rgb(8,81,156)\"],[1.0,\"rgb(8,48,107)\"]],\"connectgaps\":true,\"contours\":{\"coloring\":\"heatmap\"},\"hoverinfo\":\"none\",\"line\":{\"smoothing\":1.3},\"reversescale\":false,\"showscale\":false,\"x\":[\"Adam\",\"RMSprop\",\"SGD\"],\"y\":[9.12130423728921e-6,0.000013726318898045866,0.000015339162591163613,0.000019870215385428627,0.00016480446427978953,0.0024810409748678114,0.0031130959561221226,0.010524574681335632,0.012130221181165156,0.016973078532467004,0.04869640941520897,0.07328145487027551],\"z\":[[null,null,null],[null,0.5631666666666667,null],[0.848,null,null],[null,0.7625,null],[null,0.8434166666666667,null],[null,0.8594166666666667,null],[null,null,0.8463333333333334],[null,0.81,null],[null,null,0.8838333333333334],[null,null,0.8775833333333334],[null,null,0.88775],[null,null,null]],\"type\":\"contour\",\"xaxis\":\"x31\",\"yaxis\":\"y31\"},{\"marker\":{\"color\":\"black\",\"line\":{\"color\":\"Gray\",\"width\":2.0}},\"mode\":\"markers\",\"name\":\"Feasible Trial\",\"showlegend\":false,\"x\":[\"RMSprop\",\"RMSprop\",\"Adam\",\"RMSprop\",\"SGD\",\"RMSprop\",\"SGD\",\"SGD\",\"RMSprop\",\"SGD\"],\"y\":[0.0024810409748678114,0.00016480446427978953,0.000015339162591163613,0.000013726318898045866,0.04869640941520897,0.000019870215385428627,0.0031130959561221226,0.012130221181165156,0.010524574681335632,0.016973078532467004],\"type\":\"scatter\",\"xaxis\":\"x31\",\"yaxis\":\"y31\"},{\"colorbar\":{\"title\":{\"text\":\"Objective Value\"}},\"colorscale\":[[0.0,\"rgb(247,251,255)\"],[0.125,\"rgb(222,235,247)\"],[0.25,\"rgb(198,219,239)\"],[0.375,\"rgb(158,202,225)\"],[0.5,\"rgb(107,174,214)\"],[0.625,\"rgb(66,146,198)\"],[0.75,\"rgb(33,113,181)\"],[0.875,\"rgb(8,81,156)\"],[1.0,\"rgb(8,48,107)\"]],\"connectgaps\":true,\"contours\":{\"coloring\":\"heatmap\"},\"hoverinfo\":\"none\",\"line\":{\"smoothing\":1.3},\"reversescale\":false,\"showscale\":false,\"x\":[\"Adam\",\"RMSprop\",\"SGD\"],\"y\":[10.399999999999999,16,24,32,72,104,120,128,133.6],\"z\":[[null,null,null],[null,0.5631666666666667,0.8463333333333334],[null,0.8434166666666667,null],[null,0.81,null],[0.848,null,null],[null,null,0.8838333333333334],[null,null,0.88775],[null,0.8594166666666667,null],[null,null,null]],\"type\":\"contour\",\"xaxis\":\"x39\",\"yaxis\":\"y39\"},{\"marker\":{\"color\":\"black\",\"line\":{\"color\":\"Gray\",\"width\":2.0}},\"mode\":\"markers\",\"name\":\"Feasible Trial\",\"showlegend\":false,\"x\":[\"RMSprop\",\"RMSprop\",\"Adam\",\"RMSprop\",\"SGD\",\"RMSprop\",\"SGD\",\"SGD\",\"RMSprop\",\"SGD\"],\"y\":[128,24,72,16,120,24,16,104,32,120],\"type\":\"scatter\",\"xaxis\":\"x39\",\"yaxis\":\"y39\"},{\"colorbar\":{\"title\":{\"text\":\"Objective Value\"}},\"colorscale\":[[0.0,\"rgb(247,251,255)\"],[0.125,\"rgb(222,235,247)\"],[0.25,\"rgb(198,219,239)\"],[0.375,\"rgb(158,202,225)\"],[0.5,\"rgb(107,174,214)\"],[0.625,\"rgb(66,146,198)\"],[0.75,\"rgb(33,113,181)\"],[0.875,\"rgb(8,81,156)\"],[1.0,\"rgb(8,48,107)\"]],\"connectgaps\":true,\"contours\":{\"coloring\":\"heatmap\"},\"hoverinfo\":\"none\",\"line\":{\"smoothing\":1.3},\"reversescale\":false,\"showscale\":false,\"x\":[\"Adam\",\"RMSprop\",\"SGD\"],\"y\":[0.8,1,2,3,4,5,5.2],\"z\":[[null,null,null],[0.848,null,0.8775833333333334],[null,0.8594166666666667,0.8463333333333334],[null,0.7625,null],[null,null,0.8838333333333334],[null,0.81,0.88775],[null,null,null]],\"type\":\"contour\",\"xaxis\":\"x47\",\"yaxis\":\"y47\"},{\"marker\":{\"color\":\"black\",\"line\":{\"color\":\"Gray\",\"width\":2.0}},\"mode\":\"markers\",\"name\":\"Feasible Trial\",\"showlegend\":false,\"x\":[\"RMSprop\",\"RMSprop\",\"Adam\",\"RMSprop\",\"SGD\",\"RMSprop\",\"SGD\",\"SGD\",\"RMSprop\",\"SGD\"],\"y\":[2,2,1,3,5,3,2,4,5,1],\"type\":\"scatter\",\"xaxis\":\"x47\",\"yaxis\":\"y47\"},{\"type\":\"scatter\",\"xaxis\":\"x55\",\"yaxis\":\"y55\"},{\"colorbar\":{\"title\":{\"text\":\"Objective Value\"}},\"colorscale\":[[0.0,\"rgb(247,251,255)\"],[0.125,\"rgb(222,235,247)\"],[0.25,\"rgb(198,219,239)\"],[0.375,\"rgb(158,202,225)\"],[0.5,\"rgb(107,174,214)\"],[0.625,\"rgb(66,146,198)\"],[0.75,\"rgb(33,113,181)\"],[0.875,\"rgb(8,81,156)\"],[1.0,\"rgb(8,48,107)\"]],\"connectgaps\":true,\"contours\":{\"coloring\":\"heatmap\"},\"hoverinfo\":\"none\",\"line\":{\"smoothing\":1.3},\"reversescale\":false,\"showscale\":false,\"x\":[\"Adam\",\"RMSprop\",\"SGD\"],\"y\":[0.000011809989311534392,0.000014063366777718176,0.000017345566642360933,0.000036464395589807184,0.0001040258761588385,0.00010507384024181397,0.000233596350262616,0.0003550304858128307,0.00037183641805732076,0.00040489662225846743,0.000462258900102083,0.0005504591314109793],\"z\":[[null,null,null],[null,0.7625,null],[null,null,0.8463333333333334],[null,null,0.88775],[null,null,0.8838333333333334],[null,null,0.8775833333333334],[0.848,null,null],[null,0.5631666666666667,null],[null,0.8434166666666667,null],[null,0.81,null],[null,0.8594166666666667,null],[null,null,null]],\"type\":\"contour\",\"xaxis\":\"x63\",\"yaxis\":\"y63\"},{\"marker\":{\"color\":\"black\",\"line\":{\"color\":\"Gray\",\"width\":2.0}},\"mode\":\"markers\",\"name\":\"Feasible Trial\",\"showlegend\":false,\"x\":[\"RMSprop\",\"RMSprop\",\"Adam\",\"RMSprop\",\"SGD\",\"RMSprop\",\"SGD\",\"SGD\",\"RMSprop\",\"SGD\"],\"y\":[0.000462258900102083,0.00037183641805732076,0.000233596350262616,0.0003550304858128307,0.000036464395589807184,0.000014063366777718176,0.000017345566642360933,0.0001040258761588385,0.00040489662225846743,0.00010507384024181397],\"type\":\"scatter\",\"xaxis\":\"x63\",\"yaxis\":\"y63\"},{\"colorbar\":{\"title\":{\"text\":\"Objective Value\"}},\"colorscale\":[[0.0,\"rgb(247,251,255)\"],[0.125,\"rgb(222,235,247)\"],[0.25,\"rgb(198,219,239)\"],[0.375,\"rgb(158,202,225)\"],[0.5,\"rgb(107,174,214)\"],[0.625,\"rgb(66,146,198)\"],[0.75,\"rgb(33,113,181)\"],[0.875,\"rgb(8,81,156)\"],[1.0,\"rgb(8,48,107)\"]],\"connectgaps\":true,\"contours\":{\"coloring\":\"heatmap\"},\"hoverinfo\":\"none\",\"line\":{\"smoothing\":1.3},\"reversescale\":false,\"showscale\":false,\"x\":[0.000011809989311534392,0.000014063366777718176,0.000017345566642360933,0.000036464395589807184,0.0001040258761588385,0.00010507384024181397,0.000233596350262616,0.0003550304858128307,0.00037183641805732076,0.00040489662225846743,0.000462258900102083,0.0005504591314109793],\"y\":[10.399999999999999,16,32,64,128,133.6],\"z\":[[null,null,null,null,null,null,null,null,null,null,null,null],[null,null,null,null,0.8838333333333334,null,null,null,null,null,null,null],[null,null,null,null,null,null,null,0.5631666666666667,null,null,null,null],[null,null,null,null,null,null,null,null,0.8434166666666667,null,0.8594166666666667,null],[null,0.7625,0.8463333333333334,0.88775,null,0.8775833333333334,0.848,null,null,0.81,null,null],[null,null,null,null,null,null,null,null,null,null,null,null]],\"type\":\"contour\",\"xaxis\":\"x8\",\"yaxis\":\"y8\"},{\"marker\":{\"color\":\"black\",\"line\":{\"color\":\"Gray\",\"width\":2.0}},\"mode\":\"markers\",\"name\":\"Feasible Trial\",\"showlegend\":false,\"x\":[0.000462258900102083,0.00037183641805732076,0.000233596350262616,0.0003550304858128307,0.000036464395589807184,0.000014063366777718176,0.000017345566642360933,0.0001040258761588385,0.00040489662225846743,0.00010507384024181397],\"y\":[64,64,128,32,128,128,128,16,128,128],\"type\":\"scatter\",\"xaxis\":\"x8\",\"yaxis\":\"y8\"},{\"colorbar\":{\"title\":{\"text\":\"Objective Value\"}},\"colorscale\":[[0.0,\"rgb(247,251,255)\"],[0.125,\"rgb(222,235,247)\"],[0.25,\"rgb(198,219,239)\"],[0.375,\"rgb(158,202,225)\"],[0.5,\"rgb(107,174,214)\"],[0.625,\"rgb(66,146,198)\"],[0.75,\"rgb(33,113,181)\"],[0.875,\"rgb(8,81,156)\"],[1.0,\"rgb(8,48,107)\"]],\"connectgaps\":true,\"contours\":{\"coloring\":\"heatmap\"},\"hoverinfo\":\"none\",\"line\":{\"smoothing\":1.3},\"reversescale\":false,\"showscale\":false,\"x\":[0.000011809989311534392,0.000014063366777718176,0.000017345566642360933,0.000036464395589807184,0.0001040258761588385,0.00010507384024181397,0.000233596350262616,0.0003550304858128307,0.00037183641805732076,0.00040489662225846743,0.000462258900102083,0.0005504591314109793],\"y\":[0.08,0.1,0.2,0.30000000000000004,0.4,0.5,0.52],\"z\":[[null,null,null,null,null,null,null,null,null,null,null,null],[null,null,null,0.88775,null,null,null,null,null,null,0.8594166666666667,null],[null,null,0.8463333333333334,null,null,null,null,null,null,0.81,null,null],[null,null,null,null,0.8838333333333334,null,null,null,0.8434166666666667,null,null,null],[null,null,null,null,null,null,0.848,null,null,null,null,null],[null,0.7625,null,null,null,0.8775833333333334,null,0.5631666666666667,null,null,null,null],[null,null,null,null,null,null,null,null,null,null,null,null]],\"type\":\"contour\",\"xaxis\":\"x16\",\"yaxis\":\"y16\"},{\"marker\":{\"color\":\"black\",\"line\":{\"color\":\"Gray\",\"width\":2.0}},\"mode\":\"markers\",\"name\":\"Feasible Trial\",\"showlegend\":false,\"x\":[0.000462258900102083,0.00037183641805732076,0.000233596350262616,0.0003550304858128307,0.000036464395589807184,0.000014063366777718176,0.000017345566642360933,0.0001040258761588385,0.00040489662225846743,0.00010507384024181397],\"y\":[0.1,0.30000000000000004,0.4,0.5,0.1,0.5,0.2,0.30000000000000004,0.2,0.5],\"type\":\"scatter\",\"xaxis\":\"x16\",\"yaxis\":\"y16\"},{\"colorbar\":{\"title\":{\"text\":\"Objective Value\"}},\"colorscale\":[[0.0,\"rgb(247,251,255)\"],[0.125,\"rgb(222,235,247)\"],[0.25,\"rgb(198,219,239)\"],[0.375,\"rgb(158,202,225)\"],[0.5,\"rgb(107,174,214)\"],[0.625,\"rgb(66,146,198)\"],[0.75,\"rgb(33,113,181)\"],[0.875,\"rgb(8,81,156)\"],[1.0,\"rgb(8,48,107)\"]],\"connectgaps\":true,\"contours\":{\"coloring\":\"heatmap\"},\"hoverinfo\":\"none\",\"line\":{\"smoothing\":1.3},\"reversescale\":false,\"showscale\":false,\"x\":[0.000011809989311534392,0.000014063366777718176,0.000017345566642360933,0.000036464395589807184,0.0001040258761588385,0.00010507384024181397,0.000233596350262616,0.0003550304858128307,0.00037183641805732076,0.00040489662225846743,0.000462258900102083,0.0005504591314109793],\"y\":[8.0,10,30,40,50,52.0],\"z\":[[null,null,null,null,null,null,null,null,null,null,null,null],[null,null,null,null,null,null,null,null,0.8434166666666667,null,null,null],[null,null,null,0.88775,0.8838333333333334,0.8775833333333334,0.848,0.5631666666666667,null,0.81,null,null],[null,null,null,null,null,null,null,null,null,null,0.8594166666666667,null],[null,0.7625,0.8463333333333334,null,null,null,null,null,null,null,null,null],[null,null,null,null,null,null,null,null,null,null,null,null]],\"type\":\"contour\",\"xaxis\":\"x24\",\"yaxis\":\"y24\"},{\"marker\":{\"color\":\"black\",\"line\":{\"color\":\"Gray\",\"width\":2.0}},\"mode\":\"markers\",\"name\":\"Feasible Trial\",\"showlegend\":false,\"x\":[0.000462258900102083,0.00037183641805732076,0.000233596350262616,0.0003550304858128307,0.000036464395589807184,0.000014063366777718176,0.000017345566642360933,0.0001040258761588385,0.00040489662225846743,0.00010507384024181397],\"y\":[40,10,30,30,30,50,50,30,30,30],\"type\":\"scatter\",\"xaxis\":\"x24\",\"yaxis\":\"y24\"},{\"colorbar\":{\"title\":{\"text\":\"Objective Value\"}},\"colorscale\":[[0.0,\"rgb(247,251,255)\"],[0.125,\"rgb(222,235,247)\"],[0.25,\"rgb(198,219,239)\"],[0.375,\"rgb(158,202,225)\"],[0.5,\"rgb(107,174,214)\"],[0.625,\"rgb(66,146,198)\"],[0.75,\"rgb(33,113,181)\"],[0.875,\"rgb(8,81,156)\"],[1.0,\"rgb(8,48,107)\"]],\"connectgaps\":true,\"contours\":{\"coloring\":\"heatmap\"},\"hoverinfo\":\"none\",\"line\":{\"smoothing\":1.3},\"reversescale\":false,\"showscale\":false,\"x\":[0.000011809989311534392,0.000014063366777718176,0.000017345566642360933,0.000036464395589807184,0.0001040258761588385,0.00010507384024181397,0.000233596350262616,0.0003550304858128307,0.00037183641805732076,0.00040489662225846743,0.000462258900102083,0.0005504591314109793],\"y\":[9.12130423728921e-6,0.000013726318898045866,0.000015339162591163613,0.000019870215385428627,0.00016480446427978953,0.0024810409748678114,0.0031130959561221226,0.010524574681335632,0.012130221181165156,0.016973078532467004,0.04869640941520897,0.07328145487027551],\"z\":[[null,null,null,null,null,null,null,null,null,null,null,null],[null,null,null,null,null,null,null,0.5631666666666667,null,null,null,null],[null,null,null,null,null,null,0.848,null,null,null,null,null],[null,0.7625,null,null,null,null,null,null,null,null,null,null],[null,null,null,null,null,null,null,null,0.8434166666666667,null,null,null],[null,null,null,null,null,null,null,null,null,null,0.8594166666666667,null],[null,null,0.8463333333333334,null,null,null,null,null,null,null,null,null],[null,null,null,null,null,null,null,null,null,0.81,null,null],[null,null,null,null,0.8838333333333334,null,null,null,null,null,null,null],[null,null,null,null,null,0.8775833333333334,null,null,null,null,null,null],[null,null,null,0.88775,null,null,null,null,null,null,null,null],[null,null,null,null,null,null,null,null,null,null,null,null]],\"type\":\"contour\",\"xaxis\":\"x32\",\"yaxis\":\"y32\"},{\"marker\":{\"color\":\"black\",\"line\":{\"color\":\"Gray\",\"width\":2.0}},\"mode\":\"markers\",\"name\":\"Feasible Trial\",\"showlegend\":false,\"x\":[0.000462258900102083,0.00037183641805732076,0.000233596350262616,0.0003550304858128307,0.000036464395589807184,0.000014063366777718176,0.000017345566642360933,0.0001040258761588385,0.00040489662225846743,0.00010507384024181397],\"y\":[0.0024810409748678114,0.00016480446427978953,0.000015339162591163613,0.000013726318898045866,0.04869640941520897,0.000019870215385428627,0.0031130959561221226,0.012130221181165156,0.010524574681335632,0.016973078532467004],\"type\":\"scatter\",\"xaxis\":\"x32\",\"yaxis\":\"y32\"},{\"colorbar\":{\"title\":{\"text\":\"Objective Value\"}},\"colorscale\":[[0.0,\"rgb(247,251,255)\"],[0.125,\"rgb(222,235,247)\"],[0.25,\"rgb(198,219,239)\"],[0.375,\"rgb(158,202,225)\"],[0.5,\"rgb(107,174,214)\"],[0.625,\"rgb(66,146,198)\"],[0.75,\"rgb(33,113,181)\"],[0.875,\"rgb(8,81,156)\"],[1.0,\"rgb(8,48,107)\"]],\"connectgaps\":true,\"contours\":{\"coloring\":\"heatmap\"},\"hoverinfo\":\"none\",\"line\":{\"smoothing\":1.3},\"reversescale\":false,\"showscale\":false,\"x\":[0.000011809989311534392,0.000014063366777718176,0.000017345566642360933,0.000036464395589807184,0.0001040258761588385,0.00010507384024181397,0.000233596350262616,0.0003550304858128307,0.00037183641805732076,0.00040489662225846743,0.000462258900102083,0.0005504591314109793],\"y\":[10.399999999999999,16,24,32,72,104,120,128,133.6],\"z\":[[null,null,null,null,null,null,null,null,null,null,null,null],[null,null,0.8463333333333334,null,null,null,null,0.5631666666666667,null,null,null,null],[null,0.7625,null,null,null,null,null,null,0.8434166666666667,null,null,null],[null,null,null,null,null,null,null,null,null,0.81,null,null],[null,null,null,null,null,null,0.848,null,null,null,null,null],[null,null,null,null,0.8838333333333334,null,null,null,null,null,null,null],[null,null,null,0.88775,null,0.8775833333333334,null,null,null,null,null,null],[null,null,null,null,null,null,null,null,null,null,0.8594166666666667,null],[null,null,null,null,null,null,null,null,null,null,null,null]],\"type\":\"contour\",\"xaxis\":\"x40\",\"yaxis\":\"y40\"},{\"marker\":{\"color\":\"black\",\"line\":{\"color\":\"Gray\",\"width\":2.0}},\"mode\":\"markers\",\"name\":\"Feasible Trial\",\"showlegend\":false,\"x\":[0.000462258900102083,0.00037183641805732076,0.000233596350262616,0.0003550304858128307,0.000036464395589807184,0.000014063366777718176,0.000017345566642360933,0.0001040258761588385,0.00040489662225846743,0.00010507384024181397],\"y\":[128,24,72,16,120,24,16,104,32,120],\"type\":\"scatter\",\"xaxis\":\"x40\",\"yaxis\":\"y40\"},{\"colorbar\":{\"title\":{\"text\":\"Objective Value\"}},\"colorscale\":[[0.0,\"rgb(247,251,255)\"],[0.125,\"rgb(222,235,247)\"],[0.25,\"rgb(198,219,239)\"],[0.375,\"rgb(158,202,225)\"],[0.5,\"rgb(107,174,214)\"],[0.625,\"rgb(66,146,198)\"],[0.75,\"rgb(33,113,181)\"],[0.875,\"rgb(8,81,156)\"],[1.0,\"rgb(8,48,107)\"]],\"connectgaps\":true,\"contours\":{\"coloring\":\"heatmap\"},\"hoverinfo\":\"none\",\"line\":{\"smoothing\":1.3},\"reversescale\":false,\"showscale\":false,\"x\":[0.000011809989311534392,0.000014063366777718176,0.000017345566642360933,0.000036464395589807184,0.0001040258761588385,0.00010507384024181397,0.000233596350262616,0.0003550304858128307,0.00037183641805732076,0.00040489662225846743,0.000462258900102083,0.0005504591314109793],\"y\":[0.8,1,2,3,4,5,5.2],\"z\":[[null,null,null,null,null,null,null,null,null,null,null,null],[null,null,null,null,null,0.8775833333333334,0.848,null,null,null,null,null],[null,null,0.8463333333333334,null,null,null,null,null,0.8434166666666667,null,0.8594166666666667,null],[null,0.7625,null,null,null,null,null,0.5631666666666667,null,null,null,null],[null,null,null,null,0.8838333333333334,null,null,null,null,null,null,null],[null,null,null,0.88775,null,null,null,null,null,0.81,null,null],[null,null,null,null,null,null,null,null,null,null,null,null]],\"type\":\"contour\",\"xaxis\":\"x48\",\"yaxis\":\"y48\"},{\"marker\":{\"color\":\"black\",\"line\":{\"color\":\"Gray\",\"width\":2.0}},\"mode\":\"markers\",\"name\":\"Feasible Trial\",\"showlegend\":false,\"x\":[0.000462258900102083,0.00037183641805732076,0.000233596350262616,0.0003550304858128307,0.000036464395589807184,0.000014063366777718176,0.000017345566642360933,0.0001040258761588385,0.00040489662225846743,0.00010507384024181397],\"y\":[2,2,1,3,5,3,2,4,5,1],\"type\":\"scatter\",\"xaxis\":\"x48\",\"yaxis\":\"y48\"},{\"colorbar\":{\"title\":{\"text\":\"Objective Value\"}},\"colorscale\":[[0.0,\"rgb(247,251,255)\"],[0.125,\"rgb(222,235,247)\"],[0.25,\"rgb(198,219,239)\"],[0.375,\"rgb(158,202,225)\"],[0.5,\"rgb(107,174,214)\"],[0.625,\"rgb(66,146,198)\"],[0.75,\"rgb(33,113,181)\"],[0.875,\"rgb(8,81,156)\"],[1.0,\"rgb(8,48,107)\"]],\"connectgaps\":true,\"contours\":{\"coloring\":\"heatmap\"},\"hoverinfo\":\"none\",\"line\":{\"smoothing\":1.3},\"reversescale\":false,\"showscale\":false,\"x\":[0.000011809989311534392,0.000014063366777718176,0.000017345566642360933,0.000036464395589807184,0.0001040258761588385,0.00010507384024181397,0.000233596350262616,0.0003550304858128307,0.00037183641805732076,0.00040489662225846743,0.000462258900102083,0.0005504591314109793],\"y\":[\"Adam\",\"RMSprop\",\"SGD\"],\"z\":[[null,null,null,null,null,null,0.848,null,null,null,null,null],[null,0.7625,null,null,null,null,null,0.5631666666666667,0.8434166666666667,0.81,0.8594166666666667,null],[null,null,0.8463333333333334,0.88775,0.8838333333333334,0.8775833333333334,null,null,null,null,null,null]],\"type\":\"contour\",\"xaxis\":\"x56\",\"yaxis\":\"y56\"},{\"marker\":{\"color\":\"black\",\"line\":{\"color\":\"Gray\",\"width\":2.0}},\"mode\":\"markers\",\"name\":\"Feasible Trial\",\"showlegend\":false,\"x\":[0.000462258900102083,0.00037183641805732076,0.000233596350262616,0.0003550304858128307,0.000036464395589807184,0.000014063366777718176,0.000017345566642360933,0.0001040258761588385,0.00040489662225846743,0.00010507384024181397],\"y\":[\"RMSprop\",\"RMSprop\",\"Adam\",\"RMSprop\",\"SGD\",\"RMSprop\",\"SGD\",\"SGD\",\"RMSprop\",\"SGD\"],\"type\":\"scatter\",\"xaxis\":\"x56\",\"yaxis\":\"y56\"},{\"type\":\"scatter\",\"xaxis\":\"x64\",\"yaxis\":\"y64\"}],                        {\"template\":{\"data\":{\"histogram2dcontour\":[{\"type\":\"histogram2dcontour\",\"colorbar\":{\"outlinewidth\":0,\"ticks\":\"\"},\"colorscale\":[[0.0,\"#0d0887\"],[0.1111111111111111,\"#46039f\"],[0.2222222222222222,\"#7201a8\"],[0.3333333333333333,\"#9c179e\"],[0.4444444444444444,\"#bd3786\"],[0.5555555555555556,\"#d8576b\"],[0.6666666666666666,\"#ed7953\"],[0.7777777777777778,\"#fb9f3a\"],[0.8888888888888888,\"#fdca26\"],[1.0,\"#f0f921\"]]}],\"choropleth\":[{\"type\":\"choropleth\",\"colorbar\":{\"outlinewidth\":0,\"ticks\":\"\"}}],\"histogram2d\":[{\"type\":\"histogram2d\",\"colorbar\":{\"outlinewidth\":0,\"ticks\":\"\"},\"colorscale\":[[0.0,\"#0d0887\"],[0.1111111111111111,\"#46039f\"],[0.2222222222222222,\"#7201a8\"],[0.3333333333333333,\"#9c179e\"],[0.4444444444444444,\"#bd3786\"],[0.5555555555555556,\"#d8576b\"],[0.6666666666666666,\"#ed7953\"],[0.7777777777777778,\"#fb9f3a\"],[0.8888888888888888,\"#fdca26\"],[1.0,\"#f0f921\"]]}],\"heatmap\":[{\"type\":\"heatmap\",\"colorbar\":{\"outlinewidth\":0,\"ticks\":\"\"},\"colorscale\":[[0.0,\"#0d0887\"],[0.1111111111111111,\"#46039f\"],[0.2222222222222222,\"#7201a8\"],[0.3333333333333333,\"#9c179e\"],[0.4444444444444444,\"#bd3786\"],[0.5555555555555556,\"#d8576b\"],[0.6666666666666666,\"#ed7953\"],[0.7777777777777778,\"#fb9f3a\"],[0.8888888888888888,\"#fdca26\"],[1.0,\"#f0f921\"]]}],\"heatmapgl\":[{\"type\":\"heatmapgl\",\"colorbar\":{\"outlinewidth\":0,\"ticks\":\"\"},\"colorscale\":[[0.0,\"#0d0887\"],[0.1111111111111111,\"#46039f\"],[0.2222222222222222,\"#7201a8\"],[0.3333333333333333,\"#9c179e\"],[0.4444444444444444,\"#bd3786\"],[0.5555555555555556,\"#d8576b\"],[0.6666666666666666,\"#ed7953\"],[0.7777777777777778,\"#fb9f3a\"],[0.8888888888888888,\"#fdca26\"],[1.0,\"#f0f921\"]]}],\"contourcarpet\":[{\"type\":\"contourcarpet\",\"colorbar\":{\"outlinewidth\":0,\"ticks\":\"\"}}],\"contour\":[{\"type\":\"contour\",\"colorbar\":{\"outlinewidth\":0,\"ticks\":\"\"},\"colorscale\":[[0.0,\"#0d0887\"],[0.1111111111111111,\"#46039f\"],[0.2222222222222222,\"#7201a8\"],[0.3333333333333333,\"#9c179e\"],[0.4444444444444444,\"#bd3786\"],[0.5555555555555556,\"#d8576b\"],[0.6666666666666666,\"#ed7953\"],[0.7777777777777778,\"#fb9f3a\"],[0.8888888888888888,\"#fdca26\"],[1.0,\"#f0f921\"]]}],\"surface\":[{\"type\":\"surface\",\"colorbar\":{\"outlinewidth\":0,\"ticks\":\"\"},\"colorscale\":[[0.0,\"#0d0887\"],[0.1111111111111111,\"#46039f\"],[0.2222222222222222,\"#7201a8\"],[0.3333333333333333,\"#9c179e\"],[0.4444444444444444,\"#bd3786\"],[0.5555555555555556,\"#d8576b\"],[0.6666666666666666,\"#ed7953\"],[0.7777777777777778,\"#fb9f3a\"],[0.8888888888888888,\"#fdca26\"],[1.0,\"#f0f921\"]]}],\"mesh3d\":[{\"type\":\"mesh3d\",\"colorbar\":{\"outlinewidth\":0,\"ticks\":\"\"}}],\"scatter\":[{\"fillpattern\":{\"fillmode\":\"overlay\",\"size\":10,\"solidity\":0.2},\"type\":\"scatter\"}],\"parcoords\":[{\"type\":\"parcoords\",\"line\":{\"colorbar\":{\"outlinewidth\":0,\"ticks\":\"\"}}}],\"scatterpolargl\":[{\"type\":\"scatterpolargl\",\"marker\":{\"colorbar\":{\"outlinewidth\":0,\"ticks\":\"\"}}}],\"bar\":[{\"error_x\":{\"color\":\"#2a3f5f\"},\"error_y\":{\"color\":\"#2a3f5f\"},\"marker\":{\"line\":{\"color\":\"#E5ECF6\",\"width\":0.5},\"pattern\":{\"fillmode\":\"overlay\",\"size\":10,\"solidity\":0.2}},\"type\":\"bar\"}],\"scattergeo\":[{\"type\":\"scattergeo\",\"marker\":{\"colorbar\":{\"outlinewidth\":0,\"ticks\":\"\"}}}],\"scatterpolar\":[{\"type\":\"scatterpolar\",\"marker\":{\"colorbar\":{\"outlinewidth\":0,\"ticks\":\"\"}}}],\"histogram\":[{\"marker\":{\"pattern\":{\"fillmode\":\"overlay\",\"size\":10,\"solidity\":0.2}},\"type\":\"histogram\"}],\"scattergl\":[{\"type\":\"scattergl\",\"marker\":{\"colorbar\":{\"outlinewidth\":0,\"ticks\":\"\"}}}],\"scatter3d\":[{\"type\":\"scatter3d\",\"line\":{\"colorbar\":{\"outlinewidth\":0,\"ticks\":\"\"}},\"marker\":{\"colorbar\":{\"outlinewidth\":0,\"ticks\":\"\"}}}],\"scattermapbox\":[{\"type\":\"scattermapbox\",\"marker\":{\"colorbar\":{\"outlinewidth\":0,\"ticks\":\"\"}}}],\"scatterternary\":[{\"type\":\"scatterternary\",\"marker\":{\"colorbar\":{\"outlinewidth\":0,\"ticks\":\"\"}}}],\"scattercarpet\":[{\"type\":\"scattercarpet\",\"marker\":{\"colorbar\":{\"outlinewidth\":0,\"ticks\":\"\"}}}],\"carpet\":[{\"aaxis\":{\"endlinecolor\":\"#2a3f5f\",\"gridcolor\":\"white\",\"linecolor\":\"white\",\"minorgridcolor\":\"white\",\"startlinecolor\":\"#2a3f5f\"},\"baxis\":{\"endlinecolor\":\"#2a3f5f\",\"gridcolor\":\"white\",\"linecolor\":\"white\",\"minorgridcolor\":\"white\",\"startlinecolor\":\"#2a3f5f\"},\"type\":\"carpet\"}],\"table\":[{\"cells\":{\"fill\":{\"color\":\"#EBF0F8\"},\"line\":{\"color\":\"white\"}},\"header\":{\"fill\":{\"color\":\"#C8D4E3\"},\"line\":{\"color\":\"white\"}},\"type\":\"table\"}],\"barpolar\":[{\"marker\":{\"line\":{\"color\":\"#E5ECF6\",\"width\":0.5},\"pattern\":{\"fillmode\":\"overlay\",\"size\":10,\"solidity\":0.2}},\"type\":\"barpolar\"}],\"pie\":[{\"automargin\":true,\"type\":\"pie\"}]},\"layout\":{\"autotypenumbers\":\"strict\",\"colorway\":[\"#636efa\",\"#EF553B\",\"#00cc96\",\"#ab63fa\",\"#FFA15A\",\"#19d3f3\",\"#FF6692\",\"#B6E880\",\"#FF97FF\",\"#FECB52\"],\"font\":{\"color\":\"#2a3f5f\"},\"hovermode\":\"closest\",\"hoverlabel\":{\"align\":\"left\"},\"paper_bgcolor\":\"white\",\"plot_bgcolor\":\"#E5ECF6\",\"polar\":{\"bgcolor\":\"#E5ECF6\",\"angularaxis\":{\"gridcolor\":\"white\",\"linecolor\":\"white\",\"ticks\":\"\"},\"radialaxis\":{\"gridcolor\":\"white\",\"linecolor\":\"white\",\"ticks\":\"\"}},\"ternary\":{\"bgcolor\":\"#E5ECF6\",\"aaxis\":{\"gridcolor\":\"white\",\"linecolor\":\"white\",\"ticks\":\"\"},\"baxis\":{\"gridcolor\":\"white\",\"linecolor\":\"white\",\"ticks\":\"\"},\"caxis\":{\"gridcolor\":\"white\",\"linecolor\":\"white\",\"ticks\":\"\"}},\"coloraxis\":{\"colorbar\":{\"outlinewidth\":0,\"ticks\":\"\"}},\"colorscale\":{\"sequential\":[[0.0,\"#0d0887\"],[0.1111111111111111,\"#46039f\"],[0.2222222222222222,\"#7201a8\"],[0.3333333333333333,\"#9c179e\"],[0.4444444444444444,\"#bd3786\"],[0.5555555555555556,\"#d8576b\"],[0.6666666666666666,\"#ed7953\"],[0.7777777777777778,\"#fb9f3a\"],[0.8888888888888888,\"#fdca26\"],[1.0,\"#f0f921\"]],\"sequentialminus\":[[0.0,\"#0d0887\"],[0.1111111111111111,\"#46039f\"],[0.2222222222222222,\"#7201a8\"],[0.3333333333333333,\"#9c179e\"],[0.4444444444444444,\"#bd3786\"],[0.5555555555555556,\"#d8576b\"],[0.6666666666666666,\"#ed7953\"],[0.7777777777777778,\"#fb9f3a\"],[0.8888888888888888,\"#fdca26\"],[1.0,\"#f0f921\"]],\"diverging\":[[0,\"#8e0152\"],[0.1,\"#c51b7d\"],[0.2,\"#de77ae\"],[0.3,\"#f1b6da\"],[0.4,\"#fde0ef\"],[0.5,\"#f7f7f7\"],[0.6,\"#e6f5d0\"],[0.7,\"#b8e186\"],[0.8,\"#7fbc41\"],[0.9,\"#4d9221\"],[1,\"#276419\"]]},\"xaxis\":{\"gridcolor\":\"white\",\"linecolor\":\"white\",\"ticks\":\"\",\"title\":{\"standoff\":15},\"zerolinecolor\":\"white\",\"automargin\":true,\"zerolinewidth\":2},\"yaxis\":{\"gridcolor\":\"white\",\"linecolor\":\"white\",\"ticks\":\"\",\"title\":{\"standoff\":15},\"zerolinecolor\":\"white\",\"automargin\":true,\"zerolinewidth\":2},\"scene\":{\"xaxis\":{\"backgroundcolor\":\"#E5ECF6\",\"gridcolor\":\"white\",\"linecolor\":\"white\",\"showbackground\":true,\"ticks\":\"\",\"zerolinecolor\":\"white\",\"gridwidth\":2},\"yaxis\":{\"backgroundcolor\":\"#E5ECF6\",\"gridcolor\":\"white\",\"linecolor\":\"white\",\"showbackground\":true,\"ticks\":\"\",\"zerolinecolor\":\"white\",\"gridwidth\":2},\"zaxis\":{\"backgroundcolor\":\"#E5ECF6\",\"gridcolor\":\"white\",\"linecolor\":\"white\",\"showbackground\":true,\"ticks\":\"\",\"zerolinecolor\":\"white\",\"gridwidth\":2}},\"shapedefaults\":{\"line\":{\"color\":\"#2a3f5f\"}},\"annotationdefaults\":{\"arrowcolor\":\"#2a3f5f\",\"arrowhead\":0,\"arrowwidth\":1},\"geo\":{\"bgcolor\":\"white\",\"landcolor\":\"#E5ECF6\",\"subunitcolor\":\"white\",\"showland\":true,\"showlakes\":true,\"lakecolor\":\"white\"},\"title\":{\"x\":0.05},\"mapbox\":{\"style\":\"light\"}}},\"xaxis\":{\"anchor\":\"y\",\"domain\":[0.0,0.103125],\"matches\":\"x57\",\"showticklabels\":false,\"range\":[10.399999999999999,133.6]},\"yaxis\":{\"anchor\":\"x\",\"domain\":[0.9078125000000001,1.0],\"range\":[10.399999999999999,133.6],\"title\":{\"text\":\"batch_size\"}},\"xaxis2\":{\"anchor\":\"y2\",\"domain\":[0.128125,0.23124999999999998],\"matches\":\"x58\",\"showticklabels\":false,\"range\":[0.08,0.52]},\"yaxis2\":{\"anchor\":\"x2\",\"domain\":[0.9078125000000001,1.0],\"matches\":\"y\",\"showticklabels\":false,\"range\":[10.399999999999999,133.6]},\"xaxis3\":{\"anchor\":\"y3\",\"domain\":[0.25625,0.359375],\"matches\":\"x59\",\"showticklabels\":false,\"range\":[8.0,52.0]},\"yaxis3\":{\"anchor\":\"x3\",\"domain\":[0.9078125000000001,1.0],\"matches\":\"y\",\"showticklabels\":false,\"range\":[10.399999999999999,133.6]},\"xaxis4\":{\"anchor\":\"y4\",\"domain\":[0.38437499999999997,0.48749999999999993],\"matches\":\"x60\",\"showticklabels\":false,\"range\":[-5.039943058320706,-1.135005917125953],\"type\":\"log\"},\"yaxis4\":{\"anchor\":\"x4\",\"domain\":[0.9078125000000001,1.0],\"matches\":\"y\",\"showticklabels\":false,\"range\":[10.399999999999999,133.6]},\"xaxis5\":{\"anchor\":\"y5\",\"domain\":[0.5125,0.615625],\"matches\":\"x61\",\"showticklabels\":false,\"range\":[10.399999999999999,133.6]},\"yaxis5\":{\"anchor\":\"x5\",\"domain\":[0.9078125000000001,1.0],\"matches\":\"y\",\"showticklabels\":false,\"range\":[10.399999999999999,133.6]},\"xaxis6\":{\"anchor\":\"y6\",\"domain\":[0.640625,0.74375],\"matches\":\"x62\",\"showticklabels\":false,\"range\":[0.8,5.2]},\"yaxis6\":{\"anchor\":\"x6\",\"domain\":[0.9078125000000001,1.0],\"matches\":\"y\",\"showticklabels\":false,\"range\":[10.399999999999999,133.6]},\"xaxis7\":{\"anchor\":\"y7\",\"domain\":[0.7687499999999999,0.871875],\"matches\":\"x63\",\"showticklabels\":false,\"range\":[-0.1,2.1],\"type\":\"category\"},\"yaxis7\":{\"anchor\":\"x7\",\"domain\":[0.9078125000000001,1.0],\"matches\":\"y\",\"showticklabels\":false,\"range\":[10.399999999999999,133.6]},\"xaxis8\":{\"anchor\":\"y8\",\"domain\":[0.896875,1.0],\"matches\":\"x64\",\"showticklabels\":false,\"range\":[-4.927750495438453,-3.2592749194925235],\"type\":\"log\"},\"yaxis8\":{\"anchor\":\"x8\",\"domain\":[0.9078125000000001,1.0],\"matches\":\"y\",\"showticklabels\":false,\"range\":[10.399999999999999,133.6]},\"xaxis9\":{\"anchor\":\"y9\",\"domain\":[0.0,0.103125],\"matches\":\"x57\",\"showticklabels\":false,\"range\":[10.399999999999999,133.6]},\"yaxis9\":{\"anchor\":\"x9\",\"domain\":[0.7781250000000001,0.8703125],\"range\":[0.08,0.52],\"title\":{\"text\":\"dropout_rate\"}},\"xaxis10\":{\"anchor\":\"y10\",\"domain\":[0.128125,0.23124999999999998],\"matches\":\"x58\",\"showticklabels\":false,\"range\":[0.08,0.52]},\"yaxis10\":{\"anchor\":\"x10\",\"domain\":[0.7781250000000001,0.8703125],\"matches\":\"y9\",\"showticklabels\":false,\"range\":[0.08,0.52]},\"xaxis11\":{\"anchor\":\"y11\",\"domain\":[0.25625,0.359375],\"matches\":\"x59\",\"showticklabels\":false,\"range\":[8.0,52.0]},\"yaxis11\":{\"anchor\":\"x11\",\"domain\":[0.7781250000000001,0.8703125],\"matches\":\"y9\",\"showticklabels\":false,\"range\":[0.08,0.52]},\"xaxis12\":{\"anchor\":\"y12\",\"domain\":[0.38437499999999997,0.48749999999999993],\"matches\":\"x60\",\"showticklabels\":false,\"range\":[-5.039943058320706,-1.135005917125953],\"type\":\"log\"},\"yaxis12\":{\"anchor\":\"x12\",\"domain\":[0.7781250000000001,0.8703125],\"matches\":\"y9\",\"showticklabels\":false,\"range\":[0.08,0.52]},\"xaxis13\":{\"anchor\":\"y13\",\"domain\":[0.5125,0.615625],\"matches\":\"x61\",\"showticklabels\":false,\"range\":[10.399999999999999,133.6]},\"yaxis13\":{\"anchor\":\"x13\",\"domain\":[0.7781250000000001,0.8703125],\"matches\":\"y9\",\"showticklabels\":false,\"range\":[0.08,0.52]},\"xaxis14\":{\"anchor\":\"y14\",\"domain\":[0.640625,0.74375],\"matches\":\"x62\",\"showticklabels\":false,\"range\":[0.8,5.2]},\"yaxis14\":{\"anchor\":\"x14\",\"domain\":[0.7781250000000001,0.8703125],\"matches\":\"y9\",\"showticklabels\":false,\"range\":[0.08,0.52]},\"xaxis15\":{\"anchor\":\"y15\",\"domain\":[0.7687499999999999,0.871875],\"matches\":\"x63\",\"showticklabels\":false,\"range\":[-0.1,2.1],\"type\":\"category\"},\"yaxis15\":{\"anchor\":\"x15\",\"domain\":[0.7781250000000001,0.8703125],\"matches\":\"y9\",\"showticklabels\":false,\"range\":[0.08,0.52]},\"xaxis16\":{\"anchor\":\"y16\",\"domain\":[0.896875,1.0],\"matches\":\"x64\",\"showticklabels\":false,\"range\":[-4.927750495438453,-3.2592749194925235],\"type\":\"log\"},\"yaxis16\":{\"anchor\":\"x16\",\"domain\":[0.7781250000000001,0.8703125],\"matches\":\"y9\",\"showticklabels\":false,\"range\":[0.08,0.52]},\"xaxis17\":{\"anchor\":\"y17\",\"domain\":[0.0,0.103125],\"matches\":\"x57\",\"showticklabels\":false,\"range\":[10.399999999999999,133.6]},\"yaxis17\":{\"anchor\":\"x17\",\"domain\":[0.6484375,0.740625],\"range\":[8.0,52.0],\"title\":{\"text\":\"epochs\"}},\"xaxis18\":{\"anchor\":\"y18\",\"domain\":[0.128125,0.23124999999999998],\"matches\":\"x58\",\"showticklabels\":false,\"range\":[0.08,0.52]},\"yaxis18\":{\"anchor\":\"x18\",\"domain\":[0.6484375,0.740625],\"matches\":\"y17\",\"showticklabels\":false,\"range\":[8.0,52.0]},\"xaxis19\":{\"anchor\":\"y19\",\"domain\":[0.25625,0.359375],\"matches\":\"x59\",\"showticklabels\":false,\"range\":[8.0,52.0]},\"yaxis19\":{\"anchor\":\"x19\",\"domain\":[0.6484375,0.740625],\"matches\":\"y17\",\"showticklabels\":false,\"range\":[8.0,52.0]},\"xaxis20\":{\"anchor\":\"y20\",\"domain\":[0.38437499999999997,0.48749999999999993],\"matches\":\"x60\",\"showticklabels\":false,\"range\":[-5.039943058320706,-1.135005917125953],\"type\":\"log\"},\"yaxis20\":{\"anchor\":\"x20\",\"domain\":[0.6484375,0.740625],\"matches\":\"y17\",\"showticklabels\":false,\"range\":[8.0,52.0]},\"xaxis21\":{\"anchor\":\"y21\",\"domain\":[0.5125,0.615625],\"matches\":\"x61\",\"showticklabels\":false,\"range\":[10.399999999999999,133.6]},\"yaxis21\":{\"anchor\":\"x21\",\"domain\":[0.6484375,0.740625],\"matches\":\"y17\",\"showticklabels\":false,\"range\":[8.0,52.0]},\"xaxis22\":{\"anchor\":\"y22\",\"domain\":[0.640625,0.74375],\"matches\":\"x62\",\"showticklabels\":false,\"range\":[0.8,5.2]},\"yaxis22\":{\"anchor\":\"x22\",\"domain\":[0.6484375,0.740625],\"matches\":\"y17\",\"showticklabels\":false,\"range\":[8.0,52.0]},\"xaxis23\":{\"anchor\":\"y23\",\"domain\":[0.7687499999999999,0.871875],\"matches\":\"x63\",\"showticklabels\":false,\"range\":[-0.1,2.1],\"type\":\"category\"},\"yaxis23\":{\"anchor\":\"x23\",\"domain\":[0.6484375,0.740625],\"matches\":\"y17\",\"showticklabels\":false,\"range\":[8.0,52.0]},\"xaxis24\":{\"anchor\":\"y24\",\"domain\":[0.896875,1.0],\"matches\":\"x64\",\"showticklabels\":false,\"range\":[-4.927750495438453,-3.2592749194925235],\"type\":\"log\"},\"yaxis24\":{\"anchor\":\"x24\",\"domain\":[0.6484375,0.740625],\"matches\":\"y17\",\"showticklabels\":false,\"range\":[8.0,52.0]},\"xaxis25\":{\"anchor\":\"y25\",\"domain\":[0.0,0.103125],\"matches\":\"x57\",\"showticklabels\":false,\"range\":[10.399999999999999,133.6]},\"yaxis25\":{\"anchor\":\"x25\",\"domain\":[0.51875,0.6109375],\"range\":[-5.039943058320706,-1.135005917125953],\"type\":\"log\",\"title\":{\"text\":\"learning_rate\"}},\"xaxis26\":{\"anchor\":\"y26\",\"domain\":[0.128125,0.23124999999999998],\"matches\":\"x58\",\"showticklabels\":false,\"range\":[0.08,0.52]},\"yaxis26\":{\"anchor\":\"x26\",\"domain\":[0.51875,0.6109375],\"matches\":\"y25\",\"showticklabels\":false,\"range\":[-5.039943058320706,-1.135005917125953],\"type\":\"log\"},\"xaxis27\":{\"anchor\":\"y27\",\"domain\":[0.25625,0.359375],\"matches\":\"x59\",\"showticklabels\":false,\"range\":[8.0,52.0]},\"yaxis27\":{\"anchor\":\"x27\",\"domain\":[0.51875,0.6109375],\"matches\":\"y25\",\"showticklabels\":false,\"range\":[-5.039943058320706,-1.135005917125953],\"type\":\"log\"},\"xaxis28\":{\"anchor\":\"y28\",\"domain\":[0.38437499999999997,0.48749999999999993],\"matches\":\"x60\",\"showticklabels\":false,\"range\":[-5.039943058320706,-1.135005917125953],\"type\":\"log\"},\"yaxis28\":{\"anchor\":\"x28\",\"domain\":[0.51875,0.6109375],\"matches\":\"y25\",\"showticklabels\":false,\"range\":[-5.039943058320706,-1.135005917125953],\"type\":\"log\"},\"xaxis29\":{\"anchor\":\"y29\",\"domain\":[0.5125,0.615625],\"matches\":\"x61\",\"showticklabels\":false,\"range\":[10.399999999999999,133.6]},\"yaxis29\":{\"anchor\":\"x29\",\"domain\":[0.51875,0.6109375],\"matches\":\"y25\",\"showticklabels\":false,\"range\":[-5.039943058320706,-1.135005917125953],\"type\":\"log\"},\"xaxis30\":{\"anchor\":\"y30\",\"domain\":[0.640625,0.74375],\"matches\":\"x62\",\"showticklabels\":false,\"range\":[0.8,5.2]},\"yaxis30\":{\"anchor\":\"x30\",\"domain\":[0.51875,0.6109375],\"matches\":\"y25\",\"showticklabels\":false,\"range\":[-5.039943058320706,-1.135005917125953],\"type\":\"log\"},\"xaxis31\":{\"anchor\":\"y31\",\"domain\":[0.7687499999999999,0.871875],\"matches\":\"x63\",\"showticklabels\":false,\"range\":[-0.1,2.1],\"type\":\"category\"},\"yaxis31\":{\"anchor\":\"x31\",\"domain\":[0.51875,0.6109375],\"matches\":\"y25\",\"showticklabels\":false,\"range\":[-5.039943058320706,-1.135005917125953],\"type\":\"log\"},\"xaxis32\":{\"anchor\":\"y32\",\"domain\":[0.896875,1.0],\"matches\":\"x64\",\"showticklabels\":false,\"range\":[-4.927750495438453,-3.2592749194925235],\"type\":\"log\"},\"yaxis32\":{\"anchor\":\"x32\",\"domain\":[0.51875,0.6109375],\"matches\":\"y25\",\"showticklabels\":false,\"range\":[-5.039943058320706,-1.135005917125953],\"type\":\"log\"},\"xaxis33\":{\"anchor\":\"y33\",\"domain\":[0.0,0.103125],\"matches\":\"x57\",\"showticklabels\":false,\"range\":[10.399999999999999,133.6]},\"yaxis33\":{\"anchor\":\"x33\",\"domain\":[0.38906250000000003,0.48125000000000007],\"range\":[10.399999999999999,133.6],\"title\":{\"text\":\"neurons_per_layer\"}},\"xaxis34\":{\"anchor\":\"y34\",\"domain\":[0.128125,0.23124999999999998],\"matches\":\"x58\",\"showticklabels\":false,\"range\":[0.08,0.52]},\"yaxis34\":{\"anchor\":\"x34\",\"domain\":[0.38906250000000003,0.48125000000000007],\"matches\":\"y33\",\"showticklabels\":false,\"range\":[10.399999999999999,133.6]},\"xaxis35\":{\"anchor\":\"y35\",\"domain\":[0.25625,0.359375],\"matches\":\"x59\",\"showticklabels\":false,\"range\":[8.0,52.0]},\"yaxis35\":{\"anchor\":\"x35\",\"domain\":[0.38906250000000003,0.48125000000000007],\"matches\":\"y33\",\"showticklabels\":false,\"range\":[10.399999999999999,133.6]},\"xaxis36\":{\"anchor\":\"y36\",\"domain\":[0.38437499999999997,0.48749999999999993],\"matches\":\"x60\",\"showticklabels\":false,\"range\":[-5.039943058320706,-1.135005917125953],\"type\":\"log\"},\"yaxis36\":{\"anchor\":\"x36\",\"domain\":[0.38906250000000003,0.48125000000000007],\"matches\":\"y33\",\"showticklabels\":false,\"range\":[10.399999999999999,133.6]},\"xaxis37\":{\"anchor\":\"y37\",\"domain\":[0.5125,0.615625],\"matches\":\"x61\",\"showticklabels\":false,\"range\":[10.399999999999999,133.6]},\"yaxis37\":{\"anchor\":\"x37\",\"domain\":[0.38906250000000003,0.48125000000000007],\"matches\":\"y33\",\"showticklabels\":false,\"range\":[10.399999999999999,133.6]},\"xaxis38\":{\"anchor\":\"y38\",\"domain\":[0.640625,0.74375],\"matches\":\"x62\",\"showticklabels\":false,\"range\":[0.8,5.2]},\"yaxis38\":{\"anchor\":\"x38\",\"domain\":[0.38906250000000003,0.48125000000000007],\"matches\":\"y33\",\"showticklabels\":false,\"range\":[10.399999999999999,133.6]},\"xaxis39\":{\"anchor\":\"y39\",\"domain\":[0.7687499999999999,0.871875],\"matches\":\"x63\",\"showticklabels\":false,\"range\":[-0.1,2.1],\"type\":\"category\"},\"yaxis39\":{\"anchor\":\"x39\",\"domain\":[0.38906250000000003,0.48125000000000007],\"matches\":\"y33\",\"showticklabels\":false,\"range\":[10.399999999999999,133.6]},\"xaxis40\":{\"anchor\":\"y40\",\"domain\":[0.896875,1.0],\"matches\":\"x64\",\"showticklabels\":false,\"range\":[-4.927750495438453,-3.2592749194925235],\"type\":\"log\"},\"yaxis40\":{\"anchor\":\"x40\",\"domain\":[0.38906250000000003,0.48125000000000007],\"matches\":\"y33\",\"showticklabels\":false,\"range\":[10.399999999999999,133.6]},\"xaxis41\":{\"anchor\":\"y41\",\"domain\":[0.0,0.103125],\"matches\":\"x57\",\"showticklabels\":false,\"range\":[10.399999999999999,133.6]},\"yaxis41\":{\"anchor\":\"x41\",\"domain\":[0.259375,0.3515625],\"range\":[0.8,5.2],\"title\":{\"text\":\"num_hidden_layers\"}},\"xaxis42\":{\"anchor\":\"y42\",\"domain\":[0.128125,0.23124999999999998],\"matches\":\"x58\",\"showticklabels\":false,\"range\":[0.08,0.52]},\"yaxis42\":{\"anchor\":\"x42\",\"domain\":[0.259375,0.3515625],\"matches\":\"y41\",\"showticklabels\":false,\"range\":[0.8,5.2]},\"xaxis43\":{\"anchor\":\"y43\",\"domain\":[0.25625,0.359375],\"matches\":\"x59\",\"showticklabels\":false,\"range\":[8.0,52.0]},\"yaxis43\":{\"anchor\":\"x43\",\"domain\":[0.259375,0.3515625],\"matches\":\"y41\",\"showticklabels\":false,\"range\":[0.8,5.2]},\"xaxis44\":{\"anchor\":\"y44\",\"domain\":[0.38437499999999997,0.48749999999999993],\"matches\":\"x60\",\"showticklabels\":false,\"range\":[-5.039943058320706,-1.135005917125953],\"type\":\"log\"},\"yaxis44\":{\"anchor\":\"x44\",\"domain\":[0.259375,0.3515625],\"matches\":\"y41\",\"showticklabels\":false,\"range\":[0.8,5.2]},\"xaxis45\":{\"anchor\":\"y45\",\"domain\":[0.5125,0.615625],\"matches\":\"x61\",\"showticklabels\":false,\"range\":[10.399999999999999,133.6]},\"yaxis45\":{\"anchor\":\"x45\",\"domain\":[0.259375,0.3515625],\"matches\":\"y41\",\"showticklabels\":false,\"range\":[0.8,5.2]},\"xaxis46\":{\"anchor\":\"y46\",\"domain\":[0.640625,0.74375],\"matches\":\"x62\",\"showticklabels\":false,\"range\":[0.8,5.2]},\"yaxis46\":{\"anchor\":\"x46\",\"domain\":[0.259375,0.3515625],\"matches\":\"y41\",\"showticklabels\":false,\"range\":[0.8,5.2]},\"xaxis47\":{\"anchor\":\"y47\",\"domain\":[0.7687499999999999,0.871875],\"matches\":\"x63\",\"showticklabels\":false,\"range\":[-0.1,2.1],\"type\":\"category\"},\"yaxis47\":{\"anchor\":\"x47\",\"domain\":[0.259375,0.3515625],\"matches\":\"y41\",\"showticklabels\":false,\"range\":[0.8,5.2]},\"xaxis48\":{\"anchor\":\"y48\",\"domain\":[0.896875,1.0],\"matches\":\"x64\",\"showticklabels\":false,\"range\":[-4.927750495438453,-3.2592749194925235],\"type\":\"log\"},\"yaxis48\":{\"anchor\":\"x48\",\"domain\":[0.259375,0.3515625],\"matches\":\"y41\",\"showticklabels\":false,\"range\":[0.8,5.2]},\"xaxis49\":{\"anchor\":\"y49\",\"domain\":[0.0,0.103125],\"matches\":\"x57\",\"showticklabels\":false,\"range\":[10.399999999999999,133.6]},\"yaxis49\":{\"anchor\":\"x49\",\"domain\":[0.1296875,0.22187500000000002],\"range\":[-0.1,2.1],\"type\":\"category\",\"title\":{\"text\":\"optimizer\"}},\"xaxis50\":{\"anchor\":\"y50\",\"domain\":[0.128125,0.23124999999999998],\"matches\":\"x58\",\"showticklabels\":false,\"range\":[0.08,0.52]},\"yaxis50\":{\"anchor\":\"x50\",\"domain\":[0.1296875,0.22187500000000002],\"matches\":\"y49\",\"showticklabels\":false,\"range\":[-0.1,2.1],\"type\":\"category\"},\"xaxis51\":{\"anchor\":\"y51\",\"domain\":[0.25625,0.359375],\"matches\":\"x59\",\"showticklabels\":false,\"range\":[8.0,52.0]},\"yaxis51\":{\"anchor\":\"x51\",\"domain\":[0.1296875,0.22187500000000002],\"matches\":\"y49\",\"showticklabels\":false,\"range\":[-0.1,2.1],\"type\":\"category\"},\"xaxis52\":{\"anchor\":\"y52\",\"domain\":[0.38437499999999997,0.48749999999999993],\"matches\":\"x60\",\"showticklabels\":false,\"range\":[-5.039943058320706,-1.135005917125953],\"type\":\"log\"},\"yaxis52\":{\"anchor\":\"x52\",\"domain\":[0.1296875,0.22187500000000002],\"matches\":\"y49\",\"showticklabels\":false,\"range\":[-0.1,2.1],\"type\":\"category\"},\"xaxis53\":{\"anchor\":\"y53\",\"domain\":[0.5125,0.615625],\"matches\":\"x61\",\"showticklabels\":false,\"range\":[10.399999999999999,133.6]},\"yaxis53\":{\"anchor\":\"x53\",\"domain\":[0.1296875,0.22187500000000002],\"matches\":\"y49\",\"showticklabels\":false,\"range\":[-0.1,2.1],\"type\":\"category\"},\"xaxis54\":{\"anchor\":\"y54\",\"domain\":[0.640625,0.74375],\"matches\":\"x62\",\"showticklabels\":false,\"range\":[0.8,5.2]},\"yaxis54\":{\"anchor\":\"x54\",\"domain\":[0.1296875,0.22187500000000002],\"matches\":\"y49\",\"showticklabels\":false,\"range\":[-0.1,2.1],\"type\":\"category\"},\"xaxis55\":{\"anchor\":\"y55\",\"domain\":[0.7687499999999999,0.871875],\"matches\":\"x63\",\"showticklabels\":false,\"range\":[-0.1,2.1],\"type\":\"category\"},\"yaxis55\":{\"anchor\":\"x55\",\"domain\":[0.1296875,0.22187500000000002],\"matches\":\"y49\",\"showticklabels\":false,\"range\":[-0.1,2.1],\"type\":\"category\"},\"xaxis56\":{\"anchor\":\"y56\",\"domain\":[0.896875,1.0],\"matches\":\"x64\",\"showticklabels\":false,\"range\":[-4.927750495438453,-3.2592749194925235],\"type\":\"log\"},\"yaxis56\":{\"anchor\":\"x56\",\"domain\":[0.1296875,0.22187500000000002],\"matches\":\"y49\",\"showticklabels\":false,\"range\":[-0.1,2.1],\"type\":\"category\"},\"xaxis57\":{\"anchor\":\"y57\",\"domain\":[0.0,0.103125],\"range\":[10.399999999999999,133.6],\"title\":{\"text\":\"batch_size\"}},\"yaxis57\":{\"anchor\":\"x57\",\"domain\":[0.0,0.0921875],\"range\":[-4.927750495438453,-3.2592749194925235],\"type\":\"log\",\"title\":{\"text\":\"weight_decay\"}},\"xaxis58\":{\"anchor\":\"y58\",\"domain\":[0.128125,0.23124999999999998],\"range\":[0.08,0.52],\"title\":{\"text\":\"dropout_rate\"}},\"yaxis58\":{\"anchor\":\"x58\",\"domain\":[0.0,0.0921875],\"matches\":\"y57\",\"showticklabels\":false,\"range\":[-4.927750495438453,-3.2592749194925235],\"type\":\"log\"},\"xaxis59\":{\"anchor\":\"y59\",\"domain\":[0.25625,0.359375],\"range\":[8.0,52.0],\"title\":{\"text\":\"epochs\"}},\"yaxis59\":{\"anchor\":\"x59\",\"domain\":[0.0,0.0921875],\"matches\":\"y57\",\"showticklabels\":false,\"range\":[-4.927750495438453,-3.2592749194925235],\"type\":\"log\"},\"xaxis60\":{\"anchor\":\"y60\",\"domain\":[0.38437499999999997,0.48749999999999993],\"range\":[-5.039943058320706,-1.135005917125953],\"type\":\"log\",\"title\":{\"text\":\"learning_rate\"}},\"yaxis60\":{\"anchor\":\"x60\",\"domain\":[0.0,0.0921875],\"matches\":\"y57\",\"showticklabels\":false,\"range\":[-4.927750495438453,-3.2592749194925235],\"type\":\"log\"},\"xaxis61\":{\"anchor\":\"y61\",\"domain\":[0.5125,0.615625],\"range\":[10.399999999999999,133.6],\"title\":{\"text\":\"neurons_per_layer\"}},\"yaxis61\":{\"anchor\":\"x61\",\"domain\":[0.0,0.0921875],\"matches\":\"y57\",\"showticklabels\":false,\"range\":[-4.927750495438453,-3.2592749194925235],\"type\":\"log\"},\"xaxis62\":{\"anchor\":\"y62\",\"domain\":[0.640625,0.74375],\"range\":[0.8,5.2],\"title\":{\"text\":\"num_hidden_layers\"}},\"yaxis62\":{\"anchor\":\"x62\",\"domain\":[0.0,0.0921875],\"matches\":\"y57\",\"showticklabels\":false,\"range\":[-4.927750495438453,-3.2592749194925235],\"type\":\"log\"},\"xaxis63\":{\"anchor\":\"y63\",\"domain\":[0.7687499999999999,0.871875],\"range\":[-0.1,2.1],\"type\":\"category\",\"title\":{\"text\":\"optimizer\"}},\"yaxis63\":{\"anchor\":\"x63\",\"domain\":[0.0,0.0921875],\"matches\":\"y57\",\"showticklabels\":false,\"range\":[-4.927750495438453,-3.2592749194925235],\"type\":\"log\"},\"xaxis64\":{\"anchor\":\"y64\",\"domain\":[0.896875,1.0],\"range\":[-4.927750495438453,-3.2592749194925235],\"type\":\"log\",\"title\":{\"text\":\"weight_decay\"}},\"yaxis64\":{\"anchor\":\"x64\",\"domain\":[0.0,0.0921875],\"matches\":\"y57\",\"showticklabels\":false,\"range\":[-4.927750495438453,-3.2592749194925235],\"type\":\"log\"},\"title\":{\"text\":\"Contour Plot\"}},                        {\"responsive\": true}                    ).then(function(){\n",
              "                            \n",
              "var gd = document.getElementById('24c55d82-5362-4768-83eb-d8476140e4ca');\n",
              "var x = new MutationObserver(function (mutations, observer) {{\n",
              "        var display = window.getComputedStyle(gd).display;\n",
              "        if (!display || display === 'none') {{\n",
              "            console.log([gd, 'removed!']);\n",
              "            Plotly.purge(gd);\n",
              "            observer.disconnect();\n",
              "        }}\n",
              "}});\n",
              "\n",
              "// Listen for the removal of the full notebook cells\n",
              "var notebookContainer = gd.closest('#notebook-container');\n",
              "if (notebookContainer) {{\n",
              "    x.observe(notebookContainer, {childList: true});\n",
              "}}\n",
              "\n",
              "// Listen for the clearing of the current output cell\n",
              "var outputEl = gd.closest('.output');\n",
              "if (outputEl) {{\n",
              "    x.observe(outputEl, {childList: true});\n",
              "}}\n",
              "\n",
              "                        })                };                            </script>        </div>\n",
              "</body>\n",
              "</html>"
            ]
          },
          "metadata": {},
          "output_type": "display_data"
        }
      ],
      "source": [
        "# 4. Contour Plot\n",
        "plot_contour(study).show()"
      ]
    },
    {
      "cell_type": "code",
      "execution_count": 28,
      "metadata": {
        "colab": {
          "base_uri": "https://localhost:8080/",
          "height": 542
        },
        "id": "twPzVye0IbQv",
        "outputId": "6831684a-77a5-490b-aaf1-d8490a35680d"
      },
      "outputs": [
        {
          "data": {
            "text/html": [
              "<html>\n",
              "<head><meta charset=\"utf-8\" /></head>\n",
              "<body>\n",
              "    <div>            <script src=\"https://cdnjs.cloudflare.com/ajax/libs/mathjax/2.7.5/MathJax.js?config=TeX-AMS-MML_SVG\"></script><script type=\"text/javascript\">if (window.MathJax && window.MathJax.Hub && window.MathJax.Hub.Config) {window.MathJax.Hub.Config({SVG: {font: \"STIX-Web\"}});}</script>                <script type=\"text/javascript\">window.PlotlyConfig = {MathJaxConfig: 'local'};</script>\n",
              "        <script charset=\"utf-8\" src=\"https://cdn.plot.ly/plotly-2.35.2.min.js\"></script>                <div id=\"21bd4b8d-5227-4d9d-93ef-eec68c942d9b\" class=\"plotly-graph-div\" style=\"height:525px; width:100%;\"></div>            <script type=\"text/javascript\">                                    window.PLOTLYENV=window.PLOTLYENV || {};                                    if (document.getElementById(\"21bd4b8d-5227-4d9d-93ef-eec68c942d9b\")) {                    Plotly.newPlot(                        \"21bd4b8d-5227-4d9d-93ef-eec68c942d9b\",                        [{\"cliponaxis\":false,\"hovertemplate\":[\"epochs (IntDistribution): 0.04237853296320128\\u003cextra\\u003e\\u003c\\u002fextra\\u003e\",\"weight_decay (FloatDistribution): 0.05227901010307539\\u003cextra\\u003e\\u003c\\u002fextra\\u003e\",\"optimizer (CategoricalDistribution): 0.0721310349888966\\u003cextra\\u003e\\u003c\\u002fextra\\u003e\",\"num_hidden_layers (IntDistribution): 0.11536402682038924\\u003cextra\\u003e\\u003c\\u002fextra\\u003e\",\"dropout_rate (FloatDistribution): 0.11849672991796902\\u003cextra\\u003e\\u003c\\u002fextra\\u003e\",\"batch_size (CategoricalDistribution): 0.15606966895170474\\u003cextra\\u003e\\u003c\\u002fextra\\u003e\",\"learning_rate (FloatDistribution): 0.17295189491417795\\u003cextra\\u003e\\u003c\\u002fextra\\u003e\",\"neurons_per_layer (IntDistribution): 0.2703291013405859\\u003cextra\\u003e\\u003c\\u002fextra\\u003e\"],\"name\":\"Objective Value\",\"orientation\":\"h\",\"text\":[\"0.04\",\"0.05\",\"0.07\",\"0.12\",\"0.12\",\"0.16\",\"0.17\",\"0.27\"],\"textposition\":\"outside\",\"x\":[0.04237853296320128,0.05227901010307539,0.0721310349888966,0.11536402682038924,0.11849672991796902,0.15606966895170474,0.17295189491417795,0.2703291013405859],\"y\":[\"epochs\",\"weight_decay\",\"optimizer\",\"num_hidden_layers\",\"dropout_rate\",\"batch_size\",\"learning_rate\",\"neurons_per_layer\"],\"type\":\"bar\"}],                        {\"title\":{\"text\":\"Hyperparameter Importances\"},\"xaxis\":{\"title\":{\"text\":\"Hyperparameter Importance\"}},\"yaxis\":{\"title\":{\"text\":\"Hyperparameter\"}},\"template\":{\"data\":{\"histogram2dcontour\":[{\"type\":\"histogram2dcontour\",\"colorbar\":{\"outlinewidth\":0,\"ticks\":\"\"},\"colorscale\":[[0.0,\"#0d0887\"],[0.1111111111111111,\"#46039f\"],[0.2222222222222222,\"#7201a8\"],[0.3333333333333333,\"#9c179e\"],[0.4444444444444444,\"#bd3786\"],[0.5555555555555556,\"#d8576b\"],[0.6666666666666666,\"#ed7953\"],[0.7777777777777778,\"#fb9f3a\"],[0.8888888888888888,\"#fdca26\"],[1.0,\"#f0f921\"]]}],\"choropleth\":[{\"type\":\"choropleth\",\"colorbar\":{\"outlinewidth\":0,\"ticks\":\"\"}}],\"histogram2d\":[{\"type\":\"histogram2d\",\"colorbar\":{\"outlinewidth\":0,\"ticks\":\"\"},\"colorscale\":[[0.0,\"#0d0887\"],[0.1111111111111111,\"#46039f\"],[0.2222222222222222,\"#7201a8\"],[0.3333333333333333,\"#9c179e\"],[0.4444444444444444,\"#bd3786\"],[0.5555555555555556,\"#d8576b\"],[0.6666666666666666,\"#ed7953\"],[0.7777777777777778,\"#fb9f3a\"],[0.8888888888888888,\"#fdca26\"],[1.0,\"#f0f921\"]]}],\"heatmap\":[{\"type\":\"heatmap\",\"colorbar\":{\"outlinewidth\":0,\"ticks\":\"\"},\"colorscale\":[[0.0,\"#0d0887\"],[0.1111111111111111,\"#46039f\"],[0.2222222222222222,\"#7201a8\"],[0.3333333333333333,\"#9c179e\"],[0.4444444444444444,\"#bd3786\"],[0.5555555555555556,\"#d8576b\"],[0.6666666666666666,\"#ed7953\"],[0.7777777777777778,\"#fb9f3a\"],[0.8888888888888888,\"#fdca26\"],[1.0,\"#f0f921\"]]}],\"heatmapgl\":[{\"type\":\"heatmapgl\",\"colorbar\":{\"outlinewidth\":0,\"ticks\":\"\"},\"colorscale\":[[0.0,\"#0d0887\"],[0.1111111111111111,\"#46039f\"],[0.2222222222222222,\"#7201a8\"],[0.3333333333333333,\"#9c179e\"],[0.4444444444444444,\"#bd3786\"],[0.5555555555555556,\"#d8576b\"],[0.6666666666666666,\"#ed7953\"],[0.7777777777777778,\"#fb9f3a\"],[0.8888888888888888,\"#fdca26\"],[1.0,\"#f0f921\"]]}],\"contourcarpet\":[{\"type\":\"contourcarpet\",\"colorbar\":{\"outlinewidth\":0,\"ticks\":\"\"}}],\"contour\":[{\"type\":\"contour\",\"colorbar\":{\"outlinewidth\":0,\"ticks\":\"\"},\"colorscale\":[[0.0,\"#0d0887\"],[0.1111111111111111,\"#46039f\"],[0.2222222222222222,\"#7201a8\"],[0.3333333333333333,\"#9c179e\"],[0.4444444444444444,\"#bd3786\"],[0.5555555555555556,\"#d8576b\"],[0.6666666666666666,\"#ed7953\"],[0.7777777777777778,\"#fb9f3a\"],[0.8888888888888888,\"#fdca26\"],[1.0,\"#f0f921\"]]}],\"surface\":[{\"type\":\"surface\",\"colorbar\":{\"outlinewidth\":0,\"ticks\":\"\"},\"colorscale\":[[0.0,\"#0d0887\"],[0.1111111111111111,\"#46039f\"],[0.2222222222222222,\"#7201a8\"],[0.3333333333333333,\"#9c179e\"],[0.4444444444444444,\"#bd3786\"],[0.5555555555555556,\"#d8576b\"],[0.6666666666666666,\"#ed7953\"],[0.7777777777777778,\"#fb9f3a\"],[0.8888888888888888,\"#fdca26\"],[1.0,\"#f0f921\"]]}],\"mesh3d\":[{\"type\":\"mesh3d\",\"colorbar\":{\"outlinewidth\":0,\"ticks\":\"\"}}],\"scatter\":[{\"fillpattern\":{\"fillmode\":\"overlay\",\"size\":10,\"solidity\":0.2},\"type\":\"scatter\"}],\"parcoords\":[{\"type\":\"parcoords\",\"line\":{\"colorbar\":{\"outlinewidth\":0,\"ticks\":\"\"}}}],\"scatterpolargl\":[{\"type\":\"scatterpolargl\",\"marker\":{\"colorbar\":{\"outlinewidth\":0,\"ticks\":\"\"}}}],\"bar\":[{\"error_x\":{\"color\":\"#2a3f5f\"},\"error_y\":{\"color\":\"#2a3f5f\"},\"marker\":{\"line\":{\"color\":\"#E5ECF6\",\"width\":0.5},\"pattern\":{\"fillmode\":\"overlay\",\"size\":10,\"solidity\":0.2}},\"type\":\"bar\"}],\"scattergeo\":[{\"type\":\"scattergeo\",\"marker\":{\"colorbar\":{\"outlinewidth\":0,\"ticks\":\"\"}}}],\"scatterpolar\":[{\"type\":\"scatterpolar\",\"marker\":{\"colorbar\":{\"outlinewidth\":0,\"ticks\":\"\"}}}],\"histogram\":[{\"marker\":{\"pattern\":{\"fillmode\":\"overlay\",\"size\":10,\"solidity\":0.2}},\"type\":\"histogram\"}],\"scattergl\":[{\"type\":\"scattergl\",\"marker\":{\"colorbar\":{\"outlinewidth\":0,\"ticks\":\"\"}}}],\"scatter3d\":[{\"type\":\"scatter3d\",\"line\":{\"colorbar\":{\"outlinewidth\":0,\"ticks\":\"\"}},\"marker\":{\"colorbar\":{\"outlinewidth\":0,\"ticks\":\"\"}}}],\"scattermapbox\":[{\"type\":\"scattermapbox\",\"marker\":{\"colorbar\":{\"outlinewidth\":0,\"ticks\":\"\"}}}],\"scatterternary\":[{\"type\":\"scatterternary\",\"marker\":{\"colorbar\":{\"outlinewidth\":0,\"ticks\":\"\"}}}],\"scattercarpet\":[{\"type\":\"scattercarpet\",\"marker\":{\"colorbar\":{\"outlinewidth\":0,\"ticks\":\"\"}}}],\"carpet\":[{\"aaxis\":{\"endlinecolor\":\"#2a3f5f\",\"gridcolor\":\"white\",\"linecolor\":\"white\",\"minorgridcolor\":\"white\",\"startlinecolor\":\"#2a3f5f\"},\"baxis\":{\"endlinecolor\":\"#2a3f5f\",\"gridcolor\":\"white\",\"linecolor\":\"white\",\"minorgridcolor\":\"white\",\"startlinecolor\":\"#2a3f5f\"},\"type\":\"carpet\"}],\"table\":[{\"cells\":{\"fill\":{\"color\":\"#EBF0F8\"},\"line\":{\"color\":\"white\"}},\"header\":{\"fill\":{\"color\":\"#C8D4E3\"},\"line\":{\"color\":\"white\"}},\"type\":\"table\"}],\"barpolar\":[{\"marker\":{\"line\":{\"color\":\"#E5ECF6\",\"width\":0.5},\"pattern\":{\"fillmode\":\"overlay\",\"size\":10,\"solidity\":0.2}},\"type\":\"barpolar\"}],\"pie\":[{\"automargin\":true,\"type\":\"pie\"}]},\"layout\":{\"autotypenumbers\":\"strict\",\"colorway\":[\"#636efa\",\"#EF553B\",\"#00cc96\",\"#ab63fa\",\"#FFA15A\",\"#19d3f3\",\"#FF6692\",\"#B6E880\",\"#FF97FF\",\"#FECB52\"],\"font\":{\"color\":\"#2a3f5f\"},\"hovermode\":\"closest\",\"hoverlabel\":{\"align\":\"left\"},\"paper_bgcolor\":\"white\",\"plot_bgcolor\":\"#E5ECF6\",\"polar\":{\"bgcolor\":\"#E5ECF6\",\"angularaxis\":{\"gridcolor\":\"white\",\"linecolor\":\"white\",\"ticks\":\"\"},\"radialaxis\":{\"gridcolor\":\"white\",\"linecolor\":\"white\",\"ticks\":\"\"}},\"ternary\":{\"bgcolor\":\"#E5ECF6\",\"aaxis\":{\"gridcolor\":\"white\",\"linecolor\":\"white\",\"ticks\":\"\"},\"baxis\":{\"gridcolor\":\"white\",\"linecolor\":\"white\",\"ticks\":\"\"},\"caxis\":{\"gridcolor\":\"white\",\"linecolor\":\"white\",\"ticks\":\"\"}},\"coloraxis\":{\"colorbar\":{\"outlinewidth\":0,\"ticks\":\"\"}},\"colorscale\":{\"sequential\":[[0.0,\"#0d0887\"],[0.1111111111111111,\"#46039f\"],[0.2222222222222222,\"#7201a8\"],[0.3333333333333333,\"#9c179e\"],[0.4444444444444444,\"#bd3786\"],[0.5555555555555556,\"#d8576b\"],[0.6666666666666666,\"#ed7953\"],[0.7777777777777778,\"#fb9f3a\"],[0.8888888888888888,\"#fdca26\"],[1.0,\"#f0f921\"]],\"sequentialminus\":[[0.0,\"#0d0887\"],[0.1111111111111111,\"#46039f\"],[0.2222222222222222,\"#7201a8\"],[0.3333333333333333,\"#9c179e\"],[0.4444444444444444,\"#bd3786\"],[0.5555555555555556,\"#d8576b\"],[0.6666666666666666,\"#ed7953\"],[0.7777777777777778,\"#fb9f3a\"],[0.8888888888888888,\"#fdca26\"],[1.0,\"#f0f921\"]],\"diverging\":[[0,\"#8e0152\"],[0.1,\"#c51b7d\"],[0.2,\"#de77ae\"],[0.3,\"#f1b6da\"],[0.4,\"#fde0ef\"],[0.5,\"#f7f7f7\"],[0.6,\"#e6f5d0\"],[0.7,\"#b8e186\"],[0.8,\"#7fbc41\"],[0.9,\"#4d9221\"],[1,\"#276419\"]]},\"xaxis\":{\"gridcolor\":\"white\",\"linecolor\":\"white\",\"ticks\":\"\",\"title\":{\"standoff\":15},\"zerolinecolor\":\"white\",\"automargin\":true,\"zerolinewidth\":2},\"yaxis\":{\"gridcolor\":\"white\",\"linecolor\":\"white\",\"ticks\":\"\",\"title\":{\"standoff\":15},\"zerolinecolor\":\"white\",\"automargin\":true,\"zerolinewidth\":2},\"scene\":{\"xaxis\":{\"backgroundcolor\":\"#E5ECF6\",\"gridcolor\":\"white\",\"linecolor\":\"white\",\"showbackground\":true,\"ticks\":\"\",\"zerolinecolor\":\"white\",\"gridwidth\":2},\"yaxis\":{\"backgroundcolor\":\"#E5ECF6\",\"gridcolor\":\"white\",\"linecolor\":\"white\",\"showbackground\":true,\"ticks\":\"\",\"zerolinecolor\":\"white\",\"gridwidth\":2},\"zaxis\":{\"backgroundcolor\":\"#E5ECF6\",\"gridcolor\":\"white\",\"linecolor\":\"white\",\"showbackground\":true,\"ticks\":\"\",\"zerolinecolor\":\"white\",\"gridwidth\":2}},\"shapedefaults\":{\"line\":{\"color\":\"#2a3f5f\"}},\"annotationdefaults\":{\"arrowcolor\":\"#2a3f5f\",\"arrowhead\":0,\"arrowwidth\":1},\"geo\":{\"bgcolor\":\"white\",\"landcolor\":\"#E5ECF6\",\"subunitcolor\":\"white\",\"showland\":true,\"showlakes\":true,\"lakecolor\":\"white\"},\"title\":{\"x\":0.05},\"mapbox\":{\"style\":\"light\"}}}},                        {\"responsive\": true}                    ).then(function(){\n",
              "                            \n",
              "var gd = document.getElementById('21bd4b8d-5227-4d9d-93ef-eec68c942d9b');\n",
              "var x = new MutationObserver(function (mutations, observer) {{\n",
              "        var display = window.getComputedStyle(gd).display;\n",
              "        if (!display || display === 'none') {{\n",
              "            console.log([gd, 'removed!']);\n",
              "            Plotly.purge(gd);\n",
              "            observer.disconnect();\n",
              "        }}\n",
              "}});\n",
              "\n",
              "// Listen for the removal of the full notebook cells\n",
              "var notebookContainer = gd.closest('#notebook-container');\n",
              "if (notebookContainer) {{\n",
              "    x.observe(notebookContainer, {childList: true});\n",
              "}}\n",
              "\n",
              "// Listen for the clearing of the current output cell\n",
              "var outputEl = gd.closest('.output');\n",
              "if (outputEl) {{\n",
              "    x.observe(outputEl, {childList: true});\n",
              "}}\n",
              "\n",
              "                        })                };                            </script>        </div>\n",
              "</body>\n",
              "</html>"
            ]
          },
          "metadata": {},
          "output_type": "display_data"
        }
      ],
      "source": [
        "# 5. Hyperparameter Importance\n",
        "plot_param_importances(study).show()"
      ]
    }
  ],
  "metadata": {
    "accelerator": "GPU",
    "colab": {
      "gpuType": "T4",
      "provenance": []
    },
    "kernelspec": {
      "display_name": "Python 3",
      "name": "python3"
    },
    "language_info": {
      "name": "python"
    }
  },
  "nbformat": 4,
  "nbformat_minor": 0
}
